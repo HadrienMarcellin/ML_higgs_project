{
 "cells": [
  {
   "cell_type": "code",
   "execution_count": 56,
   "metadata": {},
   "outputs": [
    {
     "name": "stdout",
     "output_type": "stream",
     "text": [
      "The autoreload extension is already loaded. To reload it, use:\n",
      "  %reload_ext autoreload\n"
     ]
    },
    {
     "name": "stderr",
     "output_type": "stream",
     "text": [
      "[autoreload of ML_methods failed: Traceback (most recent call last):\n",
      "  File \"/Users/ana/anaconda3/lib/python3.6/site-packages/IPython/extensions/autoreload.py\", line 245, in check\n",
      "    superreload(m, reload, self.old_objects)\n",
      "  File \"/Users/ana/anaconda3/lib/python3.6/site-packages/IPython/extensions/autoreload.py\", line 368, in superreload\n",
      "    module = reload(module)\n",
      "  File \"/Users/ana/anaconda3/lib/python3.6/imp.py\", line 315, in reload\n",
      "    return importlib.reload(module)\n",
      "  File \"/Users/ana/anaconda3/lib/python3.6/importlib/__init__.py\", line 166, in reload\n",
      "    _bootstrap._exec(spec, module)\n",
      "  File \"<frozen importlib._bootstrap>\", line 618, in _exec\n",
      "  File \"<frozen importlib._bootstrap_external>\", line 674, in exec_module\n",
      "  File \"<frozen importlib._bootstrap_external>\", line 781, in get_code\n",
      "  File \"<frozen importlib._bootstrap_external>\", line 741, in source_to_code\n",
      "  File \"<frozen importlib._bootstrap>\", line 219, in _call_with_frames_removed\n",
      "  File \"/Users/ana/Desktop/projet1/ML_higgs_project/ML_methods.py\", line 702\n",
      "    y_pred = predict_labels(ws, x_tr)\n",
      "         ^\n",
      "SyntaxError: invalid syntax\n",
      "]\n"
     ]
    }
   ],
   "source": [
    "import numpy as np\n",
    "import math\n",
    "import csv\n",
    "from proj1_helpers import *\n",
    "from Hadrien import *\n",
    "from ML_methods import *\n",
    "from features_engineering import *\n",
    "from correlation import *\n",
    "import matplotlib.pyplot as plt\n",
    "\n",
    "\n",
    "%load_ext autoreload\n",
    "%autoreload 2"
   ]
  },
  {
   "cell_type": "markdown",
   "metadata": {},
   "source": [
    "### load Data"
   ]
  },
  {
   "cell_type": "code",
   "execution_count": 4,
   "metadata": {},
   "outputs": [
    {
     "name": "stdout",
     "output_type": "stream",
     "text": [
      "y has shape (5000,)\n",
      "X has shape (5000, 30)\n"
     ]
    }
   ],
   "source": [
    "y, tx, ids = load_csv_data(\"data_csv/train.csv\", sub_sample=True)\n",
    "print(\"y has shape {0}\".format(y.shape))\n",
    "print(\"X has shape {0}\".format(tx.shape))"
   ]
  },
  {
   "cell_type": "markdown",
   "metadata": {},
   "source": [
    "-> we can observe some (3 at all) different patterns of NAN values -> essayer de déterminer si ces values ont une corrélation avec le label:\n",
    "- pattern 1: feature 0: 840 NAN -> 16.8% NAN\n",
    "- pattern 2: features 23,24,25: 1985 NAN -> 39.7% NAN\n",
    "- pattern 3: features 4,5,6,12,26,27,28: 3525 NAN -> 70.5 % NAN\n",
    "\n",
    "\n",
    "Also :\n",
    "- 562 samples de p1 font parti de p2.\n",
    "- 734 samples de p1 font parti de p3.\n",
    "- 0 samples de p2 font parti de p1.\n",
    "- 1423 sample de p2 font parti de p3\n",
    "- 0 samples de p3 font parti de p1.\n",
    "- 0 samples de p3 font parti de p2.\n",
    "\n",
    "Also:\n",
    "- p2 inter p3 = 1985\n",
    "- p1 union p3 union p2 = 3631"
   ]
  },
  {
   "cell_type": "markdown",
   "metadata": {},
   "source": [
    "## Mets les outliers à NAN"
   ]
  },
  {
   "cell_type": "code",
   "execution_count": 5,
   "metadata": {},
   "outputs": [],
   "source": [
    "tx_nan = transform_to_nan(tx, -900)"
   ]
  },
  {
   "cell_type": "markdown",
   "metadata": {},
   "source": [
    "## Feature 22 engineering"
   ]
  },
  {
   "cell_type": "code",
   "execution_count": 23,
   "metadata": {},
   "outputs": [],
   "source": [
    "txx = tx_nan.copy()\n",
    "\n",
    "#ajoute des vecteurs booleens pour chaque valeur (0.0, 1.0, 2.0 ou 3.0) de la feature 22\n",
    "tx0 = new_feature_PRI_jet_num(txx, 0.0)\n",
    "tx1 = new_feature_PRI_jet_num(tx0, 1.0)\n",
    "tx2 = new_feature_PRI_jet_num(tx1, 2.0)\n",
    "tx3 = new_feature_PRI_jet_num(tx2, 3.0)\n",
    "\n",
    "#enlever la colonne de la feature 22 with \"delete(matrice, indice, colonne = 1)\"\n",
    "tx3_final = np.delete(tx3, 11, 1)\n",
    "\n",
    "xx = tx3_final.copy()"
   ]
  },
  {
   "cell_type": "markdown",
   "metadata": {},
   "source": [
    "## Divise DATAset depending on NAN patterns"
   ]
  },
  {
   "cell_type": "code",
   "execution_count": 24,
   "metadata": {},
   "outputs": [],
   "source": [
    "from NAN_Pattern_Decomposition import decompose_dataset_according_to_NAN_pattern\n",
    "\n",
    "p0, y0, p1, y1, p2, y2, p3, y3 = decompose_dataset_according_to_NAN_pattern(xx, y)"
   ]
  },
  {
   "cell_type": "markdown",
   "metadata": {},
   "source": [
    "## Put NAN at mean"
   ]
  },
  {
   "cell_type": "code",
   "execution_count": 25,
   "metadata": {},
   "outputs": [
    {
     "name": "stdout",
     "output_type": "stream",
     "text": [
      "(2737, 33)\n"
     ]
    },
    {
     "name": "stderr",
     "output_type": "stream",
     "text": [
      "/Users/ana/Desktop/projet1/ML_higgs_project/ML_methods.py:99: RuntimeWarning: Mean of empty slice\n",
      "  mean = np.nanmean(t, axis = 0)\n",
      "/Users/ana/Desktop/projet1/ML_higgs_project/ML_methods.py:102: RuntimeWarning: Mean of empty slice\n",
      "  column[np.isnan(column)] = np.nanmean(column)\n"
     ]
    }
   ],
   "source": [
    "p0_nan_mean, mean =transform_to_mean(p0)\n",
    "p1_nan_mean, mean =transform_to_mean(p1)\n",
    "p2_nan_mean, mean =transform_to_mean(p2)\n",
    "p3_nan_mean, mean =transform_to_mean(p3)\n",
    "#warning parce qu'on a des colonnes remplies de NAN\n",
    "print(p0_nan_mean.shape)"
   ]
  },
  {
   "cell_type": "markdown",
   "metadata": {},
   "source": [
    "# Feature Engineering"
   ]
  },
  {
   "cell_type": "markdown",
   "metadata": {},
   "source": [
    "#### -> ajouter a la fin de la matrice de chaque groupe les differentes transformations"
   ]
  },
  {
   "cell_type": "code",
   "execution_count": 33,
   "metadata": {},
   "outputs": [],
   "source": [
    "def add_feature_eng(dataset):\n",
    "    \n",
    "    tx_ = dataset.copy()\n",
    "    features = list(range(30-1))   #-1 car on a enleve la colonne 22     \n",
    "\n",
    "    # ajouter sin\n",
    "    tx_sin = transform_feature_sin(tx_, features)\n",
    "    print(np.shape(tx_sin))\n",
    "\n",
    "    #ajouter cos\n",
    "    tx_cos = transform_feature_cos(tx_sin, features)\n",
    "    print(np.shape(tx_cos))\n",
    "\n",
    "    #ajouter log\n",
    "    tx_log = transform_feature_log(tx_cos, features)\n",
    "    print(np.shape(tx_log))\n",
    "\n",
    "    #ajouter x^2\n",
    "    tx_pow2 = transform_feature_power(tx_log, features, 2)\n",
    "    print(np.shape(tx_pow2))\n",
    "\n",
    "    #ajouter x^3\n",
    "    tx_pow3 = transform_feature_power(tx_pow2, features, 3)\n",
    "    print(np.shape(tx_pow3))\n",
    "\n",
    "    #ajouter sqrt\n",
    "    tx_sqrt = transform_feature_sqrt(tx_pow3, features)\n",
    "    print(np.shape(tx_sqrt))\n",
    "    \n",
    "    #standardize\n",
    "    tx_stand, tx_mean, tx_srd = standardize_with_nan(tx_sqrt)\n",
    "    \n",
    "    dataset_eng = tx_stand.copy()\n",
    "    \n",
    "    return dataset_eng"
   ]
  },
  {
   "cell_type": "markdown",
   "metadata": {},
   "source": [
    "# Ridge Regression"
   ]
  },
  {
   "cell_type": "code",
   "execution_count": 41,
   "metadata": {},
   "outputs": [],
   "source": [
    "from train_model import *"
   ]
  },
  {
   "cell_type": "markdown",
   "metadata": {},
   "source": [
    "### p0"
   ]
  },
  {
   "cell_type": "code",
   "execution_count": 55,
   "metadata": {},
   "outputs": [
    {
     "name": "stdout",
     "output_type": "stream",
     "text": [
      "(2737, 62)\n",
      "(2737, 91)\n",
      "(2737, 120)\n",
      "(2737, 149)\n",
      "(2737, 178)\n",
      "(2737, 207)\n"
     ]
    },
    {
     "ename": "NameError",
     "evalue": "name 'prediction_ridge_lambda_fixed' is not defined",
     "output_type": "error",
     "traceback": [
      "\u001b[0;31m---------------------------------------------------------------------------\u001b[0m",
      "\u001b[0;31mNameError\u001b[0m                                 Traceback (most recent call last)",
      "\u001b[0;32m<ipython-input-55-5084a99ddc8b>\u001b[0m in \u001b[0;36m<module>\u001b[0;34m()\u001b[0m\n\u001b[1;32m      2\u001b[0m \u001b[0;31m#ridge_regression_exploration(y0, p0_processed, 0.8, np.logspace(-10, 10, 30))\u001b[0m\u001b[0;34m\u001b[0m\u001b[0;34m\u001b[0m\u001b[0m\n\u001b[1;32m      3\u001b[0m \u001b[0;31m#calcul de l'accuracy\u001b[0m\u001b[0;34m\u001b[0m\u001b[0;34m\u001b[0m\u001b[0m\n\u001b[0;32m----> 4\u001b[0;31m \u001b[0mws\u001b[0m \u001b[0;34m=\u001b[0m \u001b[0mprediction_ridge_lambda_fixed\u001b[0m\u001b[0;34m(\u001b[0m\u001b[0mp0_processed\u001b[0m\u001b[0;34m,\u001b[0m \u001b[0my0\u001b[0m\u001b[0;34m,\u001b[0m \u001b[0;36m0.8\u001b[0m\u001b[0;34m,\u001b[0m \u001b[0;36m1000\u001b[0m\u001b[0;34m,\u001b[0m \u001b[0;36m0.00000001\u001b[0m\u001b[0;34m)\u001b[0m\u001b[0;34m\u001b[0m\u001b[0m\n\u001b[0m\u001b[1;32m      5\u001b[0m \u001b[0mprint\u001b[0m\u001b[0;34m(\u001b[0m\u001b[0mws\u001b[0m\u001b[0;34m)\u001b[0m\u001b[0;34m\u001b[0m\u001b[0m\n",
      "\u001b[0;31mNameError\u001b[0m: name 'prediction_ridge_lambda_fixed' is not defined"
     ]
    }
   ],
   "source": [
    "p0_processed = add_feature_eng(p0_nan_mean)\n",
    "#ridge_regression_exploration(y0, p0_processed, 0.8, np.logspace(-10, 10, 30))\n",
    "#calcul de l'accuracy\n",
    "ws = prediction_ridge_lambda_fixed(p0_processed, y0, 0.8, 1000, 0.00000001)\n",
    "print(ws)"
   ]
  },
  {
   "cell_type": "code",
   "execution_count": null,
   "metadata": {},
   "outputs": [],
   "source": []
  }
 ],
 "metadata": {
  "kernelspec": {
   "display_name": "Python 3",
   "language": "python",
   "name": "python3"
  },
  "language_info": {
   "codemirror_mode": {
    "name": "ipython",
    "version": 3
   },
   "file_extension": ".py",
   "mimetype": "text/x-python",
   "name": "python",
   "nbconvert_exporter": "python",
   "pygments_lexer": "ipython3",
   "version": "3.6.5"
  }
 },
 "nbformat": 4,
 "nbformat_minor": 2
}
