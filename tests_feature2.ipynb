{
 "cells": [
  {
   "cell_type": "code",
   "execution_count": 41,
   "metadata": {},
   "outputs": [],
   "source": [
    "import numpy as np\n",
    "import math\n",
    "import csv\n",
    "from proj1_helpers import *\n",
    "from ML_methods import *\n",
    "import matplotlib.pyplot as plt"
   ]
  },
  {
   "cell_type": "code",
   "execution_count": 42,
   "metadata": {},
   "outputs": [],
   "source": [
    "y0, x0, ids = load_csv_data(\"data_csv/train.csv\", sub_sample=True)"
   ]
  },
  {
   "cell_type": "code",
   "execution_count": 44,
   "metadata": {},
   "outputs": [
    {
     "name": "stdout",
     "output_type": "stream",
     "text": [
      "y has shape (5000,)\n",
      "X has shape (5000, 30)\n"
     ]
    }
   ],
   "source": [
    "print(\"y has shape {0}\".format(y0.shape))\n",
    "print(\"X has shape {0}\".format(x0.shape))"
   ]
  },
  {
   "cell_type": "code",
   "execution_count": 45,
   "metadata": {},
   "outputs": [],
   "source": [
    "def standardize(x):\n",
    "    \"\"\"Standardize the original data set.\"\"\"\n",
    "    mean_x = np.mean(x)\n",
    "    x = x - mean_x\n",
    "    std_x = np.std(x)\n",
    "    x = x / std_x\n",
    "    return x, mean_x, std_x"
   ]
  },
  {
   "cell_type": "code",
   "execution_count": 46,
   "metadata": {},
   "outputs": [],
   "source": [
    "def build_model_data(X, y0):\n",
    "    y = y0\n",
    "    num_samples = len(y)\n",
    "    tx = np.c_[np.ones(num_samples), X[:,1]]\n",
    "    return y, tx"
   ]
  },
  {
   "cell_type": "code",
   "execution_count": 47,
   "metadata": {},
   "outputs": [],
   "source": [
    "x, mean_x, std_x = standardize(x0)\n",
    "y, tx = build_model_data(x, y0)"
   ]
  },
  {
   "cell_type": "code",
   "execution_count": 48,
   "metadata": {},
   "outputs": [
    {
     "name": "stdout",
     "output_type": "stream",
     "text": [
      "[[1.         0.52216332]\n",
      " [1.         0.57023752]\n",
      " [1.         0.46701408]\n",
      " ...\n",
      " [1.         0.41988261]\n",
      " [1.         0.50987096]\n",
      " [1.         0.41222068]]\n"
     ]
    }
   ],
   "source": [
    "tx.shape\n",
    "print(tx)"
   ]
  },
  {
   "cell_type": "code",
   "execution_count": 49,
   "metadata": {},
   "outputs": [
    {
     "name": "stdout",
     "output_type": "stream",
     "text": [
      "[ 1.80541406 -4.13951709]\n"
     ]
    }
   ],
   "source": [
    "#test least squares \n",
    "y0 = least_squares(y, tx)\n",
    "print(y0)"
   ]
  },
  {
   "cell_type": "code",
   "execution_count": null,
   "metadata": {},
   "outputs": [],
   "source": [
    "def build_polynome(x, degree):\n",
    "    #polynomial vector\n",
    "    polynome = np.ones(len(x), 1)\n",
    "    for degre in range(1, degree + 1):\n",
    "        polynome = np.c_[polynome, np.power(x,degre)]\n",
    "    return polynome"
   ]
  },
  {
   "cell_type": "code",
   "execution_count": null,
   "metadata": {},
   "outputs": [],
   "source": [
    "def polynomial_regression():\n",
    "    "
   ]
  }
 ],
 "metadata": {
  "kernelspec": {
   "display_name": "Python 3",
   "language": "python",
   "name": "python3"
  },
  "language_info": {
   "codemirror_mode": {
    "name": "ipython",
    "version": 3
   },
   "file_extension": ".py",
   "mimetype": "text/x-python",
   "name": "python",
   "nbconvert_exporter": "python",
   "pygments_lexer": "ipython3",
   "version": "3.6.5"
  }
 },
 "nbformat": 4,
 "nbformat_minor": 2
}
