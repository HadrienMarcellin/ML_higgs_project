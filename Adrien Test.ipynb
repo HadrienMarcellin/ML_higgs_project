{
 "cells": [
  {
   "cell_type": "code",
   "execution_count": 14,
   "metadata": {},
   "outputs": [
    {
     "name": "stdout",
     "output_type": "stream",
     "text": [
      "The autoreload extension is already loaded. To reload it, use:\n",
      "  %reload_ext autoreload\n"
     ]
    }
   ],
   "source": [
    "import numpy as np\n",
    "import math\n",
    "import csv\n",
    "from proj1_helpers import *\n",
    "from Hadrien import *\n",
    "from ML_methods import *\n",
    "from features_engineering import *\n",
    "import matplotlib.pyplot as plt\n",
    "\n",
    "\n",
    "%load_ext autoreload\n",
    "%autoreload 2"
   ]
  },
  {
   "cell_type": "code",
   "execution_count": 15,
   "metadata": {},
   "outputs": [],
   "source": [
    "y, tx, ids = load_csv_data(\"data_csv/train.csv\", sub_sample=True)"
   ]
  },
  {
   "cell_type": "code",
   "execution_count": 16,
   "metadata": {},
   "outputs": [
    {
     "name": "stdout",
     "output_type": "stream",
     "text": [
      "y has shape (5000,)\n",
      "X has shape (5000, 30)\n"
     ]
    }
   ],
   "source": [
    "print(\"y has shape {0}\".format(y.shape))\n",
    "print(\"X has shape {0}\".format(tx.shape))"
   ]
  },
  {
   "cell_type": "code",
   "execution_count": 17,
   "metadata": {},
   "outputs": [],
   "source": [
    "## TODO : remove NAN before standardization, or at least not consider them in np.mean() and np.std.\n",
    "tx_nan = transform_to_nan(tx, -900)\n",
    "tx_nan_norm, mean_x, std_x = standardize_with_nan(tx_nan)"
   ]
  },
  {
   "cell_type": "code",
   "execution_count": 18,
   "metadata": {},
   "outputs": [],
   "source": [
    "tx_0_norm = transform_nan_to_zero(tx_nan_norm)\n",
    "features_log = [0, 2, 3, 5, 9, 13, 16, 23, 29]\n",
    "features_sin_cos = [15, 18, 20, 25, 28]\n",
    "\n",
    "tx_0_norm_adujsted_log = transform_feature_log(tx_0_norm, features_log)\n",
    "tx_0_norm_adujsted_log_sin = transform_feature_sin(tx_0_norm_adujsted_log, features_sin_cos)\n",
    "tx_0_norm_adujsted_log_sin_cos = transform_feature_cos(tx_0_norm_adujsted_log_sin, features_sin_cos)\n",
    "\n",
    "txx = tx_0_norm_adujsted_log_sin_cos"
   ]
  },
  {
   "cell_type": "code",
   "execution_count": 19,
   "metadata": {},
   "outputs": [],
   "source": [
    "\n",
    "def split_data(x, y, ratio, myseed=1):\n",
    "    \"\"\"split the dataset based on the split ratio.\"\"\"\n",
    "    # set seed\n",
    "    np.random.seed(myseed)\n",
    "    # generate random indices\n",
    "    num_row = len(y)\n",
    "    indices = np.random.permutation(num_row)\n",
    "    index_split = int(np.floor(ratio * num_row))\n",
    "    index_tr = indices[: index_split]\n",
    "    index_te = indices[index_split:]\n",
    "    # create split\n",
    "    x_tr = x[index_tr]\n",
    "    x_te = x[index_te]\n",
    "    y_tr = y[index_tr]\n",
    "    y_te = y[index_te]\n",
    "    return x_tr, x_te, y_tr, y_te"
   ]
  },
  {
   "cell_type": "code",
   "execution_count": 20,
   "metadata": {},
   "outputs": [],
   "source": [
    "x_tr,x_te,y_tr,y_te=split_data(txx,y,0.8)"
   ]
  },
  {
   "cell_type": "code",
   "execution_count": 21,
   "metadata": {},
   "outputs": [
    {
     "name": "stdout",
     "output_type": "stream",
     "text": [
      "Gradient Descent(0/9): loss=1.0, w0=-0.0410642217740575, w1=-0.08540209825257623\n",
      "Gradient Descent(1/9): loss=0.7355399511210864, w0=0.0028260748191025545, w1=-0.10710503358376106\n",
      "Gradient Descent(2/9): loss=0.8745310119270278, w0=-0.02317663771342304, w1=-0.1512618900052279\n",
      "Gradient Descent(3/9): loss=0.7040519900404419, w0=0.014215452970795423, w1=-0.15265435776985858\n",
      "Gradient Descent(4/9): loss=0.8244362513851042, w0=-0.009800138017542134, w1=-0.18133567400600156\n",
      "Gradient Descent(5/9): loss=0.6881333466461039, w0=0.02122337686884569, w1=-0.17726360066954547\n",
      "Gradient Descent(6/9): loss=0.7949914371339621, w0=-0.0005894677707352775, w1=-0.1990558594244548\n",
      "Gradient Descent(7/9): loss=0.6782508390922272, w0=0.02547450870216095, w1=-0.1937267354716527\n",
      "Gradient Descent(8/9): loss=0.7742230582298748, w0=0.006030002107113359, w1=-0.21145184153016922\n",
      "Gradient Descent(9/9): loss=0.6720963177529482, w0=0.028166636510856866, w1=-0.20610228733558725\n"
     ]
    }
   ],
   "source": [
    "initial_w_gd = np.zeros(txx.shape[1])\n",
    "max_iters = 10\n",
    "gamma = 0.25\n",
    "gd_losses, gd_ws = gradient_descent(y_tr, x_tr, initial_w_gd, max_iters, gamma)"
   ]
  },
  {
   "cell_type": "code",
   "execution_count": 22,
   "metadata": {},
   "outputs": [
    {
     "data": {
      "text/plain": [
       "(0.6720963177529482,\n",
       " array([ 0.00603   , -0.21145184,  0.00136542,  0.0514666 ,  0.0838281 ,\n",
       "         0.02788115, -0.06819434,  0.06922147, -0.03850061,  0.07623958,\n",
       "        -0.03203701,  0.13273401,  0.09374126,  0.19272094,  0.00991251,\n",
       "        -0.05418337,  0.04050795,  0.01494053, -0.05908473,  0.01479213,\n",
       "        -0.05794944, -0.01374753, -0.00398004,  0.04882016, -0.02988256,\n",
       "        -0.05083417, -0.04283615,  0.00977123, -0.07276612,  0.08229117]))"
      ]
     },
     "execution_count": 22,
     "metadata": {},
     "output_type": "execute_result"
    }
   ],
   "source": [
    "\n",
    "\n",
    "\n",
    "l,wnew=minimum_loss_vector(gd_losses, gd_ws)\n",
    "l,wnew"
   ]
  },
  {
   "cell_type": "code",
   "execution_count": 23,
   "metadata": {},
   "outputs": [],
   "source": [
    "y_pred=predict_labels(wnew, x_tr)"
   ]
  },
  {
   "cell_type": "code",
   "execution_count": 24,
   "metadata": {},
   "outputs": [
    {
     "data": {
      "text/plain": [
       "(array([-1., -1.,  1., ..., -1., -1.,  1.]),\n",
       " array([-1., -1.,  1., ..., -1., -1., -1.]))"
      ]
     },
     "execution_count": 24,
     "metadata": {},
     "output_type": "execute_result"
    }
   ],
   "source": [
    "y_pred,y_tr"
   ]
  },
  {
   "cell_type": "code",
   "execution_count": 25,
   "metadata": {},
   "outputs": [
    {
     "data": {
      "text/plain": [
       "0.737"
      ]
     },
     "execution_count": 25,
     "metadata": {},
     "output_type": "execute_result"
    }
   ],
   "source": [
    "accuracy_calculator(y_pred, y_tr)\n"
   ]
  },
  {
   "cell_type": "code",
   "execution_count": null,
   "metadata": {},
   "outputs": [],
   "source": []
  }
 ],
 "metadata": {
  "kernelspec": {
   "display_name": "Python 3",
   "language": "python",
   "name": "python3"
  },
  "language_info": {
   "codemirror_mode": {
    "name": "ipython",
    "version": 3
   },
   "file_extension": ".py",
   "mimetype": "text/x-python",
   "name": "python",
   "nbconvert_exporter": "python",
   "pygments_lexer": "ipython3",
   "version": "3.6.5"
  }
 },
 "nbformat": 4,
 "nbformat_minor": 2
}
