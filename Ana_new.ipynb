{
 "cells": [
  {
   "cell_type": "code",
   "execution_count": 32,
   "metadata": {},
   "outputs": [
    {
     "name": "stdout",
     "output_type": "stream",
     "text": [
      "The autoreload extension is already loaded. To reload it, use:\n",
      "  %reload_ext autoreload\n"
     ]
    }
   ],
   "source": [
    "import numpy as np\n",
    "import math\n",
    "import csv\n",
    "from proj1_helpers import *\n",
    "from Hadrien import *\n",
    "from ML_methods import *\n",
    "from features_engineering import *\n",
    "import matplotlib.pyplot as plt\n",
    "\n",
    "\n",
    "%load_ext autoreload\n",
    "%autoreload 2"
   ]
  },
  {
   "cell_type": "code",
   "execution_count": 33,
   "metadata": {},
   "outputs": [],
   "source": [
    "y, tx, ids = load_csv_data(\"data_csv/train.csv\", sub_sample=True)"
   ]
  },
  {
   "cell_type": "code",
   "execution_count": 34,
   "metadata": {},
   "outputs": [
    {
     "name": "stdout",
     "output_type": "stream",
     "text": [
      "y has shape (5000,)\n",
      "X has shape (5000, 30)\n"
     ]
    }
   ],
   "source": [
    "print(\"y has shape {0}\".format(y.shape))\n",
    "print(\"X has shape {0}\".format(tx.shape))"
   ]
  },
  {
   "cell_type": "markdown",
   "metadata": {},
   "source": [
    "#### NAN processing\n",
    "-> mets les NAN a la moyenne"
   ]
  },
  {
   "cell_type": "code",
   "execution_count": 35,
   "metadata": {},
   "outputs": [],
   "source": [
    "tx_nan = transform_to_nan(tx, -900)\n",
    "tx_nan_mean, mean =transform_to_mean(tx_nan)"
   ]
  },
  {
   "cell_type": "markdown",
   "metadata": {},
   "source": [
    "# function prediction\n",
    "-> function that tests the different methods and returns accuracy"
   ]
  },
  {
   "cell_type": "code",
   "execution_count": 38,
   "metadata": {},
   "outputs": [],
   "source": [
    "def prediction(x, y, split, max_iters, gamma, type_func):\n",
    "    #split data\n",
    "    x_tr,x_te,y_tr,y_te=split_data(x,y,split)\n",
    "\n",
    "    if(type_func == 'gd'):\n",
    "        initial_w_gd = np.zeros(x.shape[1])\n",
    "        losses, ws = gradient_descent(y_tr, x_tr, initial_w_gd, max_iters, gamma)\n",
    "    elif(type_func == 'sgd'):\n",
    "        initial_w_sgd = np.zeros(x.shape[1])\n",
    "        losses, ws = stochastic_gradient_descent(y_tr, x_tr, initial_w_sgd, 10, max_iters, gamma)\n",
    "    elif(type_func == 'ls'):\n",
    "        ws = least_squares(y, x)\n",
    "        losses = compute_loss(y, x, ws)\n",
    "    elif(type_func == 'ridge'):\n",
    "        #lambdas = np.logspace(-100, 100, 200)\n",
    "        #losses = []\n",
    "        #for index, lambda_ in enumerate(lambdas):\n",
    "            #ws = ridge_regression(y, x, lambda_)\n",
    "            #losses.append(compute_loss(y, x, ws))\n",
    "        lambdas = np.logspace(-100, 100, 200)\n",
    "        losses = []\n",
    "        ws = []\n",
    "        for index, lambda_ in enumerate(lambdas):\n",
    "            ws.append(ridge_regression(y, x, lambda_))\n",
    "            losses.append(compute_loss(y, x, ws[index]))\n",
    "       \n",
    "    #losses\n",
    "    l,wnew=minimum_loss_vector(losses, ws)\n",
    "\n",
    "    #predictions\n",
    "    y_pred=predict_labels(wnew, x_tr)\n",
    "\n",
    "    #accuracy\n",
    "    print(accuracy_calculator(y_pred, y_tr))"
   ]
  },
  {
   "cell_type": "markdown",
   "metadata": {},
   "source": [
    "## Basic Data\n",
    "-> test the data set without any feature processing"
   ]
  },
  {
   "cell_type": "code",
   "execution_count": 39,
   "metadata": {
    "scrolled": false
   },
   "outputs": [
    {
     "name": "stdout",
     "output_type": "stream",
     "text": [
      "0.7125\n",
      "0.7046875\n",
      "0.75375\n"
     ]
    }
   ],
   "source": [
    "x_tr,x_te,y_tr,y_te = split_data(tx_nan_mean,y,0.8)\n",
    "prediction(x_tr, y_tr, 0.8, 1000, 0.000001, 'gd')\n",
    "prediction(x_tr, y_tr, 0.8, 1000, 0.000001, 'sgd')\n",
    "#prediction(x_tr, y_tr, 0.8, 1000, 0.000001, 'ls')\n",
    "prediction(x_tr, y_tr, 0.8, 1000, 0.000001, 'ridge')"
   ]
  },
  {
   "cell_type": "markdown",
   "metadata": {},
   "source": [
    "### Engineered feature 22"
   ]
  },
  {
   "cell_type": "code",
   "execution_count": 55,
   "metadata": {},
   "outputs": [
    {
     "name": "stdout",
     "output_type": "stream",
     "text": [
      "(5000, 34)\n",
      "0.71825\n",
      "0.71525\n",
      "0.75725\n"
     ]
    }
   ],
   "source": [
    "#test of feature engineering depending on classification by feature 22\n",
    "tx_22plus0 = new_feature_PRI_jet_num(tx_nan_mean, 0.0)\n",
    "tx_22plus1 = new_feature_PRI_jet_num(tx_22plus0, 1.0)\n",
    "tx_22plus2 = new_feature_PRI_jet_num(tx_22plus1, 2.0)\n",
    "tx_22plus3 = new_feature_PRI_jet_num(tx_22plus2, 3.0)\n",
    "\n",
    "print(np.shape(tx_22plus3))\n",
    "\n",
    "prediction(tx_22plus3, y, 0.8, 1000, 0.0000015, 'gd')\n",
    "prediction(tx_22plus3, y, 0.8, 1000, 0.0000015, 'sgd')\n",
    "#prediction(tx_22plus, y, 0.8, 1000, 0.067, 'ls')\n",
    "prediction(tx_22plus3, y, 0.8, 1000, 0.0000015, 'ridge')"
   ]
  },
  {
   "cell_type": "markdown",
   "metadata": {},
   "source": [
    "### Log transformation of features that have an exponential distribution"
   ]
  },
  {
   "cell_type": "code",
   "execution_count": 65,
   "metadata": {},
   "outputs": [
    {
     "name": "stdout",
     "output_type": "stream",
     "text": [
      "0.7015\n",
      "0.7\n",
      "0.73825\n"
     ]
    }
   ],
   "source": [
    "features_log = [0, 2, 3, 5, 9, 13, 16, 23, 29]\n",
    "tx_log = transform_feature_cos(tx_22plus3, features_log)\n",
    "prediction(tx_log, y, 0.8, 1000, 0.00001, 'gd')\n",
    "prediction(tx_log, y, 0.8, 1000, 0.0000015, 'sgd')\n",
    "#prediction(tx_log, y, 0.8, 1000, 0.0000015, 'ls')\n",
    "prediction(tx_log, y, 0.8, 1000, 0.0000015, 'ridge')"
   ]
  },
  {
   "cell_type": "markdown",
   "metadata": {},
   "source": [
    "### Angles in cos\n",
    "-> features that correspond to angles are transformed into cos after log transformation"
   ]
  },
  {
   "cell_type": "code",
   "execution_count": 58,
   "metadata": {},
   "outputs": [
    {
     "name": "stdout",
     "output_type": "stream",
     "text": [
      "0.71825\n",
      "0.71525\n",
      "0.75675\n"
     ]
    }
   ],
   "source": [
    "features_cos = [15, 18, 20, 25, 28]\n",
    "tx_cos3 = transform_feature_cos(tx_22plus3, features_cos)\n",
    "prediction(tx_cos3, y, 0.8, 1000, 0.0000015, 'gd')\n",
    "prediction(tx_cos3, y, 0.8, 1000, 0.0000015, 'sgd')\n",
    "#prediction(tx_cos3, y, 0.8, 1000, 0.0000015, 'ls')\n",
    "prediction(tx_cos3, y, 0.8, 1000, 0.0000015, 'ridge')"
   ]
  },
  {
   "cell_type": "code",
   "execution_count": null,
   "metadata": {},
   "outputs": [],
   "source": []
  }
 ],
 "metadata": {
  "kernelspec": {
   "display_name": "Python 3",
   "language": "python",
   "name": "python3"
  },
  "language_info": {
   "codemirror_mode": {
    "name": "ipython",
    "version": 3
   },
   "file_extension": ".py",
   "mimetype": "text/x-python",
   "name": "python",
   "nbconvert_exporter": "python",
   "pygments_lexer": "ipython3",
   "version": "3.6.5"
  }
 },
 "nbformat": 4,
 "nbformat_minor": 2
}
