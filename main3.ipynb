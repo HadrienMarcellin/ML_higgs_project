{
 "cells": [
  {
   "cell_type": "code",
   "execution_count": 1,
   "metadata": {},
   "outputs": [],
   "source": [
    "import numpy as np\n",
    "import math\n",
    "import csv\n",
    "from proj1_helpers import *\n",
    "from Hadrien import *\n",
    "from ML_methods import *\n",
    "from features_engineering import *\n",
    "from correlation import *\n",
    "import matplotlib.pyplot as plt\n",
    "from NAN_Pattern_Decomposition import decompose_dataset_according_to_NAN_pattern\n",
    "\n",
    "\n",
    "%load_ext autoreload\n",
    "%autoreload 2"
   ]
  },
  {
   "cell_type": "markdown",
   "metadata": {},
   "source": [
    "### load Data"
   ]
  },
  {
   "cell_type": "code",
   "execution_count": 295,
   "metadata": {},
   "outputs": [
    {
     "name": "stdout",
     "output_type": "stream",
     "text": [
      "y has shape (250000,)\n",
      "X has shape (250000, 30)\n"
     ]
    }
   ],
   "source": [
    "y, tx, ids = load_csv_data(\"data_csv/train.csv\", sub_sample=False)\n",
    "print(\"y has shape {0}\".format(y.shape))\n",
    "print(\"X has shape {0}\".format(tx.shape))"
   ]
  },
  {
   "cell_type": "markdown",
   "metadata": {},
   "source": [
    "-> we can observe some (3 at all) different patterns of NAN values -> essayer de déterminer si ces values ont une corrélation avec le label:\n",
    "- pattern 1: feature 0: 840 NAN -> 16.8% NAN\n",
    "- pattern 2: features 23,24,25: 1985 NAN -> 39.7% NAN\n",
    "- pattern 3: features 4,5,6,12,26,27,28: 3525 NAN -> 70.5 % NAN\n",
    "\n",
    "\n",
    "Also :\n",
    "- 562 samples de p1 font parti de p2.\n",
    "- 734 samples de p1 font parti de p3.\n",
    "- 0 samples de p2 font parti de p1.\n",
    "- 1423 sample de p2 font parti de p3\n",
    "- 0 samples de p3 font parti de p1.\n",
    "- 0 samples de p3 font parti de p2.\n",
    "\n",
    "Also:\n",
    "- p2 inter p3 = 1985\n",
    "- p1 union p3 union p2 = 3631"
   ]
  },
  {
   "cell_type": "code",
   "execution_count": 296,
   "metadata": {},
   "outputs": [],
   "source": [
    "tx_nan = transform_to_nan(tx, -900)"
   ]
  },
  {
   "cell_type": "code",
   "execution_count": 297,
   "metadata": {},
   "outputs": [],
   "source": [
    "def transform_column_22_and_delete(tx_nan):\n",
    "    \n",
    "    txx = tx_nan.copy()\n",
    "\n",
    "    #ajoute des vecteurs booleens pour chaque valeur (0.0, 1.0, 2.0 ou 3.0) de la feature 22\n",
    "    tx0 = new_feature_PRI_jet_num(txx, 0.0)\n",
    "    tx1 = new_feature_PRI_jet_num(tx0, 1.0)\n",
    "    tx2 = new_feature_PRI_jet_num(tx1, 2.0)\n",
    "    tx3 = new_feature_PRI_jet_num(tx2, 3.0)\n",
    "\n",
    "    #enlever la colonne de la feature 22 with \"delete(matrice, indice, colonne = 1)\"\n",
    "    tx3_final = np.delete(tx3, 22, 1)\n",
    "\n",
    "    return tx3_final.copy()"
   ]
  },
  {
   "cell_type": "code",
   "execution_count": 298,
   "metadata": {},
   "outputs": [],
   "source": [
    "def remove_constant_features(x, cols):\n",
    "    return np.delete(x, cols, axis = 1)"
   ]
  },
  {
   "cell_type": "code",
   "execution_count": 299,
   "metadata": {},
   "outputs": [],
   "source": [
    "xx = transform_column_22_and_delete(tx_nan)"
   ]
  },
  {
   "cell_type": "code",
   "execution_count": 300,
   "metadata": {},
   "outputs": [],
   "source": [
    "def transform_column_22_and_delete(tx_nan):\n",
    "    \n",
    "    txx = tx_nan.copy()\n",
    "\n",
    "    #ajoute des vecteurs booleens pour chaque valeur (0.0, 1.0, 2.0 ou 3.0) de la feature 22\n",
    "    tx0 = new_feature_PRI_jet_num(txx, 0.0)\n",
    "    tx1 = new_feature_PRI_jet_num(tx0, 1.0)\n",
    "    tx2 = new_feature_PRI_jet_num(tx1, 2.0)\n",
    "    tx3 = new_feature_PRI_jet_num(tx2, 3.0)\n",
    "\n",
    "    #enlever la colonne de la feature 22 with \"delete(matrice, indice, colonne = 1)\"\n",
    "    tx3_final = np.delete(tx3, 22, 1)\n",
    "\n",
    "    return tx3_final.copy()"
   ]
  },
  {
   "cell_type": "code",
   "execution_count": 301,
   "metadata": {},
   "outputs": [],
   "source": [
    "p0_ind, p0, y0, p1_ind, p1, y1, p2_ind, p2, y2, p3_ind, p3, y3 = decompose_dataset_according_to_NAN_pattern(xx, y, [0,23,27])"
   ]
  },
  {
   "cell_type": "code",
   "execution_count": 118,
   "metadata": {},
   "outputs": [],
   "source": [
    "feature_nans_1 = [0]\n",
    "p1_processed = remove_constant_features(p1, feature_nans_1)\n",
    "\n",
    "feature_nans_2 = [4, 5, 6, 12, 22, 23, 24, 25, 26, 27]\n",
    "p2_processed = remove_constant_features(p2, feature_nans_2)\n",
    "\n",
    "feature_nans_3 = [4, 5, 6, 12, 25, 26, 27]\n",
    "p3_processed = remove_constant_features(p3, feature_nans_3)"
   ]
  },
  {
   "cell_type": "code",
   "execution_count": 248,
   "metadata": {},
   "outputs": [],
   "source": [
    "p0_nan_mean, p0_mean =transform_to_mean(p0)\n",
    "p1_nan_mean, p1_mean =transform_to_mean(p1_processed)\n",
    "p2_nan_mean, p2_mean =transform_to_mean(p2_processed)\n",
    "p3_nan_mean, p3_mean =transform_to_mean(p3_processed)"
   ]
  },
  {
   "cell_type": "markdown",
   "metadata": {},
   "source": [
    "# Feature Engineering"
   ]
  },
  {
   "cell_type": "code",
   "execution_count": 65,
   "metadata": {},
   "outputs": [],
   "source": [
    "def basic_features_process(tx):\n",
    "    \n",
    "    tx_nan_mean, nan_mean = transform_to_mean(tx)\n",
    "    \n",
    "    features_square = [6]\n",
    "    tx_square = transform_feature_power(tx_nan_mean, features_square, 2)\n",
    "\n",
    "    features_log = [0, 2, 3, 5, 6, 8, 9, 10, 13, 16, 19, 21, 23, 26, 29]\n",
    "    tx_log = transform_feature_log(tx_square, features_log)\n",
    "\n",
    "    features_sin = [11, 12, 14, 15, 17]\n",
    "    tx_angle_stand = standardize_angles(tx_log, features_sin)\n",
    "    tx_sin = transform_feature_sin(tx_angle_stand, features_sin)\n",
    "\n",
    "    feature_std = features_log\n",
    "    tx_std, mean, std = standardize_features(tx_sin, feature_std)\n",
    "\n",
    "    tx_22plus0 = new_feature_PRI_jet_num(tx_std, 0.0)\n",
    "    tx_22plus1 = new_feature_PRI_jet_num(tx_22plus0, 1.0)\n",
    "    tx_22plus2 = new_feature_PRI_jet_num(tx_22plus1, 2.0)\n",
    "    tx_22plus3 = new_feature_PRI_jet_num(tx_22plus2, 3.0)\n",
    "    \n",
    "    return tx_22plus3, nan_mean\n",
    "\n"
   ]
  },
  {
   "cell_type": "code",
   "execution_count": 103,
   "metadata": {},
   "outputs": [],
   "source": [
    "def create_big_matrix_with_transformations(dataset):\n",
    "    \n",
    "    tx_ = dataset.copy()\n",
    "    (l,c) = np.shape(dataset)\n",
    "    features = list(range(c))\n",
    "    #features = list(range(30-1))   #-1 car on a enleve la colonne 22     \n",
    "\n",
    "    # ajouter sin\n",
    "    tx_sin = transform_feature_sin(tx_, features)\n",
    "\n",
    "    #ajouter cos\n",
    "    tx_cos = transform_feature_cos(tx_sin, features)\n",
    "\n",
    "    #ajouter log\n",
    "    tx_log, log_min = transform_feature_log(tx_cos, features)\n",
    "\n",
    "    #ajouter sqrt\n",
    "    tx_sqrt, sqrt_min = transform_feature_sqrt(tx_log, features)\n",
    "    \n",
    "    ## Put nan values to 0 if some where below zero before sqrt and log\n",
    "    #tx_zero_nan = transform_nan_to_zero(tx_sqrt)\n",
    "    \n",
    "    #standardize\n",
    "    tx_stand, tx_mean, tx_std = standardize(tx_sqrt)\n",
    "    \n",
    "    dataset_eng = tx_stand.copy()\n",
    "    \n",
    "    return dataset_eng, log_min, sqrt_min"
   ]
  },
  {
   "cell_type": "code",
   "execution_count": 67,
   "metadata": {},
   "outputs": [],
   "source": [
    "def select_best_features(tx_big, w_big,  nb_cols, nb_transform):\n",
    "    #garder les meilleurs weight pour chaque feature \n",
    "    w = w_big.copy()\n",
    "    w_best = np.zeros(nb_cols)\n",
    "    indices_good_features = np.zeros(nb_cols)\n",
    "    print(len(w))\n",
    "    w_best[0] = w[0]\n",
    "    liste = list(range(1, nb_cols))\n",
    "    transformation = list(range(nb_transform))\n",
    "    for i in liste:\n",
    "        col = i\n",
    "        for j in transformation:\n",
    "            #si on en est à la première transformation -> initialiser le premier élément de w à cette valeur\n",
    "            if(j == 0):\n",
    "                w_best[i] = w[col]\n",
    "                indices_good_features[i] = col\n",
    "            elif(w[col] > w_best[j]):\n",
    "                w_best[i] = w[col]\n",
    "                indices_good_features[i] = col\n",
    "            col = (j*(nb_cols-1))+i\n",
    "\n",
    "    print(indices_good_features)\n",
    "\n",
    "    #reconstruire nouvelle matrice\n",
    "    f = len(indices_good_features)\n",
    "    (l,c) = tx_big.shape\n",
    "    p_best_final = np.zeros((l, f))\n",
    "    \n",
    "    \n",
    "    for indice, col in enumerate(np.int0(indices_good_features)):\n",
    "        p_best_final[:,indice] =  tx_big[:, col]\n",
    "        \n",
    "    return p_best_final, indices_good_features"
   ]
  },
  {
   "cell_type": "markdown",
   "metadata": {},
   "source": [
    "## Pattern 0 (No NAN values)"
   ]
  },
  {
   "cell_type": "code",
   "execution_count": 168,
   "metadata": {},
   "outputs": [],
   "source": [
    "def test_with_lsgd(tx, y, ratio = 0.8, batch = 10, max_iter = 20000, gamma = 0.01):\n",
    "    \n",
    "    x_tr, x_te, y_tr, y_te = split_data(tx, y, ratio)\n",
    "\n",
    "    initial_w_gd = np.zeros(tx.shape[1])\n",
    "\n",
    "    gd_l,gd_w = log_stochastic_gradient_descent(y_tr, x_tr, initial_w_gd, batch, max_iter, gamma)\n",
    "\n",
    "    l,wnew=minimum_loss_vector(gd_l, gd_w)\n",
    "    \n",
    "    y_pred = predict_labels(wnew , x_te)\n",
    "    accur = accuracy_calculator(y_pred, y_te)\n",
    "    \n",
    "    print(\"Accuracy : {0}\".format(accur))\n",
    "    \n",
    "    return l, wnew"
   ]
  },
  {
   "cell_type": "code",
   "execution_count": 95,
   "metadata": {},
   "outputs": [],
   "source": [
    "def find_best_transformations(tx, y, nb_cols, nb_transform, batch_size, max_iter, gama):\n",
    "    losses, ws = log_stochastic_gradient_descent(y, tx, np.zeros(tx.shape[1]), batch_size, max_iter, gama)\n",
    "    #si converge -> dernier w qui est le meilleur: \n",
    "    ws_best = ws[-1]\n",
    "    tx_best = select_best_features(tx, ws_best, nb_cols, nb_transform)\n",
    "    return tx_best"
   ]
  },
  {
   "cell_type": "code",
   "execution_count": 70,
   "metadata": {},
   "outputs": [],
   "source": [
    "def add_first_feature_column(tx):\n",
    "    \n",
    "    (l,c) = np.shape(tx)\n",
    "    a = np.ones((l,1), float)\n",
    "    tx_plus = np.c_[a, tx]\n",
    "    return tx_plus"
   ]
  },
  {
   "cell_type": "code",
   "execution_count": 71,
   "metadata": {},
   "outputs": [],
   "source": [
    "def create_polynomial(tx, features):\n",
    "    tx = transform_feature_power(tx, features, 2 )\n",
    "    tx = transform_feature_power(tx, features, 3 )\n",
    "    return tx"
   ]
  },
  {
   "cell_type": "code",
   "execution_count": 72,
   "metadata": {},
   "outputs": [],
   "source": [
    "def create_inter_product(tx, features_1, features_2):\n",
    "    for i in range(len(features_2)):\n",
    "        tx = transform_feature_inter_product(tx, [features_1[i], features_2[i]])\n",
    "    return tx"
   ]
  },
  {
   "cell_type": "code",
   "execution_count": 121,
   "metadata": {},
   "outputs": [],
   "source": [
    "p0_nan_mean_moins = remove_constant_features(p0_nan_mean, [29, 30])"
   ]
  },
  {
   "cell_type": "code",
   "execution_count": 202,
   "metadata": {},
   "outputs": [],
   "source": [
    "p0_eng, log_min0, sqrt_min0 = create_big_matrix_with_transformations(p0_nan_mean_moins)"
   ]
  },
  {
   "cell_type": "code",
   "execution_count": 125,
   "metadata": {},
   "outputs": [],
   "source": [
    "p0_eng_plus = add_first_feature_column(p0_eng)"
   ]
  },
  {
   "cell_type": "code",
   "execution_count": 128,
   "metadata": {},
   "outputs": [
    {
     "name": "stdout",
     "output_type": "stream",
     "text": [
      "SGD(0/999): loss=0.6931471805589208, w0=0.0, w1=0.0\n",
      "SGD(200/999): loss=0.6917539461791284, w0=-9.000395536827729e-05, w1=-0.00012151059392038148\n",
      "SGD(400/999): loss=0.6901733315155685, w0=-0.0001698854088668231, w1=-0.00014166482999719755\n",
      "SGD(600/999): loss=0.6888342458843368, w0=-0.00015013485696516125, w1=-0.0001681343798900254\n",
      "SGD(800/999): loss=0.6873168624410554, w0=-7.132939162892404e-05, w1=-0.00016507132324903226\n",
      "SGD(999/999): loss=0.6861495517609283, w0=-0.00015548473079474208, w1=-0.0001529026610974403\n",
      "156\n",
      "[ 0. 63.  2.  3.  4. 67.  6. 69. 70. 71. 72. 11. 74. 75. 14. 15. 16. 79.\n",
      " 18. 81. 82. 21. 22. 23. 86. 87. 26. 89. 28. 29. 92. 62.]\n"
     ]
    }
   ],
   "source": [
    "p0_best_final, indices0_best = find_best_transformations(p0_eng_plus, y0, (p0_nan_mean_moins.shape[1] + 1), 4, 1, 1000, 1e-5)"
   ]
  },
  {
   "cell_type": "code",
   "execution_count": 134,
   "metadata": {},
   "outputs": [],
   "source": [
    "p0_polynomial = create_polynomial(p0_best_final, [5, 8, 13, 15, 18, 24])"
   ]
  },
  {
   "cell_type": "code",
   "execution_count": 135,
   "metadata": {},
   "outputs": [],
   "source": [
    "p0_product = create_inter_product(p0_polynomial, [30, 30, 30, 30], [8, 16, 26, 1])"
   ]
  },
  {
   "cell_type": "code",
   "execution_count": 81,
   "metadata": {},
   "outputs": [],
   "source": [
    "from train_model import *"
   ]
  },
  {
   "cell_type": "code",
   "execution_count": 318,
   "metadata": {
    "scrolled": false
   },
   "outputs": [
    {
     "name": "stdout",
     "output_type": "stream",
     "text": [
      "Ridge Resgression, Loss : 0.723, Lambda : 1e-05\n"
     ]
    },
    {
     "data": {
      "image/png": "[encoded data removed]",
      "text/plain": [
       "<Figure size 720x360 with 1 Axes>"
      ]
     },
     "metadata": {},
     "output_type": "display_data"
    }
   ],
   "source": [
    "ridge_regression_exploration(y0, p0_product, 0.8, np.logspace(-5, 3, 30))\n"
   ]
  },
  {
   "cell_type": "code",
   "execution_count": 320,
   "metadata": {},
   "outputs": [
    {
     "data": {
      "text/plain": [
       "0.7638552448065771"
      ]
     },
     "execution_count": 320,
     "metadata": {},
     "output_type": "execute_result"
    }
   ],
   "source": [
    "x_tr, x_te, y_tr, y_te = split_data(p0_product, y0, 0.8)\n",
    "ws0_best = ridge_regression(y_tr, x_tr, 1e-5)\n",
    "y_pred = predict_labels(ws0_best, x_te)\n",
    "accuracy_calculator(y_pred, y_te)"
   ]
  },
  {
   "cell_type": "code",
   "execution_count": 139,
   "metadata": {},
   "outputs": [
    {
     "name": "stdout",
     "output_type": "stream",
     "text": [
      "SGD(0/19999): loss=0.6931471805590762, w0=0.0, w1=0.0\n",
      "SGD(4000/19999): loss=0.49740456055205423, w0=0.24217559234182798, w1=0.020924317106825508\n",
      "SGD(8000/19999): loss=0.4911301691317836, w0=0.3398767252430874, w1=0.009414370614756667\n",
      "SGD(12000/19999): loss=0.490702330061443, w0=0.4638200991479741, w1=0.021742612735708478\n",
      "SGD(16000/19999): loss=0.49007884179647104, w0=0.4985609544987854, w1=0.021675247870907008\n",
      "SGD(19999/19999): loss=0.49004207586831405, w0=0.5344799333007126, w1=0.010308528635543338\n",
      "Accuracy : 0.7645892975115613\n"
     ]
    }
   ],
   "source": [
    "l, ws0 = test_with_lsgd(p0_product, y0)"
   ]
  },
  {
   "cell_type": "code",
   "execution_count": 141,
   "metadata": {},
   "outputs": [
    {
     "data": {
      "text/plain": [
       "0.7645892975115613"
      ]
     },
     "execution_count": 141,
     "metadata": {},
     "output_type": "execute_result"
    }
   ],
   "source": [
    "x_tr, x_te, y_tr, y_te = split_data(p0_product, y0, 0.8)\n",
    "y_pred = predict_labels(ws0 , x_te)\n",
    "accur = accuracy_calculator(y_pred, y_te)\n",
    "accur"
   ]
  },
  {
   "cell_type": "markdown",
   "metadata": {},
   "source": [
    "## Pattern 1 (Feature 0)"
   ]
  },
  {
   "cell_type": "code",
   "execution_count": 262,
   "metadata": {},
   "outputs": [
    {
     "name": "stdout",
     "output_type": "stream",
     "text": [
      "SGD(0/999): loss=0.6931471805594103, w0=0.0, w1=0.0\n",
      "SGD(200/999): loss=0.6927986765076527, w0=-0.0008997758999748945, w1=5.113108516661411e-05\n",
      "SGD(400/999): loss=0.6922885546656435, w0=-0.001759121477178221, w1=-1.1674665189806691e-05\n",
      "SGD(600/999): loss=0.6916897469452316, w0=-0.0026079319585984874, w1=-0.00018329761199025553\n",
      "SGD(800/999): loss=0.6910714932788817, w0=-0.0033963838817683226, w1=-0.00027261418489523174\n",
      "SGD(999/999): loss=0.6905783368755092, w0=-0.004239787683903415, w1=-0.00034484468337650536\n",
      "161\n",
      "[ 0. 65. 34. 35. 36.  5.  6.  7. 40. 41. 42. 75. 76. 13. 14. 47. 16. 49.\n",
      " 50. 51. 20. 53. 54. 55. 56. 57. 90. 59. 60. 61. 62. 31. 32.]\n"
     ]
    },
    {
     "data": {
      "text/plain": [
       "(38114, 42)"
      ]
     },
     "execution_count": 262,
     "metadata": {},
     "output_type": "execute_result"
    }
   ],
   "source": [
    "p1_nan_mean_moins = remove_constant_features(p1_nan_mean, [])\n",
    "\n",
    "p1_eng, log_min1, sqrt_min1 = create_big_matrix_with_transformations(p1_nan_mean_moins)\n",
    "\n",
    "p1_eng_plus = add_first_feature_column(p1_eng)\n",
    "\n",
    "p1_best_final, indices1_best = find_best_transformations(p1_eng_plus, y1, p1_nan_mean_moins.shape[1] + 1, 4, 1, 1000, 1e-5)\n",
    "\n",
    "#display_feature_distribution(y0, p0_best_final,  50)\n",
    "\n",
    "p1_polynomial = create_polynomial(p1_best_final, [9, 15])\n",
    "\n",
    "p1_product = create_inter_product(p1_polynomial, [29, 29, 29, 29, 29], [1, 10, 16, 24, 28])\n",
    "\n",
    "p1_product.shape"
   ]
  },
  {
   "cell_type": "code",
   "execution_count": 145,
   "metadata": {},
   "outputs": [
    {
     "name": "stdout",
     "output_type": "stream",
     "text": [
      "Ridge Resgression, Loss : 0.245, Lambda : 11.721022975334794\n"
     ]
    },
    {
     "data": {
      "image/png": "[encoded data removed]",
      "text/plain": [
       "<Figure size 720x360 with 1 Axes>"
      ]
     },
     "metadata": {},
     "output_type": "display_data"
    }
   ],
   "source": [
    "ridge_regression_exploration(y1, p1_product, 0.8, np.logspace(-5, 3, 30))"
   ]
  },
  {
   "cell_type": "code",
   "execution_count": 149,
   "metadata": {},
   "outputs": [
    {
     "data": {
      "text/plain": [
       "0.930604748786567"
      ]
     },
     "execution_count": 149,
     "metadata": {},
     "output_type": "execute_result"
    }
   ],
   "source": [
    "x_tr, x_te, y_tr, y_te = split_data(p1_product, y1, 0.8)\n",
    "ws1_ridge = ridge_regression(y_tr, x_tr, 12)\n",
    "y_pred = predict_labels(ws1_ridge, x_te)\n",
    "accuracy_calculator(y_pred, y_te)"
   ]
  },
  {
   "cell_type": "markdown",
   "metadata": {},
   "source": [
    "## Pattern 2 (Feature 23)"
   ]
  },
  {
   "cell_type": "code",
   "execution_count": 265,
   "metadata": {},
   "outputs": [
    {
     "name": "stdout",
     "output_type": "stream",
     "text": [
      "SGD(0/999): loss=0.6931471805588729, w0=0.0, w1=0.0\n",
      "SGD(200/999): loss=0.6921083624180955, w0=-0.0003298826473015914, w1=0.00010227034795248941\n",
      "SGD(400/999): loss=0.6911421298921633, w0=-0.0007896322527587108, w1=0.00017492035608846445\n",
      "SGD(600/999): loss=0.6901419431439946, w0=-0.001148730307483048, w1=0.00019448942748761372\n",
      "SGD(800/999): loss=0.6892260024323404, w0=-0.001518150837292658, w1=0.0003655541541119456\n",
      "SGD(999/999): loss=0.688246519039861, w0=-0.001991854364383313, w1=0.00021359682916914454\n",
      "91\n",
      "[ 0. 37. 38. 21.  4. 41.  6.  7. 26. 45. 46. 11. 12. 13. 14. 51. 16. 17.\n",
      " 36.]\n"
     ]
    },
    {
     "data": {
      "text/plain": [
       "(73790, 48)"
      ]
     },
     "execution_count": 265,
     "metadata": {},
     "output_type": "execute_result"
    }
   ],
   "source": [
    "p2_nan_mean_moins = remove_constant_features(p2_nan_mean, [18, 19, 20, 21, 22])\n",
    "\n",
    "p2_eng, log_min2, sqrt_min2 = create_big_matrix_with_transformations(p2_nan_mean_moins)\n",
    "\n",
    "p2_eng_plus = add_first_feature_column(p2_eng)\n",
    "\n",
    "p2_best_final, indices2_best = find_best_transformations(p2_eng_plus, y2, p2_nan_mean_moins.shape[1] + 1, 4, 1, 1000, 1e-5)\n",
    "\n",
    "#display_feature_distribution(y0, p0_best_final,  50)\n",
    "\n",
    "p2_polynomial = create_polynomial(p2_best_final, [2, 3, 5, 10, 13, 16, 18, 23])\n",
    "\n",
    "p2_product = create_inter_product(p2_polynomial, [9, 9, 9, 9, 9, 9, 9, 9, 9], [5, 6, 10, 11, 12, 13, 14, 16, 23])\n",
    "\n",
    "p2_product_log, min_square_log2 = transform_feature_log(p2_product, [28, 29, 30, 35])\n",
    "\n",
    "p2_product_log.shape"
   ]
  },
  {
   "cell_type": "code",
   "execution_count": 165,
   "metadata": {},
   "outputs": [
    {
     "name": "stdout",
     "output_type": "stream",
     "text": [
      "Ridge Resgression, Loss : 6.1, Lambda : 1000.0\n"
     ]
    },
    {
     "data": {
      "image/png": "[encoded data removed]",
      "text/plain": [
       "<Figure size 720x360 with 1 Axes>"
      ]
     },
     "metadata": {},
     "output_type": "display_data"
    }
   ],
   "source": [
    "ridge_regression_exploration(y2, p2_product_log, 0.8, np.logspace(-5, 3, 30))"
   ]
  },
  {
   "cell_type": "code",
   "execution_count": 167,
   "metadata": {},
   "outputs": [
    {
     "data": {
      "text/plain": [
       "0.7905542756471067"
      ]
     },
     "execution_count": 167,
     "metadata": {},
     "output_type": "execute_result"
    }
   ],
   "source": [
    "x_tr, x_te, y_tr, y_te = split_data(p2_product_log, y2, 0.8)\n",
    "ws2_ridge = ridge_regression(y_tr, x_tr, 1e-1)\n",
    "y_pred = predict_labels(ws2_ridge, x_te)\n",
    "accuracy_calculator(y_pred, y_te)"
   ]
  },
  {
   "cell_type": "code",
   "execution_count": 169,
   "metadata": {},
   "outputs": [
    {
     "name": "stdout",
     "output_type": "stream",
     "text": [
      "SGD(0/19999): loss=0.6931471805590165, w0=0.0, w1=0.0\n",
      "SGD(4000/19999): loss=inf, w0=-1.9155316433739582, w1=-0.2514427672158787\n",
      "SGD(8000/19999): loss=19265.826529746453, w0=0.07770607390472693, w1=-0.10063836644999169\n",
      "SGD(12000/19999): loss=1444183.065075099, w0=0.4188228332366984, w1=-0.1454869507214358\n",
      "SGD(16000/19999): loss=89121.70107060889, w0=0.21601342467700202, w1=0.06194150869493514\n",
      "SGD(19999/19999): loss=405120.96331892716, w0=0.2187401590791687, w1=0.11402171205996718\n",
      "Accuracy : 0.677937389890229\n"
     ]
    }
   ],
   "source": [
    "l, ws2_best = test_with_lsgd(p2_product_log, y2)"
   ]
  },
  {
   "cell_type": "markdown",
   "metadata": {},
   "source": [
    "## Pattern 3 (Feature 28)"
   ]
  },
  {
   "cell_type": "code",
   "execution_count": 336,
   "metadata": {},
   "outputs": [
    {
     "name": "stdout",
     "output_type": "stream",
     "text": [
      "SGD(0/999): loss=0.6931471805589041, w0=0.0, w1=0.0\n",
      "SGD(200/999): loss=0.6924889244270381, w0=-0.00024987371492795463, w1=1.206944594706038e-06\n",
      "SGD(400/999): loss=0.691940005180258, w0=-0.00037993588074600074, w1=3.0319741150615488e-05\n",
      "SGD(600/999): loss=0.6914986650440126, w0=-0.0005897585800166478, w1=-2.189078692067857e-05\n",
      "SGD(800/999): loss=0.6908261251430039, w0=-0.0007200711338697439, w1=0.00010535988025519823\n",
      "SGD(999/999): loss=0.6903514854207651, w0=-0.0010342138277527058, w1=0.0001394221613952001\n",
      "111\n",
      "[ 0.  1.  2.  3.  4. 49.  6.  7.  8. 53. 10. 11. 12. 13. 14. 15. 16. 17.\n",
      " 18. 19. 64. 21. 22.]\n"
     ]
    },
    {
     "data": {
      "text/plain": [
       "(69982, 53)"
      ]
     },
     "execution_count": 336,
     "metadata": {},
     "output_type": "execute_result"
    }
   ],
   "source": [
    "p3_nan_mean_moins = remove_constant_features(p3_nan_mean, [22, 23, 24, 25])\n",
    "\n",
    "p3_eng, log_min3, sqrt_min3 = create_big_matrix_with_transformations(p3_nan_mean_moins)\n",
    "\n",
    "p3_eng_plus = add_first_feature_column(p3_eng)\n",
    "\n",
    "p3_best_final, indices3_best = find_best_transformations(p3_eng_plus, y3, p3_nan_mean_moins.shape[1] + 1, 4, 1, 1000, 1e-5)\n",
    "\n",
    "p3_polynomial = create_polynomial(p3_best_final, [4, 5, 6, 8, 9, 18, 20])\n",
    "\n",
    "p3_product = create_inter_product(p3_polynomial, [9, 9, 9, 9, 9, 9, 9, 9, 9, 9, 9, 9], [4, 5, 6, 8, 12, 13, 14, 16, 17, 18, 20, 21])\n",
    "\n",
    "p3_product_log, min_square_log3 = transform_feature_log(p3_product, [23, 24, 26, 33])\n",
    "\n",
    "p3_product_log.shape"
   ]
  },
  {
   "cell_type": "code",
   "execution_count": 176,
   "metadata": {},
   "outputs": [
    {
     "name": "stdout",
     "output_type": "stream",
     "text": [
      "Ridge Resgression, Loss : 0.789, Lambda : 0.0008531678524172806\n"
     ]
    },
    {
     "data": {
      "image/png": "[encoded data removed]",
      "text/plain": [
       "<Figure size 720x360 with 1 Axes>"
      ]
     },
     "metadata": {},
     "output_type": "display_data"
    }
   ],
   "source": [
    "ridge_regression_exploration(y3, p3_product_log, 0.8, np.logspace(-5, 3, 30))"
   ]
  },
  {
   "cell_type": "code",
   "execution_count": 178,
   "metadata": {},
   "outputs": [
    {
     "data": {
      "text/plain": [
       "0.7136529256269201"
      ]
     },
     "execution_count": 178,
     "metadata": {},
     "output_type": "execute_result"
    }
   ],
   "source": [
    "x_tr, x_te, y_tr, y_te = split_data(p3_product_log, y3, 0.8)\n",
    "ws3_ridge = ridge_regression(y_tr, x_tr, 1e-1)\n",
    "y_pred = predict_labels(ws3_ridge, x_te)\n",
    "accuracy_calculator(y_pred, y_te)"
   ]
  },
  {
   "cell_type": "code",
   "execution_count": 179,
   "metadata": {},
   "outputs": [
    {
     "name": "stdout",
     "output_type": "stream",
     "text": [
      "SGD(0/19999): loss=0.6931471805590554, w0=0.0, w1=0.0\n",
      "SGD(4000/19999): loss=0.5629378406765672, w0=-0.006981700387083935, w1=0.13507339039590086\n",
      "SGD(8000/19999): loss=0.5565996631442862, w0=-0.006279335463446568, w1=0.1993548576504776\n",
      "SGD(12000/19999): loss=0.8231358063325055, w0=-0.0067794519701722886, w1=0.182432254414752\n",
      "SGD(16000/19999): loss=0.553003670355126, w0=-0.0005471177189237157, w1=0.16897321384843597\n",
      "SGD(19999/19999): loss=1.1167130394729097, w0=-0.007406469232593282, w1=0.1262805625696823\n",
      "Accuracy : 0.7190826605701222\n"
     ]
    }
   ],
   "source": [
    "ws3, l3 = test_with_lsgd(p3_product_log, y3)"
   ]
  },
  {
   "cell_type": "markdown",
   "metadata": {},
   "source": [
    "# Train Models "
   ]
  },
  {
   "cell_type": "code",
   "execution_count": 189,
   "metadata": {},
   "outputs": [],
   "source": [
    "from train_model import *\n",
    "max_iter = 20000\n",
    "batch_size = 10\n",
    "initial_w = np.zeros(p0_product.shape[1])"
   ]
  },
  {
   "cell_type": "markdown",
   "metadata": {},
   "source": [
    "## P0"
   ]
  },
  {
   "cell_type": "code",
   "execution_count": 191,
   "metadata": {
    "scrolled": true
   },
   "outputs": [
    {
     "name": "stdout",
     "output_type": "stream",
     "text": [
      "SGD(0/19999): loss=0.6931471805590762, w0=0.0, w1=0.0\n",
      "SGD(4000/19999): loss=0.542576312697776, w0=0.017243372275877692, w1=0.011963835560671461\n",
      "SGD(8000/19999): loss=0.5237611320726167, w0=0.053228108498620176, w1=0.01995299795635334\n",
      "SGD(12000/19999): loss=0.5154009059718276, w0=0.087515950458222, w1=0.02039127321575103\n",
      "SGD(16000/19999): loss=0.509694652929416, w0=0.10795130856289853, w1=0.02466312084822682\n",
      "SGD(19999/19999): loss=0.5056660656085386, w0=0.12781025875426522, w1=0.022563506736024495\n",
      "SGD(0/19999): loss=0.6931471805590762, w0=0.0, w1=0.0\n",
      "SGD(4000/19999): loss=0.5065021282077871, w0=0.15976981170345123, w1=0.02779407399106344\n",
      "SGD(8000/19999): loss=0.4950082565314873, w0=0.2508737747022089, w1=0.021574769125999683\n",
      "SGD(12000/19999): loss=0.4920181820647284, w0=0.3590213443718815, w1=0.03896031332798652\n",
      "SGD(16000/19999): loss=0.49017263345112805, w0=0.3978315442600919, w1=0.013747898923447167\n",
      "SGD(19999/19999): loss=0.4890113988266408, w0=0.44260392943238014, w1=0.01804895057994485\n",
      "SGD(0/19999): loss=0.6931471805590762, w0=0.0, w1=0.0\n",
      "SGD(4000/19999): loss=0.4938051457953541, w0=0.36574754799134596, w1=0.02014579773400828\n",
      "SGD(8000/19999): loss=0.49688519756302824, w0=0.5606841125178217, w1=0.034876627570388\n",
      "SGD(12000/19999): loss=0.49148366655297854, w0=0.6194256977119994, w1=0.07987359789997818\n",
      "SGD(16000/19999): loss=0.5003671374484185, w0=0.5171914538969193, w1=-0.011056480155388675\n",
      "SGD(19999/19999): loss=0.4947858284725961, w0=0.6169851349544413, w1=0.08232352932098395\n",
      "SGD(0/19999): loss=0.6931471805590762, w0=0.0, w1=0.0\n",
      "SGD(4000/19999): loss=0.5684224439416925, w0=0.6945969535250046, w1=-0.03513353440600356\n",
      "SGD(8000/19999): loss=0.5360823986143662, w0=0.6876786995194213, w1=0.042524840185530266\n",
      "SGD(12000/19999): loss=0.5487754380237619, w0=0.6672491178404726, w1=0.05646317630235186\n",
      "SGD(16000/19999): loss=0.5726380442076967, w0=0.6204392961160925, w1=-0.018418922535372882\n",
      "SGD(19999/19999): loss=0.5394539540501888, w0=0.8199263495641845, w1=-0.3134938739638442\n",
      "SGD(0/19999): loss=0.6931471805590762, w0=0.0, w1=0.0\n",
      "SGD(4000/19999): loss=1.229411441169102, w0=1.086729758021181, w1=0.7698783013868908\n",
      "SGD(8000/19999): loss=1.1822616163387043, w0=1.8941571995193653, w1=0.2729891923630145\n",
      "SGD(12000/19999): loss=1.2732847723781249, w0=1.9707780527541567, w1=0.3484707802596617\n",
      "SGD(16000/19999): loss=1.1416891810535092, w0=0.9790893338368586, w1=-0.1272892771101223\n",
      "SGD(19999/19999): loss=0.9754314516957444, w0=2.2317186557423487, w1=-0.43411068501793354\n",
      "Gradient Descent, Loss : 0.485, Lambda : 0.005623413251903491\n"
     ]
    },
    {
     "data": {
      "image/png": "[encoded data removed]",
      "text/plain": [
       "<Figure size 720x360 with 1 Axes>"
      ]
     },
     "metadata": {},
     "output_type": "display_data"
    }
   ],
   "source": [
    "logistic_stochastic_gradient_descent_exploration(y0, p0_product, 0.8, np.logspace(-3, 0, 5), batch_size, initial_w, max_iter)"
   ]
  },
  {
   "cell_type": "code",
   "execution_count": 199,
   "metadata": {},
   "outputs": [
    {
     "name": "stdout",
     "output_type": "stream",
     "text": [
      "SGD(0/19999): loss=0.6931471805589208, w0=0.0, w1=0.0\n",
      "SGD(4000/19999): loss=0.5040207848555203, w0=0.15342887955224194, w1=0.034076748977626733\n",
      "SGD(8000/19999): loss=0.4939906747744563, w0=0.243595279725571, w1=-0.001648291963714765\n",
      "SGD(12000/19999): loss=0.4915871664850416, w0=0.33348568571048276, w1=0.01853538328868772\n",
      "SGD(16000/19999): loss=0.48967001026667534, w0=0.39975478615140436, w1=0.06503724782799349\n",
      "SGD(19999/19999): loss=0.4878338086983704, w0=0.4175687534326149, w1=0.039346839678896565\n"
     ]
    }
   ],
   "source": [
    "_, ws0_best = log_stochastic_gradient_descent(y0, p0_product, initial_w, 10, 20000, 5.6e-3)"
   ]
  },
  {
   "cell_type": "code",
   "execution_count": 73,
   "metadata": {},
   "outputs": [],
   "source": [
    "ws0_best = ws0_best[-1]"
   ]
  },
  {
   "cell_type": "code",
   "execution_count": 331,
   "metadata": {},
   "outputs": [
    {
     "name": "stdout",
     "output_type": "stream",
     "text": [
      "Ridge Resgression, Loss : 0.723, Lambda : 1e-10\n"
     ]
    },
    {
     "data": {
      "image/png": "[encoded data removed]",
      "text/plain": [
       "<Figure size 720x360 with 1 Axes>"
      ]
     },
     "metadata": {},
     "output_type": "display_data"
    }
   ],
   "source": [
    "ridge_regression_exploration(y0, p0_product, 0.8, np.logspace(-10, 3, 30))"
   ]
  },
  {
   "cell_type": "code",
   "execution_count": 333,
   "metadata": {},
   "outputs": [
    {
     "data": {
      "text/plain": [
       "0.7638552448065771"
      ]
     },
     "execution_count": 333,
     "metadata": {},
     "output_type": "execute_result"
    }
   ],
   "source": [
    "x_tr, x_te, y_tr, y_te = split_data(p0_product, y0, 0.8)\n",
    "ws0_ridge = ridge_regression(y_tr, x_tr, 1e-5)\n",
    "y_pred1 = predict_labels(ws0_ridge, x_te)\n",
    "accuracy_calculator(y_pred1, y_te)"
   ]
  },
  {
   "cell_type": "markdown",
   "metadata": {},
   "source": [
    "## P1"
   ]
  },
  {
   "cell_type": "code",
   "execution_count": 323,
   "metadata": {},
   "outputs": [
    {
     "name": "stdout",
     "output_type": "stream",
     "text": [
      "Ridge Resgression, Loss : 0.246, Lambda : 1e-10\n"
     ]
    },
    {
     "data": {
      "image/png": "[encoded data removed]",
      "text/plain": [
       "<Figure size 720x360 with 1 Axes>"
      ]
     },
     "metadata": {},
     "output_type": "display_data"
    }
   ],
   "source": [
    "ridge_regression_exploration(y1, p1_product, 0.8, np.logspace(-10, 3, 30))"
   ]
  },
  {
   "cell_type": "code",
   "execution_count": 330,
   "metadata": {},
   "outputs": [
    {
     "data": {
      "text/plain": [
       "0.9273252000524728"
      ]
     },
     "execution_count": 330,
     "metadata": {},
     "output_type": "execute_result"
    }
   ],
   "source": [
    "x_tr, x_te, y_tr, y_te = split_data(p1_product, y1, 0.8)\n",
    "ws1_ridge = ridge_regression(y_tr, x_tr, 1e-5)\n",
    "y_pred1 = predict_labels(ws1_ridge, x_te)\n",
    "accuracy_calculator(y_pred1, y_te)"
   ]
  },
  {
   "cell_type": "markdown",
   "metadata": {},
   "source": [
    "## P2"
   ]
  },
  {
   "cell_type": "code",
   "execution_count": 327,
   "metadata": {},
   "outputs": [
    {
     "name": "stdout",
     "output_type": "stream",
     "text": [
      "Ridge Resgression, Loss : 5.067, Lambda : 10000.0\n"
     ]
    },
    {
     "data": {
      "image/png": "[encoded data removed]",
      "text/plain": [
       "<Figure size 720x360 with 1 Axes>"
      ]
     },
     "metadata": {},
     "output_type": "display_data"
    }
   ],
   "source": [
    "ridge_regression_exploration(y2, p2_product_log, 0.8, np.logspace(-10, 4, 30))"
   ]
  },
  {
   "cell_type": "code",
   "execution_count": 328,
   "metadata": {},
   "outputs": [
    {
     "data": {
      "text/plain": [
       "0.7843881284726928"
      ]
     },
     "execution_count": 328,
     "metadata": {},
     "output_type": "execute_result"
    }
   ],
   "source": [
    "x_tr, x_te, y_tr, y_te = split_data(p2_product_log, y2, 0.8)\n",
    "ws2_ridge = ridge_regression(y_tr, x_tr, 16)\n",
    "y_pred2 = predict_labels(ws2_ridge, x_te)\n",
    "accuracy_calculator(y_pred2, y_te)"
   ]
  },
  {
   "cell_type": "markdown",
   "metadata": {},
   "source": [
    "## P3"
   ]
  },
  {
   "cell_type": "code",
   "execution_count": 337,
   "metadata": {},
   "outputs": [
    {
     "name": "stdout",
     "output_type": "stream",
     "text": [
      "Ridge Resgression, Loss : 0.756, Lambda : 0.0017433288221999908\n"
     ]
    },
    {
     "data": {
      "image/png": "[encoded data removed]",
      "text/plain": [
       "<Figure size 720x360 with 1 Axes>"
      ]
     },
     "metadata": {},
     "output_type": "display_data"
    }
   ],
   "source": [
    "ridge_regression_exploration(y3, p3_product_log, 0.8, np.logspace(-10, 4, 30))"
   ]
  },
  {
   "cell_type": "code",
   "execution_count": 338,
   "metadata": {},
   "outputs": [
    {
     "data": {
      "text/plain": [
       "0.7358719725655498"
      ]
     },
     "execution_count": 338,
     "metadata": {},
     "output_type": "execute_result"
    }
   ],
   "source": [
    "x_tr, x_te, y_tr, y_te = split_data(p3_product_log, y3, 0.8)\n",
    "ws3_ridge = ridge_regression(y_tr, x_tr, 5.7e-4)\n",
    "y_pred3 = predict_labels(ws3_ridge, x_te)\n",
    "accuracy_calculator(y_pred3, y_te)"
   ]
  },
  {
   "cell_type": "markdown",
   "metadata": {},
   "source": [
    "# Test Models"
   ]
  },
  {
   "cell_type": "code",
   "execution_count": 244,
   "metadata": {},
   "outputs": [
    {
     "name": "stdout",
     "output_type": "stream",
     "text": [
      "y has shape (250000,)\n",
      "X has shape (250000, 30)\n"
     ]
    }
   ],
   "source": [
    "y_te, tx_te, ids_te = load_csv_data(\"data_csv/test.csv\", sub_sample=False)\n",
    "print(\"y has shape {0}\".format(y.shape))\n",
    "print(\"X has shape {0}\".format(tx.shape))"
   ]
  },
  {
   "cell_type": "code",
   "execution_count": 304,
   "metadata": {},
   "outputs": [],
   "source": [
    "tx_te_nan = transform_to_nan(tx_te, -900)\n",
    "xx_te = transform_column_22_and_delete(tx_te_nan)\n",
    "p0_ind_te, p0_te, y0_te, p1_ind_te, p1_te, y1_te, p2_ind_te, p2_te, y2_te, p3_ind_te, p3_te, y3_te = decompose_dataset_according_to_NAN_pattern(xx_te, y_te, [0,23,27])"
   ]
  },
  {
   "cell_type": "code",
   "execution_count": 305,
   "metadata": {},
   "outputs": [],
   "source": [
    "feature_nans_1 = [0]\n",
    "p1_te_processed = remove_constant_features(p1_te, feature_nans_1)\n",
    "\n",
    "feature_nans_2 = [4, 5, 6, 12, 22, 23, 24, 25, 26, 27]\n",
    "p2_te_processed = remove_constant_features(p2_te, feature_nans_2)\n",
    "\n",
    "feature_nans_3 = [4, 5, 6, 12, 25, 26, 27]\n",
    "p3_te_processed = remove_constant_features(p3_te, feature_nans_3)\n",
    "\n",
    "p0_te_nan_mean = transform_feature_to_mean_given_training(p0_te, p0_mean)\n",
    "p1_te_nan_mean = transform_feature_to_mean_given_training(p1_te_processed, p1_mean)\n",
    "p2_te_nan_mean = transform_feature_to_mean_given_training(p2_te_processed, p2_mean)\n",
    "p3_te_nan_mean = transform_feature_to_mean_given_training(p3_te_processed, p3_mean)"
   ]
  },
  {
   "cell_type": "code",
   "execution_count": 306,
   "metadata": {},
   "outputs": [],
   "source": [
    "feature_0_to_select = [0, 63, 2, 3, 4, 67, 6,  69, 70, 71, 72, 11, 74, 75, 14, 15, 16, 79,\n",
    " 18, 81, 82, 21, 22, 23, 86, 87, 26, 89, 28, 29, 92, 62]\n",
    "feature_0_poly = [5, 8, 13, 15, 18, 24]\n",
    "feature_0_inter_product_1 = [30, 30, 30, 30]\n",
    "feature_0_inter_product_2 = [8, 16, 26, 1]\n",
    "feature_0_square_log = []"
   ]
  },
  {
   "cell_type": "code",
   "execution_count": 307,
   "metadata": {},
   "outputs": [],
   "source": [
    "feature_1_to_select = [ 0, 65, 66, 67, 36,  5, 70, 71,  8,  9, 42, 75, 76, 13, 14, 79, 80, 17,\n",
    " 82, 83, 20, 53, 86, 87, 88, 25, 90, 91, 92, 61, 94, 95, 96]\n",
    "feature_1_poly = [9, 15]\n",
    "feature_1_inter_product_1 =  [29, 29, 29, 29, 29]\n",
    "feature_1_inter_product_2 = [1, 10, 16, 24, 28]\n",
    "feature_1_square_log = []"
   ]
  },
  {
   "cell_type": "code",
   "execution_count": 308,
   "metadata": {},
   "outputs": [],
   "source": [
    "feature_2_to_select = [ 0, 37, 38,  3,  4, 41,  6,  7, 26,  9, 28, 11, 12, 13, 14, 15, 16, 17,\n",
    " 18]\n",
    "feature_2_poly = [2, 3, 5, 10, 13, 16, 18, 23]\n",
    "feature_2_inter_product_1 = [9, 9, 9, 9, 9, 9, 9, 9, 9]\n",
    "feature_2_inter_product_2 = [5, 6, 10, 11, 12, 13, 14, 16, 23]\n",
    "feature_2_square_log = [28, 29, 30, 35]"
   ]
  },
  {
   "cell_type": "code",
   "execution_count": 387,
   "metadata": {},
   "outputs": [],
   "source": [
    "feature_3_to_select = [ 0,  1, 46,  3, 26, 49, 28, 7, 8, 53, 32, 11, 12, 35, 36, 15, 38, 17,\n",
    " 18, 19, 64, 43, 22]\n",
    "feature_3_poly = [4, 5, 6, 8, 9, 18, 20]\n",
    "feature_3_inter_product_1 = [9, 9, 9, 9, 9, 9, 9, 9, 9, 9, 9, 9]\n",
    "feature_3_inter_product_2 = [4, 5, 6, 8, 12, 13, 14, 16, 17, 18, 20, 21]\n",
    "feature_3_square_log =  [23, 24, 26, 33]"
   ]
  },
  {
   "cell_type": "markdown",
   "metadata": {},
   "source": [
    "### P0"
   ]
  },
  {
   "cell_type": "code",
   "execution_count": 390,
   "metadata": {},
   "outputs": [],
   "source": [
    "p0_te_nan_mean_moins = remove_constant_features(p0_te_nan_mean, [29, 30])\n",
    "\n",
    "p0_te_eng = create_big_test_matrix_given_training_transformations(p0_te_nan_mean_moins, log_min0, sqrt_min0)\n",
    "\n",
    "p0_te_eng_plus = add_first_feature_column(p0_te_eng)\n",
    "\n",
    "p0_te_best_final = select_features_given_training_transformations(p0_te_eng_plus, feature_0_to_select)\n",
    "\n",
    "\n",
    "p0_te_final = apply_transformation_given_training_transformations(p0_te_best_final, \n",
    "                                                                  feature_0_poly,\n",
    "                                                                  feature_0_inter_product_1, \n",
    "                                                                  feature_0_inter_product_2, \n",
    "                                                                  feature_0_square_log, \n",
    "                                                                  0)"
   ]
  },
  {
   "cell_type": "markdown",
   "metadata": {},
   "source": [
    "### P1"
   ]
  },
  {
   "cell_type": "code",
   "execution_count": 391,
   "metadata": {},
   "outputs": [],
   "source": [
    "p1_te_nan_mean_moins = remove_constant_features(p1_te_nan_mean, [])\n",
    "\n",
    "p1_te_eng = create_big_test_matrix_given_training_transformations(p1_te_nan_mean_moins, log_min1, sqrt_min1)\n",
    "\n",
    "p1_te_eng_plus = add_first_feature_column(p1_te_eng)\n",
    "\n",
    "p1_te_best_final = select_features_given_training_transformations(p1_te_eng_plus, feature_1_to_select)\n",
    "\n",
    "\n",
    "p1_te_final = apply_transformation_given_training_transformations(p1_te_best_final,\n",
    "                                                                  feature_1_poly,\n",
    "                                                                  feature_1_inter_product_1, \n",
    "                                                                  feature_1_inter_product_2, \n",
    "                                                                  feature_1_square_log, \n",
    "                                                                  0)"
   ]
  },
  {
   "cell_type": "markdown",
   "metadata": {},
   "source": [
    "### P2"
   ]
  },
  {
   "cell_type": "code",
   "execution_count": 392,
   "metadata": {},
   "outputs": [],
   "source": [
    "p2_te_nan_mean_moins = remove_constant_features(p2_te_nan_mean, [18, 19, 20, 21, 22])\n",
    "\n",
    "p2_te_eng = create_big_test_matrix_given_training_transformations(p2_te_nan_mean_moins, log_min2, sqrt_min2)\n",
    "\n",
    "p2_te_eng_plus = add_first_feature_column(p2_te_eng)\n",
    "\n",
    "p2_te_best_final = select_features_given_training_transformations(p2_te_eng_plus, feature_2_to_select)\n",
    "\n",
    "p2_te_final = apply_transformation_given_training_transformations(p2_te_best_final, \n",
    "                                                                  feature_2_poly,\n",
    "                                                                  feature_2_inter_product_1, \n",
    "                                                                  feature_2_inter_product_2, \n",
    "                                                                  feature_2_square_log, \n",
    "                                                                  min_square_log2)"
   ]
  },
  {
   "cell_type": "markdown",
   "metadata": {},
   "source": [
    "### P3"
   ]
  },
  {
   "cell_type": "code",
   "execution_count": 393,
   "metadata": {},
   "outputs": [],
   "source": [
    "p3_te_nan_mean_moins = remove_constant_features(p3_te_nan_mean, [22, 23, 24, 25])\n",
    "\n",
    "p3_te_eng = create_big_test_matrix_given_training_transformations(p3_te_nan_mean_moins, log_min3, sqrt_min3)\n",
    "\n",
    "p3_te_eng_plus = add_first_feature_column(p3_te_eng)\n",
    "\n",
    "p3_te_best_final = select_features_given_training_transformations(p3_te_eng_plus, feature_3_to_select)\n",
    "\n",
    "\n",
    "p3_te_final = apply_transformation_given_training_transformations(p3_te_best_final, \n",
    "                                                                  feature_3_poly,\n",
    "                                                                  feature_3_inter_product_1, \n",
    "                                                                  feature_3_inter_product_2, \n",
    "                                                                  feature_3_square_log, \n",
    "                                                                  min_square_log3)"
   ]
  },
  {
   "cell_type": "code",
   "execution_count": 394,
   "metadata": {},
   "outputs": [],
   "source": [
    "def transform_feature_to_mean_given_training(x, mean):\n",
    "    \n",
    "    t = x.copy()\n",
    "        \n",
    "    for i, column in enumerate(t.T):\n",
    "        column[np.isnan(column)] = mean[i]\n",
    "    \n",
    "    return t\n",
    "\n",
    "def transform_feature_log_given_training(x, features, min_log):\n",
    "    \n",
    "    tx = x.copy()\n",
    "        \n",
    "    for i, feature in enumerate(features):\n",
    "        \n",
    "        f_min = min_log[i]\n",
    "        temp = tx[:,feature] - f_min + 0.1 #pour enlever les valeurs négatives\n",
    "        logfeature = np.sqrt(temp)\n",
    "        c = np.c_[tx, logfeature]\n",
    "        tx = c.copy()\n",
    "    \n",
    "    return tx\n",
    "\n",
    "def transform_feature_sqrt_given_training(x, features, min_sqrt):\n",
    "    \n",
    "    tx = x.copy()\n",
    "        \n",
    "    for i, feature in enumerate(features):\n",
    "        \n",
    "        f_min = min_sqrt[i]\n",
    "        temp = tx[:,feature] - f_min + 0.1 #pour enlever les valeurs négatives\n",
    "        sqrtfeature = np.sqrt(temp)\n",
    "        c = np.c_[tx, sqrtfeature]\n",
    "        tx = c.copy()\n",
    "    \n",
    "    return tx"
   ]
  },
  {
   "cell_type": "code",
   "execution_count": 395,
   "metadata": {},
   "outputs": [],
   "source": [
    "def create_big_test_matrix_given_training_transformations(dataset, min_log, min_sqrt):\n",
    "    \n",
    "    tx_ = dataset.copy()\n",
    "    (l,c) = np.shape(dataset)\n",
    "    features = list(range(c))\n",
    "    #features = list(range(30-1))   #-1 car on a enleve la colonne 22     \n",
    "\n",
    "    # ajouter sin\n",
    "    tx_sin = transform_feature_sin(tx_, features)\n",
    "\n",
    "    #ajouter cos\n",
    "    tx_cos = transform_feature_cos(tx_sin, features)\n",
    "\n",
    "    #ajouter log\n",
    "    tx_log, mean = transform_feature_log(tx_cos, features)\n",
    "\n",
    "    #ajouter sqrt\n",
    "    tx_sqrt, mean = transform_feature_sqrt(tx_log, features)\n",
    "    \n",
    "    ## Put nan values to 0 if some where below zero before sqrt and log\n",
    "    #tx_zero_nan = transform_nan_to_zero(tx_sqrt)\n",
    "    \n",
    "    #standardize\n",
    "    tx_stand, tx_mean, tx_std = standardize(tx_sqrt)\n",
    "    \n",
    "    \n",
    "    return tx_stand"
   ]
  },
  {
   "cell_type": "code",
   "execution_count": 389,
   "metadata": {},
   "outputs": [],
   "source": [
    "def select_features_given_training_transformations(tx, features):\n",
    "    return tx[:, features]\n",
    "\n",
    "def apply_transformation_given_training_transformations(tx, f_poly, f_inter_prod_1, f_inter_prod_2, f_square_log, min_log):\n",
    "    tx_poly = create_polynomial(tx, f_poly)\n",
    "\n",
    "    tx_product = create_inter_product(tx_poly, f_inter_prod_1, f_inter_prod_2)\n",
    "\n",
    "    tx_product_log, mean = transform_feature_log(tx_product, f_square_log)\n",
    "    \n",
    "    ## Put nan values to 0 if some where below zero before log\n",
    "    #tx_zero_nan = transform_nan_to_zero(tx_product_log)\n",
    "    \n",
    "    return tx_product_log"
   ]
  },
  {
   "cell_type": "code",
   "execution_count": 396,
   "metadata": {},
   "outputs": [],
   "source": [
    "labels0 = predict_labels(ws0_ridge, p0_te_final)\n",
    "labels1 = predict_labels(ws1_ridge, p1_te_final)\n",
    "labels2 = predict_labels(ws2_ridge, p2_te_final)\n",
    "labels3 = predict_labels(ws3_ridge, p3_te_final)\n",
    "\n",
    "labels = np.nan*np.zeros(tx_te.shape[0])\n",
    "labels[p0_ind_te] = labels0\n",
    "labels[p1_ind_te] = labels1\n",
    "labels[p2_ind_te] = labels2\n",
    "labels[p3_ind_te] = labels3"
   ]
  },
  {
   "cell_type": "code",
   "execution_count": 398,
   "metadata": {},
   "outputs": [
    {
     "data": {
      "text/plain": [
       "0"
      ]
     },
     "execution_count": 398,
     "metadata": {},
     "output_type": "execute_result"
    }
   ],
   "source": [
    "### check all values are assigned correctly\n",
    "np.count_nonzero(np.isnan(labels))"
   ]
  },
  {
   "cell_type": "markdown",
   "metadata": {},
   "source": [
    "# Create CSV"
   ]
  },
  {
   "cell_type": "code",
   "execution_count": 399,
   "metadata": {},
   "outputs": [
    {
     "name": "stdout",
     "output_type": "stream",
     "text": [
      "We have 63% non higgs samples, we aim for 65%.\n"
     ]
    }
   ],
   "source": [
    "### We aim to categorize that much sample as NON-HIGGS\n",
    "print(\"We have {0}% non higgs samples, we aim for 65%.\".format( round(np.count_nonzero(labels[labels == -1])/tx_te.shape[0]*100), 2))"
   ]
  },
  {
   "cell_type": "code",
   "execution_count": 400,
   "metadata": {},
   "outputs": [],
   "source": [
    "create_csv_submission(ids_te, labels, '8eme')"
   ]
  },
  {
   "cell_type": "code",
   "execution_count": 94,
   "metadata": {},
   "outputs": [
    {
     "data": {
      "text/plain": [
       "array([-1., -1., -1., ..., -1., -1., -1.])"
      ]
     },
     "execution_count": 94,
     "metadata": {},
     "output_type": "execute_result"
    }
   ],
   "source": [
    "l"
   ]
  },
  {
   "cell_type": "code",
   "execution_count": null,
   "metadata": {},
   "outputs": [],
   "source": []
  },
  {
   "cell_type": "code",
   "execution_count": 86,
   "metadata": {},
   "outputs": [],
   "source": [
    "def basic_features_process_te(tx, nan_mean):\n",
    "    \n",
    "    tx_nan_mean, nan_mean = transform_to_mean(tx)\n",
    "    \n",
    "    features_square = [6]\n",
    "    tx_square = transform_feature_power(tx_nan_mean, features_square, 2)\n",
    "\n",
    "    features_log = [0, 2, 3, 5, 6, 8, 9, 10, 13, 16, 19, 21, 23, 26, 29]\n",
    "    tx_log = transform_feature_log(tx_square, features_log)\n",
    "\n",
    "    features_sin = [11, 12, 14, 15, 17]\n",
    "    tx_angle_stand = standardize_angles(tx_log, features_sin)\n",
    "    tx_sin = transform_feature_sin(tx_angle_stand, features_sin)\n",
    "\n",
    "    feature_std = features_log\n",
    "    tx_std, mean, std = standardize_features(tx_sin, feature_std)\n",
    "\n",
    "    tx_22plus0 = new_feature_PRI_jet_num(tx_std, 0.0)\n",
    "    tx_22plus1 = new_feature_PRI_jet_num(tx_22plus0, 1.0)\n",
    "    tx_22plus2 = new_feature_PRI_jet_num(tx_22plus1, 2.0)\n",
    "    tx_22plus3 = new_feature_PRI_jet_num(tx_22plus2, 3.0)\n",
    "    \n",
    "    return tx_22plus3"
   ]
  }
 ],
 "metadata": {
  "kernelspec": {
   "display_name": "Python 3",
   "language": "python",
   "name": "python3"
  },
  "language_info": {
   "codemirror_mode": {
    "name": "ipython",
    "version": 3
   },
   "file_extension": ".py",
   "mimetype": "text/x-python",
   "name": "python",
   "nbconvert_exporter": "python",
   "pygments_lexer": "ipython3",
   "version": "3.6.5"
  }
 },
 "nbformat": 4,
 "nbformat_minor": 2
}
