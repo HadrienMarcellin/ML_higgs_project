{
 "cells": [
  {
   "cell_type": "code",
   "execution_count": 6,
   "metadata": {},
   "outputs": [
    {
     "name": "stdout",
     "output_type": "stream",
     "text": [
      "The autoreload extension is already loaded. To reload it, use:\n",
      "  %reload_ext autoreload\n"
     ]
    }
   ],
   "source": [
    "import numpy as np\n",
    "import math\n",
    "import csv\n",
    "from proj1_helpers import *\n",
    "from Hadrien import *\n",
    "from ML_methods import *\n",
    "from features_engineering import *\n",
    "from correlation import *\n",
    "import matplotlib.pyplot as plt\n",
    "\n",
    "\n",
    "%load_ext autoreload\n",
    "%autoreload 2"
   ]
  },
  {
   "cell_type": "code",
   "execution_count": 7,
   "metadata": {},
   "outputs": [
    {
     "name": "stdout",
     "output_type": "stream",
     "text": [
      "y has shape (5000,)\n",
      "X has shape (5000, 30)\n"
     ]
    }
   ],
   "source": [
    "y, tx, ids = load_csv_data(\"data_csv/train.csv\", sub_sample=True)\n",
    "print(\"y has shape {0}\".format(y.shape))\n",
    "print(\"X has shape {0}\".format(tx.shape))"
   ]
  },
  {
   "cell_type": "code",
   "execution_count": 8,
   "metadata": {},
   "outputs": [],
   "source": [
    "#remove nan values\n",
    "tx_nan = transform_to_nan(tx, -900)\n",
    "tx_nan_mean, mean =transform_to_mean(tx_nan)"
   ]
  },
  {
   "cell_type": "code",
   "execution_count": 12,
   "metadata": {},
   "outputs": [
    {
     "name": "stdout",
     "output_type": "stream",
     "text": [
      "Correlation feature 0 : 0.0002220610010431732\n",
      "Correlation feature 1 : 0.3507761103988732\n",
      "Correlation feature 2 : 0.01985681640435429\n",
      "Correlation feature 3 : 0.2118698066751994\n",
      "Correlation feature 4 : 0.003938113064900894\n",
      "Correlation feature 5 : 0.08688827922204964\n",
      "Correlation feature 6 : 0.008105690948156689\n",
      "Correlation feature 7 : 0.0003649316077696323\n",
      "Correlation feature 8 : 0.003614117862198391\n",
      "Correlation feature 9 : 0.12406909264668596\n",
      "Correlation feature 10 : 0.004574320360487127\n",
      "Correlation feature 11 : 0.006934038128756273\n",
      "Correlation feature 12 : 0.0008583223202396078\n",
      "Correlation feature 13 : 0.23675391693043887\n",
      "Correlation feature 14 : 0.00040052288878263115\n",
      "Correlation feature 15 : 0.0007511833208901385\n",
      "Correlation feature 16 : 0.016903996841295173\n",
      "Correlation feature 17 : 0.0008627829792976021\n",
      "Correlation feature 18 : 0.0011005052958110175\n",
      "Correlation feature 19 : 0.036765156910453664\n",
      "Correlation feature 20 : 0.0006254352693351403\n",
      "Correlation feature 21 : 0.09421054770292889\n",
      "Correlation feature 22 : 0.003829516178107198\n",
      "Correlation feature 23 : 0.06539594872752215\n",
      "Correlation feature 24 : 0.0013005818427500348\n",
      "Correlation feature 25 : 0.0006897133976541246\n",
      "Correlation feature 26 : 0.015745127976661433\n",
      "Correlation feature 27 : 0.00022139588205340256\n",
      "Correlation feature 28 : 0.0007146079100090072\n",
      "Correlation feature 29 : 0.15176927266275203\n"
     ]
    }
   ],
   "source": [
    "for i, feature in enumerate(tx_nan_mean.T):\n",
    "    print(\"Correlation feature {0} : {1}\".format(i, abs(corr_pear(y, tx_nan_mean, i))))"
   ]
  },
  {
   "cell_type": "markdown",
   "metadata": {},
   "source": [
    "### test feature engineering correlation"
   ]
  },
  {
   "cell_type": "markdown",
   "metadata": {},
   "source": [
    "#### cos engineering\n",
    "-> applying cos to all features and select the ones improved "
   ]
  },
  {
   "cell_type": "code",
   "execution_count": 25,
   "metadata": {},
   "outputs": [
    {
     "name": "stdout",
     "output_type": "stream",
     "text": [
      "Correlation feature 0 after/before: 0.0001649414557177641 / 0.0002220610010431732\n",
      "Correlation feature 1 after/before: 0.00021800667106507907 / 0.3507761103988732\n",
      "Correlation feature 2 after/before: 0.0014285488105936779 / 0.01985681640435429\n",
      "Correlation feature 3 after/before: 0.000632246621886391 / 0.2118698066751994\n",
      "Correlation feature 4 after/before: 0.0131132393866959 / 0.003938113064900894\n",
      "Correlation feature 5 after/before: 0.006839976786996521 / 0.08688827922204964\n",
      "Correlation feature 6 after/before: 0.014991649148436833 / 0.008105690948156689\n",
      "Correlation feature 7 after/before: 0.00515281456489388 / 0.0003649316077696323\n",
      "Correlation feature 8 after/before: 0.002172172266567738 / 0.003614117862198391\n",
      "Correlation feature 9 after/before: 0.002505723812010117 / 0.12406909264668596\n",
      "Correlation feature 10 after/before: 0.03146667714119765 / 0.004574320360487127\n",
      "Correlation feature 11 after/before: 0.001589322262153709 / 0.006934038128756273\n",
      "Correlation feature 12 after/before: 0.008158595669104731 / 0.0008583223202396078\n",
      "Correlation feature 13 after/before: 0.010023022446177692 / 0.23675391693043887\n",
      "Correlation feature 14 after/before: 0.014522600928262765 / 0.00040052288878263115\n",
      "Correlation feature 15 after/before: 0.0004911485273962071 / 0.0007511833208901385\n",
      "Correlation feature 16 after/before: 0.0020641881411977217 / 0.016903996841295173\n",
      "Correlation feature 17 after/before: 0.010386251428702118 / 0.0008627829792976021\n",
      "Correlation feature 18 after/before: 0.00335410222088056 / 0.0011005052958110175\n",
      "Correlation feature 19 after/before: 0.0015535334579074198 / 0.036765156910453664\n",
      "Correlation feature 20 after/before: 0.001442371531247998 / 0.0006254352693351403\n",
      "Correlation feature 21 after/before: 0.0014413557120182853 / 0.09421054770292889\n",
      "Correlation feature 22 after/before: 0.029167701870226628 / 0.003829516178107198\n",
      "Correlation feature 23 after/before: 0.025771609243247458 / 0.06539594872752215\n",
      "Correlation feature 24 after/before: 0.06513192871388478 / 0.0013005818427500348\n",
      "Correlation feature 25 after/before: 0.009865926448113089 / 0.0006897133976541246\n",
      "Correlation feature 26 after/before: 0.005561790003860152 / 0.015745127976661433\n",
      "Correlation feature 27 after/before: 0.050010965058150614 / 0.00022139588205340256\n",
      "Correlation feature 28 after/before: 0.022178941598725282 / 0.0007146079100090072\n",
      "Correlation feature 29 after/before: 0.022801194365107347 / 0.15176927266275203\n"
     ]
    }
   ],
   "source": [
    "features = [1,2,3,4,5,6,7,8,9,10,11,12,13,14,15,16,17,18,19,20,21,22,23,24,25,26,27,28,29]\n",
    "tx_cos = transform_feature_cos(tx_nan_mean, features)\n",
    "for i, feature in enumerate(tx_nan_mean.T):\n",
    "    print(\"Correlation feature {0} after/before: {1} / {2}\".format(i, abs(corr_pear(y, tx_cos, i)), abs(corr_pear(y, tx_nan_mean, i))))\n",
    "\n"
   ]
  },
  {
   "cell_type": "code",
   "execution_count": 23,
   "metadata": {},
   "outputs": [
    {
     "name": "stdout",
     "output_type": "stream",
     "text": [
      "cos augments the correlation of the features 4 -> before : 0.003938113064900894 and after: 0.0131132393866959\n",
      "cos augments the correlation of the features 6 -> before : -0.008105690948156689 and after: -0.014991649148436833\n",
      "cos augments the correlation of the features 7 -> before : -0.0003649316077696323 and after: -0.00515281456489388\n",
      "cos augments the correlation of the features 10 -> before : -0.004574320360487127 and after: 0.03146667714119765\n",
      "cos augments the correlation of the features 12 -> before : 0.0008583223202396078 and after: -0.008158595669104731\n",
      "cos augments the correlation of the features 14 -> before : 0.00040052288878263115 and after: 0.014522600928262765\n",
      "cos augments the correlation of the features 17 -> before : 0.0008627829792976021 and after: 0.010386251428702118\n",
      "cos augments the correlation of the features 18 -> before : 0.0011005052958110175 and after: -0.00335410222088056\n",
      "cos augments the correlation of the features 20 -> before : 0.0006254352693351403 and after: -0.001442371531247998\n",
      "cos augments the correlation of the features 22 -> before : 0.003829516178107198 and after: -0.029167701870226628\n",
      "cos augments the correlation of the features 24 -> before : -0.0013005818427500348 and after: -0.06513192871388478\n",
      "cos augments the correlation of the features 25 -> before : -0.0006897133976541246 and after: -0.009865926448113089\n",
      "cos augments the correlation of the features 27 -> before : 0.00022139588205340256 and after: -0.050010965058150614\n",
      "cos augments the correlation of the features 28 -> before : -0.0007146079100090072 and after: -0.022178941598725282\n"
     ]
    }
   ],
   "source": [
    "features = [1,2,3,4,5,6,7,8,9,10,11,12,13,14,15,16,17,18,19,20,21,22,23,24,25,26,27,28,29]\n",
    "tx_cos = transform_feature_cos(tx_nan_mean, features)\n",
    "#for i, feature in enumerate(tx_nan_mean.T):\n",
    "    #print(\"Correlation feature {0} before/after: {1} / {2}\".format(i, abs(corr_pear(y, tx_cos, i)), abs(corr_pear(y, tx_nan_mean, i))))\n",
    "for i in range(len(features)):\n",
    "    init = corr_pear(y, tx_nan_mean, i)\n",
    "    cos = corr_pear(y, tx_cos, i)\n",
    "    if(abs(cos) > abs(init)):\n",
    "        print(\"cos augments the correlation of the features {0} -> before : {1} and after: {2}\".format(i, init, cos))\n",
    "        \n",
    "features_cos = [4,6,7,10,12,14,17,18,20,22,24,25,27,28]"
   ]
  },
  {
   "cell_type": "markdown",
   "metadata": {},
   "source": [
    "#### log engineering\n",
    "-> applying cos to all features and select the ones improved "
   ]
  },
  {
   "cell_type": "code",
   "execution_count": 28,
   "metadata": {},
   "outputs": [
    {
     "name": "stdout",
     "output_type": "stream",
     "text": [
      "log augments the correlation of the features 2 -> before : -0.01985681640435429 and after: 0.04012106614168983\n",
      "log augments the correlation of the features 4 -> before : 0.003938113064900894 and after: 0.008498847910288852\n",
      "log augments the correlation of the features 6 -> before : -0.008105690948156689 and after: -0.009060477308573239\n",
      "log augments the correlation of the features 7 -> before : -0.0003649316077696323 and after: 0.001735562280436574\n",
      "log augments the correlation of the features 9 -> before : 0.12406909264668596 and after: 0.19320637401258436\n",
      "log augments the correlation of the features 10 -> before : -0.004574320360487127 and after: -0.025758510602707622\n",
      "log augments the correlation of the features 11 -> before : 0.006934038128756273 and after: 0.033674864175741115\n",
      "log augments the correlation of the features 12 -> before : 0.0008583223202396078 and after: 0.008515453975530121\n",
      "log augments the correlation of the features 14 -> before : 0.00040052288878263115 and after: 0.0057324810834014275\n",
      "log augments the correlation of the features 15 -> before : -0.0007511833208901385 and after: -0.001746536985627901\n",
      "log augments the correlation of the features 17 -> before : 0.0008627829792976021 and after: 0.005620251450979978\n",
      "log augments the correlation of the features 18 -> before : 0.0011005052958110175 and after: 0.001323990831775834\n",
      "log augments the correlation of the features 20 -> before : 0.0006254352693351403 and after: 0.0008366046363126882\n",
      "log augments the correlation of the features 22 -> before : 0.003829516178107198 and after: 0.03828614267234168\n",
      "log augments the correlation of the features 24 -> before : -0.0013005818427500348 and after: -0.014153796107763452\n",
      "log augments the correlation of the features 25 -> before : -0.0006897133976541246 and after: -0.0039371691018590255\n",
      "log augments the correlation of the features 27 -> before : 0.00022139588205340256 and after: -0.0060756498773679776\n",
      "log augments the correlation of the features 28 -> before : -0.0007146079100090072 and after: -0.0068566523935208535\n"
     ]
    }
   ],
   "source": [
    "features = [1,2,3,4,5,6,7,8,9,10,11,12,13,14,15,16,17,18,19,20,21,22,23,24,25,26,27,28,29]\n",
    "tx_log = transform_feature_log(tx_nan_mean, features)\n",
    "for i in range(len(features)):\n",
    "    init = corr_pear(y, tx_nan_mean, i)\n",
    "    log = corr_pear(y, tx_log, i)\n",
    "    if(abs(log) > abs(init)):\n",
    "        print(\"log augments the correlation of the features {0} -> before : {1} and after: {2}\".format(i, init, log))\n",
    "        \n",
    "features_log = [2,4,6,7,9,10,11,12,14,15,17,18,20,22,24,25,27,28]"
   ]
  },
  {
   "cell_type": "markdown",
   "metadata": {},
   "source": [
    "#### cos and log simultaneously"
   ]
  },
  {
   "cell_type": "code",
   "execution_count": 30,
   "metadata": {
    "scrolled": false
   },
   "outputs": [
    {
     "name": "stdout",
     "output_type": "stream",
     "text": [
      "log augments the correlation of the features 4 -> before : 0.0012361907756309716 and after: 0.0013373685157339905\n",
      "log augments the correlation of the features 6 -> before : -0.0018033904263518468 and after: -0.0025961315214613236\n",
      "log augments the correlation of the features 7 -> before : -0.0006916293283378766 and after: -0.0014358817513037405\n",
      "log augments the correlation of the features 8 -> before : -0.003622410821604213 and after: -0.004157164811260129\n",
      "log augments the correlation of the features 10 -> before : 0.0036416593760560754 and after: 0.003935781124336465\n",
      "log augments the correlation of the features 11 -> before : 0.0069179617395560295 and after: 0.008624098674832959\n",
      "log augments the correlation of the features 12 -> before : -0.0005275621306052361 and after: -0.0023445333850421303\n",
      "log augments the correlation of the features 14 -> before : 0.0009208238593005778 and after: 0.0011966331330419454\n",
      "log augments the correlation of the features 17 -> before : 0.0016836523780124676 and after: 0.0022953750574910585\n",
      "log augments the correlation of the features 18 -> before : -0.0004276692515459598 and after: -0.0005623768556597253\n",
      "log augments the correlation of the features 20 -> before : -0.0002532132524083247 and after: -0.00037376898148905216\n",
      "log augments the correlation of the features 24 -> before : -0.004559545105886546 and after: -0.005722816116081462\n",
      "log augments the correlation of the features 25 -> before : -0.0014750091649575097 and after: -0.0019375949357563233\n",
      "log augments the correlation of the features 27 -> before : -0.003989597481869997 and after: -0.005449050020690638\n",
      "log augments the correlation of the features 28 -> before : -0.0022273483902309006 and after: -0.002279200166281706\n",
      "log augments the correlation of the features 2 -> before : 0.0014633418053151272 and after: 0.0014795277806917517\n",
      "log augments the correlation of the features 4 -> before : 0.0010620594656272624 and after: -0.001209807511985622\n",
      "log augments the correlation of the features 7 -> before : 0.00028139162943796196 and after: 0.0003070926734868324\n",
      "log augments the correlation of the features 8 -> before : -0.004120082375454807 and after: -0.004138552787441087\n",
      "log augments the correlation of the features 9 -> before : 0.00966813503510321 and after: 0.009783643918881495\n",
      "log augments the correlation of the features 11 -> before : 0.008564022093485337 and after: 0.008594922722980161\n",
      "log augments the correlation of the features 15 -> before : -0.0002295081889263325 and after: -0.0002307012478308441\n",
      "log augments the correlation of the features 18 -> before : 0.0002048613168066355 and after: -0.00041956785110587824\n",
      "log augments the correlation of the features 20 -> before : 0.000189729265802728 and after: -0.00020154083475642717\n"
     ]
    }
   ],
   "source": [
    "features_cos = [4,6,7,10,12,14,17,18,20,22,24,25,27,28]\n",
    "tx_cos = transform_feature_cos(tx_nan_mean, features_cos)\n",
    "features_log = [2,4,6,7,9,10,11,12,14,15,17,18,20,22,24,25,27,28]\n",
    "tx_log = transform_feature_log(tx_cos, features_log)\n",
    "for i in range(30):\n",
    "    init = corr_pear(y, tx_cos, i)\n",
    "    log = corr_pear(y, tx_log, i)\n",
    "    if(abs(log) > abs(init)):\n",
    "        print(\"log augments the correlation of the features {0} -> before : {1} and after: {2}\".format(i, init, log))\n",
    "    \n",
    "features_log = [2,4,6,7,9,10,11,12,14,15,17,18,20,22,24,25,27,28]\n",
    "tx_log = transform_feature_log(tx_nan_mean, features_log)\n",
    "features_cos = [4,6,7,10,12,14,17,18,20,22,24,25,27,28]\n",
    "tx_cos = transform_feature_cos(tx_log, features_cos)\n",
    "for i in range(30):\n",
    "    init = corr_pear(y, tx_log, i)\n",
    "    log = corr_pear(y, tx_cos, i)\n",
    "    if(abs(log) > abs(init)):\n",
    "        print(\"log augments the correlation of the features {0} -> before : {1} and after: {2}\".format(i, init, log))\n",
    "        \n",
    "#angles\n",
    "features = [11,12,15,18,20,25,28]\n",
    "tx_angles_stand = standardize_angles(tx_nan_mean, features)\n",
    "for i in features:\n",
    "    corr = pear_corr(y, tx_angles_stand, i)\n",
    "    print(corr)"
   ]
  },
  {
   "cell_type": "markdown",
   "metadata": {},
   "source": [
    "#### sin"
   ]
  },
  {
   "cell_type": "code",
   "execution_count": 35,
   "metadata": {},
   "outputs": [
    {
     "name": "stdout",
     "output_type": "stream",
     "text": [
      "0.006934038128756273\n",
      "0.0008583223202396078\n",
      "0.014477531191187774\n",
      "0.003915193183707306\n",
      "-0.001958776433010888\n",
      "-0.002943077302708528\n"
     ]
    }
   ],
   "source": [
    "tx11 = corr_pear(y, tx_nan_mean, 11)\n",
    "tx12 = corr_pear(y, tx_nan_mean, 12)\n",
    "print(tx11)\n",
    "print(tx12)\n",
    "features_sin = [11,12]\n",
    "tx_angles_stand = standardize_angles(tx_nan_mean, features_sin)\n",
    "tx_11 = corr_pear(y, tx_angles_stand, 11)\n",
    "tx_12 = corr_pear(y, tx_angles_stand, 12)\n",
    "print(tx_11)\n",
    "print(tx_12)\n",
    "tx_sin = transform_feature_sin(tx_angles_stand, features_sin)\n",
    "tx_sin_11 = corr_pear(y, tx_sin, 11)\n",
    "tx_sin_12 = corr_pear(y, tx_sin, 12)\n",
    "print(tx_sin_11)\n",
    "print(tx_sin_12)"
   ]
  },
  {
   "cell_type": "markdown",
   "metadata": {},
   "source": [
    "##### -> meilleur avec simplement standardisation"
   ]
  },
  {
   "cell_type": "code",
   "execution_count": null,
   "metadata": {},
   "outputs": [],
   "source": []
  }
 ],
 "metadata": {
  "kernelspec": {
   "display_name": "Python 3",
   "language": "python",
   "name": "python3"
  },
  "language_info": {
   "codemirror_mode": {
    "name": "ipython",
    "version": 3
   },
   "file_extension": ".py",
   "mimetype": "text/x-python",
   "name": "python",
   "nbconvert_exporter": "python",
   "pygments_lexer": "ipython3",
   "version": "3.6.5"
  }
 },
 "nbformat": 4,
 "nbformat_minor": 2
}
