{
 "cells": [
  {
   "cell_type": "code",
   "execution_count": 1,
   "metadata": {},
   "outputs": [],
   "source": [
    "import numpy as np\n",
    "import math\n",
    "import csv\n",
    "from proj1_helpers import *\n",
    "from Hadrien import *\n",
    "from ML_methods import *\n",
    "from features_engineering import *\n",
    "import matplotlib.pyplot as plt\n",
    "\n",
    "\n",
    "%load_ext autoreload\n",
    "%autoreload 2"
   ]
  },
  {
   "cell_type": "code",
   "execution_count": 2,
   "metadata": {},
   "outputs": [],
   "source": [
    "y, tx, ids = load_csv_data(\"data_csv/train.csv\", sub_sample=True)"
   ]
  },
  {
   "cell_type": "code",
   "execution_count": 3,
   "metadata": {},
   "outputs": [
    {
     "name": "stdout",
     "output_type": "stream",
     "text": [
      "y has shape (5000,)\n",
      "X has shape (5000, 30)\n"
     ]
    }
   ],
   "source": [
    "print(\"y has shape {0}\".format(y.shape))\n",
    "print(\"X has shape {0}\".format(tx.shape))"
   ]
  },
  {
   "cell_type": "markdown",
   "metadata": {},
   "source": [
    "#### NAN processing"
   ]
  },
  {
   "cell_type": "code",
   "execution_count": 4,
   "metadata": {},
   "outputs": [],
   "source": [
    "## TODO : remove NAN before standardization, or at least not consider them in np.mean() and np.std.\n",
    "tx_nan = transform_to_nan(tx, -900)\n",
    "tx_nan_norm, mean_x, std_x = standardize_with_nan(tx_nan)\n",
    "\n",
    "#met les nan a 0\n",
    "tx_zero = transform_nan_to_zero(tx_nan)\n",
    "#met les nan à la mean\n",
    "tx_nan_mean, mean =transform_to_mean(tx_zero)\n",
    "#standardize\n",
    "tx_nan_norm, mean_x, std_x = standardize_with_nan(tx_nan_mean)"
   ]
  },
  {
   "cell_type": "markdown",
   "metadata": {},
   "source": [
    "## Data split"
   ]
  },
  {
   "cell_type": "code",
   "execution_count": 5,
   "metadata": {},
   "outputs": [],
   "source": [
    "def split_data(x, y, ratio, myseed=1):\n",
    "    \"\"\"split the dataset based on the split ratio.\"\"\"\n",
    "    # set seed\n",
    "    np.random.seed(myseed)\n",
    "    # generate random indices\n",
    "    num_row = len(y)\n",
    "    indices = np.random.permutation(num_row)\n",
    "    index_split = int(np.floor(ratio * num_row))\n",
    "    index_tr = indices[: index_split]\n",
    "    index_te = indices[index_split:]\n",
    "    # create split\n",
    "    x_tr = x[index_tr]\n",
    "    x_te = x[index_te]\n",
    "    y_tr = y[index_tr]\n",
    "    y_te = y[index_te]\n",
    "    return x_tr, x_te, y_tr, y_te"
   ]
  },
  {
   "cell_type": "markdown",
   "metadata": {},
   "source": [
    "## Basic Data"
   ]
  },
  {
   "cell_type": "code",
   "execution_count": 6,
   "metadata": {},
   "outputs": [],
   "source": [
    "x_tr,x_te,y_tr,y_te=split_data(tx_nan_norm,y,0.8)"
   ]
  },
  {
   "cell_type": "code",
   "execution_count": 7,
   "metadata": {},
   "outputs": [],
   "source": [
    "initial_w_gd = np.zeros(x_tr.shape[1])\n",
    "max_iters = 1000\n",
    "gamma = 0.000000000005\n",
    "gd_losses, gd_ws = gradient_descent(y_tr, x_tr, initial_w_gd, max_iters, gamma)"
   ]
  },
  {
   "cell_type": "code",
   "execution_count": 8,
   "metadata": {},
   "outputs": [
    {
     "data": {
      "text/plain": [
       "(0.9999999966631599,\n",
       " array([ 7.12223794e-10, -1.70633391e-09, -1.22890600e-10,  1.00009208e-09,\n",
       "         1.19540504e-09,  1.08392046e-09, -9.32704698e-10, -5.60244221e-11,\n",
       "        -6.80468339e-11,  7.85516028e-10, -8.16170392e-10,  1.42248000e-09,\n",
       "         1.18139152e-09,  1.11866292e-09,  7.08378810e-11, -5.45765418e-11,\n",
       "        -7.85786870e-11,  1.15599487e-10,  4.85323262e-11,  9.97525896e-11,\n",
       "         9.76468719e-12,  6.95586069e-10,  7.91500268e-10,  8.61035576e-10,\n",
       "        -1.18312327e-10, -9.56863836e-11,  6.04482756e-10,  3.66265948e-11,\n",
       "        -1.68064994e-10,  6.98802254e-10]))"
      ]
     },
     "execution_count": 8,
     "metadata": {},
     "output_type": "execute_result"
    }
   ],
   "source": [
    "l,wnew=minimum_loss_vector(gd_losses, gd_ws)\n",
    "l,wnew"
   ]
  },
  {
   "cell_type": "code",
   "execution_count": 9,
   "metadata": {},
   "outputs": [],
   "source": [
    "y_pred=predict_labels(wnew, x_tr)"
   ]
  },
  {
   "cell_type": "code",
   "execution_count": 10,
   "metadata": {},
   "outputs": [
    {
     "data": {
      "text/plain": [
       "(array([-1., -1.,  1., ...,  1., -1.,  1.]),\n",
       " array([-1., -1.,  1., ..., -1., -1., -1.]))"
      ]
     },
     "execution_count": 10,
     "metadata": {},
     "output_type": "execute_result"
    }
   ],
   "source": [
    "y_pred,y_tr"
   ]
  },
  {
   "cell_type": "code",
   "execution_count": 11,
   "metadata": {},
   "outputs": [
    {
     "data": {
      "text/plain": [
       "0.68075"
      ]
     },
     "execution_count": 11,
     "metadata": {},
     "output_type": "execute_result"
    }
   ],
   "source": [
    "accuracy_calculator(y_pred, y_tr)"
   ]
  },
  {
   "cell_type": "markdown",
   "metadata": {},
   "source": [
    "# function prediction"
   ]
  },
  {
   "cell_type": "code",
   "execution_count": 12,
   "metadata": {},
   "outputs": [],
   "source": [
    "def prediction(x, y, split, max_iters, gamma, type_func):\n",
    "    #split data\n",
    "    x_tr,x_te,y_tr,y_te=split_data(x,y,split)\n",
    "\n",
    "    if(type_func == 'gd'):\n",
    "        initial_w_gd = np.zeros(x.shape[1])\n",
    "        losses, ws = gradient_descent(y_tr, x_tr, initial_w_gd, max_iters, gamma)\n",
    "    elif(type_func == 'sgd'):\n",
    "        initial_w_sgd = np.zeros(x.shape[1])\n",
    "        losses, ws = stochastic_gradient_descent(y_tr, x_tr, initial_w_sgd, 10, max_iters, gamma)\n",
    "    elif(type_func == 'ls'):\n",
    "        ws = least_squares(y, x)\n",
    "        losses = compute_loss(y, x, ws)\n",
    "    elif(type_func == 'ridge'):\n",
    "        lambdas = np.logspace(-100, 100, 200)\n",
    "        losses = []\n",
    "        for index, lambda_ in enumerate(lambdas):\n",
    "            ws = ridge_regression(y, x, lambda_)\n",
    "            losses.append(compute_loss(y, x, ws))\n",
    "       \n",
    "    #losses\n",
    "    l,wnew=minimum_loss_vector(losses, ws)\n",
    "\n",
    "    #predictions\n",
    "    y_pred=predict_labels(wnew, x_tr)\n",
    "\n",
    "    #accuracy\n",
    "    print(accuracy_calculator(y_pred, y_tr))"
   ]
  },
  {
   "cell_type": "markdown",
   "metadata": {},
   "source": [
    "### Engineered feature 22"
   ]
  },
  {
   "cell_type": "code",
   "execution_count": 63,
   "metadata": {},
   "outputs": [
    {
     "name": "stdout",
     "output_type": "stream",
     "text": [
      "0.729\n",
      "0.72075\n"
     ]
    },
    {
     "ename": "UnboundLocalError",
     "evalue": "local variable 'losses' referenced before assignment",
     "output_type": "error",
     "traceback": [
      "\u001b[0;31m---------------------------------------------------------------------------\u001b[0m",
      "\u001b[0;31mUnboundLocalError\u001b[0m                         Traceback (most recent call last)",
      "\u001b[0;32m<ipython-input-63-caf7a098ecf8>\u001b[0m in \u001b[0;36m<module>\u001b[0;34m()\u001b[0m\n\u001b[1;32m      6\u001b[0m \u001b[0mprediction\u001b[0m\u001b[0;34m(\u001b[0m\u001b[0mtx_22plus\u001b[0m\u001b[0;34m,\u001b[0m \u001b[0my\u001b[0m\u001b[0;34m,\u001b[0m \u001b[0;36m0.8\u001b[0m\u001b[0;34m,\u001b[0m \u001b[0;36m1000\u001b[0m\u001b[0;34m,\u001b[0m \u001b[0;36m0.15\u001b[0m\u001b[0;34m,\u001b[0m \u001b[0;34m'gd'\u001b[0m\u001b[0;34m)\u001b[0m\u001b[0;34m\u001b[0m\u001b[0m\n\u001b[1;32m      7\u001b[0m \u001b[0mprediction\u001b[0m\u001b[0;34m(\u001b[0m\u001b[0mtx_22plus\u001b[0m\u001b[0;34m,\u001b[0m \u001b[0my\u001b[0m\u001b[0;34m,\u001b[0m \u001b[0;36m0.8\u001b[0m\u001b[0;34m,\u001b[0m \u001b[0;36m1000\u001b[0m\u001b[0;34m,\u001b[0m \u001b[0;36m0.067\u001b[0m\u001b[0;34m,\u001b[0m \u001b[0;34m'sgd'\u001b[0m\u001b[0;34m)\u001b[0m\u001b[0;34m\u001b[0m\u001b[0m\n\u001b[0;32m----> 8\u001b[0;31m \u001b[0mprediction\u001b[0m\u001b[0;34m(\u001b[0m\u001b[0mtx_22plus\u001b[0m\u001b[0;34m,\u001b[0m \u001b[0my\u001b[0m\u001b[0;34m,\u001b[0m \u001b[0;36m0.8\u001b[0m\u001b[0;34m,\u001b[0m \u001b[0;36m1000\u001b[0m\u001b[0;34m,\u001b[0m \u001b[0;36m0.067\u001b[0m\u001b[0;34m,\u001b[0m \u001b[0;34m'ls'\u001b[0m\u001b[0;34m)\u001b[0m\u001b[0;34m\u001b[0m\u001b[0m\n\u001b[0m\u001b[1;32m      9\u001b[0m \u001b[0mprediction\u001b[0m\u001b[0;34m(\u001b[0m\u001b[0mtx_22plus\u001b[0m\u001b[0;34m,\u001b[0m \u001b[0my\u001b[0m\u001b[0;34m,\u001b[0m \u001b[0;36m0.8\u001b[0m\u001b[0;34m,\u001b[0m \u001b[0;36m1000\u001b[0m\u001b[0;34m,\u001b[0m \u001b[0;36m0.067\u001b[0m\u001b[0;34m,\u001b[0m \u001b[0;34m'ridge'\u001b[0m\u001b[0;34m)\u001b[0m\u001b[0;34m\u001b[0m\u001b[0m\n",
      "\u001b[0;32m<ipython-input-12-723ea75c3815>\u001b[0m in \u001b[0;36mprediction\u001b[0;34m(x, y, split, max_iters, gamma, type_func)\u001b[0m\n\u001b[1;32m     11\u001b[0m \u001b[0;34m\u001b[0m\u001b[0m\n\u001b[1;32m     12\u001b[0m     \u001b[0;31m#losses\u001b[0m\u001b[0;34m\u001b[0m\u001b[0;34m\u001b[0m\u001b[0m\n\u001b[0;32m---> 13\u001b[0;31m     \u001b[0ml\u001b[0m\u001b[0;34m,\u001b[0m\u001b[0mwnew\u001b[0m\u001b[0;34m=\u001b[0m\u001b[0mminimum_loss_vector\u001b[0m\u001b[0;34m(\u001b[0m\u001b[0mlosses\u001b[0m\u001b[0;34m,\u001b[0m \u001b[0mws\u001b[0m\u001b[0;34m)\u001b[0m\u001b[0;34m\u001b[0m\u001b[0m\n\u001b[0m\u001b[1;32m     14\u001b[0m \u001b[0;34m\u001b[0m\u001b[0m\n\u001b[1;32m     15\u001b[0m     \u001b[0;31m#predictions\u001b[0m\u001b[0;34m\u001b[0m\u001b[0;34m\u001b[0m\u001b[0m\n",
      "\u001b[0;31mUnboundLocalError\u001b[0m: local variable 'losses' referenced before assignment"
     ]
    }
   ],
   "source": [
    "#test of feature engineering depending on classification by feature 22\n",
    "tx_22plus = new_feature_PRI_jet_num(tx_nan_norm, 0.0)\n",
    "tx_22plus = new_feature_PRI_jet_num(tx_22plus, 1.0)\n",
    "tx_22plus = new_feature_PRI_jet_num(tx_22plus, 2.0)\n",
    "tx_22plus = new_feature_PRI_jet_num(tx_22plus, 3.0)\n",
    "prediction(tx_22plus, y, 0.8, 1000, 0.15, 'gd')\n",
    "prediction(tx_22plus, y, 0.8, 1000, 0.067, 'sgd')\n",
    "prediction(tx_22plus, y, 0.8, 1000, 0.067, 'ls')\n",
    "prediction(tx_22plus, y, 0.8, 1000, 0.067, 'ridge')"
   ]
  },
  {
   "cell_type": "markdown",
   "metadata": {},
   "source": [
    "### cos features 14 and 17"
   ]
  },
  {
   "cell_type": "code",
   "execution_count": 14,
   "metadata": {
    "scrolled": true
   },
   "outputs": [
    {
     "name": "stdout",
     "output_type": "stream",
     "text": [
      "0.741\n",
      "0.7275\n"
     ]
    }
   ],
   "source": [
    "features = [14, 17]\n",
    "tx_cos = transform_feature_cos(tx_nan_norm, features)\n",
    "prediction(tx_cos, y, 0.8, 1000, 0.15, 'gd')\n",
    "prediction(tx_cos, y, 0.8, 1000, 0.067, 'sgd')"
   ]
  },
  {
   "cell_type": "markdown",
   "metadata": {},
   "source": [
    "### cos all features"
   ]
  },
  {
   "cell_type": "code",
   "execution_count": 15,
   "metadata": {},
   "outputs": [
    {
     "name": "stdout",
     "output_type": "stream",
     "text": [
      "0.75925\n",
      "0.75125\n"
     ]
    }
   ],
   "source": [
    "features = [1,2,3,4,5,6,7,8,9,10,11,12,13,14,15,16,17,18,19,20,21,22,23,24,25,26,27,28,29]\n",
    "tx_cos2 = transform_feature_cos(tx_nan_norm, features)\n",
    "prediction(tx_cos2, y, 0.8, 1000, 0.09, 'gd')\n",
    "prediction(tx_cos2, y, 0.8, 1000, 0.1, 'sgd')"
   ]
  },
  {
   "cell_type": "code",
   "execution_count": 16,
   "metadata": {},
   "outputs": [
    {
     "name": "stdout",
     "output_type": "stream",
     "text": [
      "0.75925\n",
      "0.75125\n"
     ]
    }
   ],
   "source": [
    "features = [1,2,3,4,5,6,7,8,9,10,11,12,13,14,15,16,17,18,19,20,21,22,23,24,25,26,27,28,29]\n",
    "tx_cos2 = transform_feature_cos(tx_22plus, features)\n",
    "prediction(tx_cos2, y, 0.8, 1000, 0.09, 'gd')\n",
    "prediction(tx_cos2, y, 0.8, 1000, 0.1, 'sgd')"
   ]
  },
  {
   "cell_type": "markdown",
   "metadata": {},
   "source": [
    "### sin all features"
   ]
  },
  {
   "cell_type": "code",
   "execution_count": 41,
   "metadata": {},
   "outputs": [
    {
     "name": "stdout",
     "output_type": "stream",
     "text": [
      "0.74675\n",
      "0.739\n"
     ]
    }
   ],
   "source": [
    "features = [1,2,3,4,5,6,7,8,9,10,11,12,13,14,15,16,17,18,19,20,21,22,23,24,25,26,27,28,29]\n",
    "tx_sin = transform_feature_sin(tx_nan_norm, features)\n",
    "prediction(tx_sin, y, 0.8, 1000, 0.09, 'gd')\n",
    "prediction(tx_sin, y, 0.8, 1000, 0.2, 'sgd')"
   ]
  },
  {
   "cell_type": "markdown",
   "metadata": {},
   "source": [
    "### Angles in sin"
   ]
  },
  {
   "cell_type": "code",
   "execution_count": 32,
   "metadata": {},
   "outputs": [
    {
     "name": "stdout",
     "output_type": "stream",
     "text": [
      "0.73075\n",
      "0.70575\n"
     ]
    }
   ],
   "source": [
    "features_sin = [15, 18, 20, 25, 28]\n",
    "tx_sin2 = transform_feature_sin(tx_nan_norm, features_sin)\n",
    "prediction(tx_sin2, y, 0.8, 1000, 0.08, 'gd')\n",
    "prediction(tx_sin2, y, 0.8, 1000, 0.15, 'sgd')"
   ]
  },
  {
   "cell_type": "markdown",
   "metadata": {},
   "source": [
    "### Angles in cos"
   ]
  },
  {
   "cell_type": "code",
   "execution_count": 31,
   "metadata": {},
   "outputs": [
    {
     "name": "stdout",
     "output_type": "stream",
     "text": [
      "0.756\n",
      "0.7455\n"
     ]
    }
   ],
   "source": [
    "features_cos = [15, 18, 20, 25, 28]\n",
    "tx_cos3 = transform_feature_cos(tx_nan_norm, features_cos)\n",
    "prediction(tx_cos3, y, 0.8, 1000, 0.08, 'gd')\n",
    "prediction(tx_cos3, y, 0.8, 1000, 0.15, 'sgd')"
   ]
  },
  {
   "cell_type": "markdown",
   "metadata": {},
   "source": [
    "### log * feature * log"
   ]
  },
  {
   "cell_type": "code",
   "execution_count": 157,
   "metadata": {},
   "outputs": [
    {
     "name": "stdout",
     "output_type": "stream",
     "text": [
      "0.726\n",
      "0.72775\n"
     ]
    }
   ],
   "source": [
    "features = [1,2,3,4,5,6,7,8,9,10,11,12,13,14,15,16,17,18,19,20,21,22,23,24,25,26,27,28,29]\n",
    "log_feat_log = transform_feature_log_feature(tx_nan_norm, features)\n",
    "prediction(log_feat_log, y, 0.8, 1000, 0.01, 'gd')\n",
    "prediction(log_feat_log, y, 0.8, 1000, 0.01, 'sgd')"
   ]
  },
  {
   "cell_type": "code",
   "execution_count": 62,
   "metadata": {},
   "outputs": [
    {
     "name": "stdout",
     "output_type": "stream",
     "text": [
      "0.75175\n",
      "0.74925\n"
     ]
    }
   ],
   "source": [
    "features_log = [0, 2, 3, 5, 9, 13, 16, 23, 29]\n",
    "log_feat_log2 = transform_feature_log_feature(tx_nan_norm, features_log)\n",
    "prediction(log_feat_log2, y, 0.8, 1000, 0.02, 'gd')\n",
    "prediction(log_feat_log2, y, 0.8, 1000, 0.02, 'sgd')"
   ]
  },
  {
   "cell_type": "markdown",
   "metadata": {},
   "source": [
    "### features log --------------------------------------------------------------------------------------------------------------------"
   ]
  },
  {
   "cell_type": "code",
   "execution_count": 49,
   "metadata": {},
   "outputs": [
    {
     "name": "stdout",
     "output_type": "stream",
     "text": [
      "0.768\n"
     ]
    }
   ],
   "source": [
    "features_log = [0, 2, 3, 5, 9, 13, 16, 23, 29]\n",
    "tx_log = transform_feature_cos(tx_nan_norm, features_log)\n",
    "prediction(tx_log, y, 0.8, 1000, 0.1, 'gd')"
   ]
  },
  {
   "cell_type": "markdown",
   "metadata": {},
   "source": [
    "### -----------------------------------------------------------------------------------------------------------------------------------"
   ]
  },
  {
   "cell_type": "markdown",
   "metadata": {},
   "source": [
    "### Angles in sin after log"
   ]
  },
  {
   "cell_type": "code",
   "execution_count": 192,
   "metadata": {},
   "outputs": [
    {
     "name": "stdout",
     "output_type": "stream",
     "text": [
      "0.76925\n",
      "0.7585\n"
     ]
    }
   ],
   "source": [
    "features_sin = [15, 18, 20, 25, 28]\n",
    "tx_sin2 = transform_feature_sin(tx_log, features_sin)\n",
    "prediction(tx_sin2, y, 0.8, 1000, 0.08, 'gd')\n",
    "prediction(tx_sin2, y, 0.8, 1000, 0.08, 'sgd')"
   ]
  },
  {
   "cell_type": "markdown",
   "metadata": {},
   "source": [
    "### Angles in cos after log"
   ]
  },
  {
   "cell_type": "code",
   "execution_count": 182,
   "metadata": {},
   "outputs": [
    {
     "name": "stdout",
     "output_type": "stream",
     "text": [
      "0.7695\n",
      "0.757\n"
     ]
    }
   ],
   "source": [
    "features_cos = [15, 18, 20, 25, 28]\n",
    "tx_cos3 = transform_feature_cos(tx_log, features_cos)\n",
    "prediction(tx_cos3, y, 0.8, 1000, 0.12, 'gd')\n",
    "prediction(tx_cos3, y, 0.8, 1000, 0.12, 'sgd')"
   ]
  },
  {
   "cell_type": "code",
   "execution_count": null,
   "metadata": {},
   "outputs": [],
   "source": []
  }
 ],
 "metadata": {
  "kernelspec": {
   "display_name": "Python 3",
   "language": "python",
   "name": "python3"
  },
  "language_info": {
   "codemirror_mode": {
    "name": "ipython",
    "version": 3
   },
   "file_extension": ".py",
   "mimetype": "text/x-python",
   "name": "python",
   "nbconvert_exporter": "python",
   "pygments_lexer": "ipython3",
   "version": "3.6.5"
  }
 },
 "nbformat": 4,
 "nbformat_minor": 2
}
