{
 "cells": [
  {
   "cell_type": "code",
   "execution_count": 32,
   "metadata": {},
   "outputs": [
    {
     "name": "stdout",
     "output_type": "stream",
     "text": [
      "The autoreload extension is already loaded. To reload it, use:\n",
      "  %reload_ext autoreload\n"
     ]
    }
   ],
   "source": [
    "import numpy as np\n",
    "import math\n",
    "import csv\n",
    "from proj1_helpers import *\n",
    "from Hadrien import *\n",
    "from ML_methods import *\n",
    "from features_engineering import *\n",
    "from correlation import *\n",
    "import matplotlib.pyplot as plt\n",
    "\n",
    "\n",
    "%load_ext autoreload\n",
    "%autoreload 2"
   ]
  },
  {
   "cell_type": "markdown",
   "metadata": {},
   "source": [
    "### load Data"
   ]
  },
  {
   "cell_type": "code",
   "execution_count": 17,
   "metadata": {},
   "outputs": [
    {
     "name": "stdout",
     "output_type": "stream",
     "text": [
      "y has shape (250000,)\n",
      "X has shape (250000, 30)\n"
     ]
    }
   ],
   "source": [
    "y, tx, ids = load_csv_data(\"data_csv/train.csv\")\n",
    "#y, tx, ids = load_csv_data(\"data_csv/train.csv\")\n",
    "print(\"y has shape {0}\".format(y.shape))\n",
    "print(\"X has shape {0}\".format(tx.shape))"
   ]
  },
  {
   "cell_type": "markdown",
   "metadata": {},
   "source": [
    "-> we can observe some (3 at all) different patterns of NAN values -> essayer de déterminer si ces values ont une corrélation avec le label:\n",
    "- pattern 1: feature 0: 840 NAN -> 16.8% NAN\n",
    "- pattern 2: features 23,24,25: 1985 NAN -> 39.7% NAN\n",
    "- pattern 3: features 4,5,6,12,26,27,28: 3525 NAN -> 70.5 % NAN\n",
    "\n",
    "\n",
    "Also :\n",
    "- 562 samples de p1 font parti de p2.\n",
    "- 734 samples de p1 font parti de p3.\n",
    "- 0 samples de p2 font parti de p1.\n",
    "- 1423 sample de p2 font parti de p3\n",
    "- 0 samples de p3 font parti de p1.\n",
    "- 0 samples de p3 font parti de p2.\n",
    "\n",
    "Also:\n",
    "- p2 inter p3 = 1985\n",
    "- p1 union p3 union p2 = 3631"
   ]
  },
  {
   "cell_type": "markdown",
   "metadata": {},
   "source": [
    "## Mets les outliers à NAN"
   ]
  },
  {
   "cell_type": "code",
   "execution_count": 18,
   "metadata": {},
   "outputs": [],
   "source": [
    "tx_nan = transform_to_nan(tx, -900)"
   ]
  },
  {
   "cell_type": "markdown",
   "metadata": {},
   "source": [
    "## Feature 22 engineering"
   ]
  },
  {
   "cell_type": "code",
   "execution_count": 19,
   "metadata": {},
   "outputs": [],
   "source": [
    "txx = tx_nan.copy()\n",
    "\n",
    "#ajoute des vecteurs booleens pour chaque valeur (0.0, 1.0, 2.0 ou 3.0) de la feature 22\n",
    "tx0 = new_feature_PRI_jet_num(txx, 0.0)\n",
    "tx1 = new_feature_PRI_jet_num(tx0, 1.0)\n",
    "tx2 = new_feature_PRI_jet_num(tx1, 2.0)\n",
    "tx3 = new_feature_PRI_jet_num(tx2, 3.0)\n",
    "\n",
    "#enlever la colonne de la feature 22 with \"delete(matrice, indice, colonne = 1)\"\n",
    "tx3_final = np.delete(tx3, 22, 1)\n",
    "\n",
    "xx = tx3_final.copy()"
   ]
  },
  {
   "cell_type": "markdown",
   "metadata": {},
   "source": [
    "## Divise DATAset depending on NAN patterns"
   ]
  },
  {
   "cell_type": "code",
   "execution_count": 20,
   "metadata": {},
   "outputs": [],
   "source": [
    "from NAN_Pattern_Decomposition import decompose_dataset_according_to_NAN_pattern\n",
    "\n",
    "p0_ind, p0, y0, p1_ind, p1, y1, p2_ind, p2, y2, p3_ind, p3, y3 = decompose_dataset_according_to_NAN_pattern(xx, y, [0,23,27])"
   ]
  },
  {
   "cell_type": "code",
   "execution_count": null,
   "metadata": {},
   "outputs": [],
   "source": []
  },
  {
   "cell_type": "markdown",
   "metadata": {},
   "source": [
    "## Supprimer les colonnes avec NAN"
   ]
  },
  {
   "cell_type": "code",
   "execution_count": 21,
   "metadata": {},
   "outputs": [
    {
     "name": "stdout",
     "output_type": "stream",
     "text": [
      "(38114, 32)\n",
      "(73790, 23)\n",
      "(69982, 26)\n"
     ]
    }
   ],
   "source": [
    "feature_nans_1 = [0]\n",
    "p1_processed = np.delete(p1, feature_nans_1, axis = 1)\n",
    "print(p1_processed.shape)\n",
    "\n",
    "feature_nans_2 = [4, 5, 6, 12, 22, 23, 24, 25, 26, 27]\n",
    "p2_processed = np.delete(p2, feature_nans_2, axis = 1)\n",
    "print(p2_processed.shape)\n",
    "\n",
    "feature_nans_3 = [4, 5, 6, 12, 25, 26, 27]\n",
    "p3_processed = np.delete(p3, feature_nans_3, axis = 1)\n",
    "print(p3_processed.shape)"
   ]
  },
  {
   "cell_type": "markdown",
   "metadata": {},
   "source": [
    "## Put NAN at mean"
   ]
  },
  {
   "cell_type": "code",
   "execution_count": 22,
   "metadata": {},
   "outputs": [
    {
     "name": "stdout",
     "output_type": "stream",
     "text": [
      "(68114, 33)\n"
     ]
    }
   ],
   "source": [
    "p0_nan_mean, mean =transform_to_mean(p0)\n",
    "p1_nan_mean, mean =transform_to_mean(p1_processed)\n",
    "p2_nan_mean, mean =transform_to_mean(p2_processed)\n",
    "p3_nan_mean, mean =transform_to_mean(p3_processed)\n",
    "#warning parce qu'on a des colonnes remplies de NAN\n",
    "print(p0_nan_mean.shape)"
   ]
  },
  {
   "cell_type": "markdown",
   "metadata": {},
   "source": [
    "# Feature Engineering"
   ]
  },
  {
   "cell_type": "markdown",
   "metadata": {},
   "source": [
    "#### -> ajouter a la fin de la matrice de chaque groupe les differentes transformations"
   ]
  },
  {
   "cell_type": "code",
   "execution_count": 33,
   "metadata": {},
   "outputs": [],
   "source": [
    "def add_feature_eng(dataset):\n",
    "    \n",
    "    tx_ = dataset.copy()\n",
    "    (l,c) = np.shape(dataset)\n",
    "    features = list(range(c))\n",
    "    #features = list(range(30-1))   #-1 car on a enleve la colonne 22     \n",
    "\n",
    "    # ajouter sin\n",
    "    tx_sin = transform_feature_sin(tx_, features)\n",
    "    print(np.shape(tx_sin))\n",
    "\n",
    "    #ajouter cos\n",
    "    tx_cos = transform_feature_cos(tx_sin, features)\n",
    "    print(np.shape(tx_cos))\n",
    "\n",
    "    #ajouter log\n",
    "    tx_log = transform_feature_log(tx_cos, features)\n",
    "    print(np.shape(tx_log))\n",
    "\n",
    "    #ajouter x^2\n",
    "    tx_pow2 = transform_feature_power(tx_log, features, 2)\n",
    "    print(np.shape(tx_pow2))\n",
    "\n",
    "    #ajouter x^3\n",
    "    tx_pow3 = transform_feature_power(tx_pow2, features, 3)\n",
    "    print(np.shape(tx_pow3))\n",
    "\n",
    "    #ajouter sqrt\n",
    "    tx_sqrt = transform_feature_sqrt(tx_pow3, features)\n",
    "    print(np.shape(tx_sqrt))\n",
    "    \n",
    "    #standardize\n",
    "    tx_stand, tx_mean, tx_std = standardize(tx_sqrt)\n",
    "    \n",
    "    dataset_eng = tx_stand.copy()\n",
    "    \n",
    "    return dataset_eng"
   ]
  },
  {
   "cell_type": "markdown",
   "metadata": {},
   "source": [
    "# Ridge Regression"
   ]
  },
  {
   "cell_type": "code",
   "execution_count": 24,
   "metadata": {},
   "outputs": [],
   "source": [
    "from train_model import *"
   ]
  },
  {
   "cell_type": "markdown",
   "metadata": {},
   "source": [
    "### p0"
   ]
  },
  {
   "cell_type": "code",
   "execution_count": 34,
   "metadata": {},
   "outputs": [
    {
     "name": "stdout",
     "output_type": "stream",
     "text": [
      "(68114, 31)\n",
      "(68114, 62)\n",
      "(68114, 93)\n",
      "(68114, 124)\n",
      "(68114, 155)\n",
      "(68114, 186)\n",
      "(68114, 217)\n",
      "(68114, 217)\n",
      "SGD(0/999): loss=0.6931471805589208, w0=0.0, w1=0.0\n",
      "SGD(200/999): loss=0.6931471616303666, w0=-9.000000136163706e-10, w1=-1.0006255337889734e-09\n",
      "SGD(400/999): loss=0.6931471474860045, w0=-2.3000000354727037e-09, w1=-2.5984268116313575e-09\n",
      "SGD(600/999): loss=0.6931471285742841, w0=-3.200000037726224e-09, w1=-2.6188248228477176e-09\n",
      "SGD(800/999): loss=0.6931471067306839, w0=-3.2000000939796618e-09, w1=-3.494478596518156e-09\n"
     ]
    }
   ],
   "source": [
    "#colonnes 29 et 30 de la p0 ne contiennent que des 0 -> delete ces deux colonnes!\n",
    "p0_nan_mean_moins30 = np.delete(p0_nan_mean, 30, 1)\n",
    "p0_nan_mean_moins29 = np.delete(p0_nan_mean_moins30, 29, 1)\n",
    "\n",
    "print(p0_nan_mean_moins29.shape)\n",
    "\n",
    "p0_eng = add_feature_eng(p0_nan_mean_moins29)\n",
    "ws0 = prediction_ridge_lambda_fixed(p0_eng, y0, 0.8, 1000, 0.00000001)\n",
    "#print(ws0)\n",
    "\n",
    "print(p0_eng.shape)\n",
    "\n",
    "#ajouter colonne de 1 au debut de la matrice\n",
    "(l,c) = np.shape(p0_eng)\n",
    "a = np.ones((l,1), float)\n",
    "p0_eng_plus = np.c_[a, p0_eng]\n",
    "\n",
    "losses0, ws_l_0 = log_stochastic_gradient_descent(y0, p0_eng_plus, np.zeros(p0_eng_plus.shape[1]), 1, 1000, 1e-10)\n",
    "#si converge -> dernier w qui est le meilleur: \n",
    "ws_l_0_best = ws_l_0[-1]\n"
   ]
  },
  {
   "cell_type": "code",
   "execution_count": 35,
   "metadata": {},
   "outputs": [
    {
     "name": "stdout",
     "output_type": "stream",
     "text": [
      "218\n",
      "[  0.   1. 126. 127.  97.  36.   6. 100. 101. 102. 103. 104.  74.  75.\n",
      "  14. 108. 109. 110. 111. 112. 113. 114. 115. 116. 117. 118. 119. 120.\n",
      " 121. 122.  92. 124.]\n",
      "32\n",
      "[-3.20000019e-09 -4.56324649e-09  8.74360184e-09  1.41056432e-09\n",
      " -5.25495293e-09  1.31225836e-08 -1.46466326e-08  1.47625703e-08\n",
      " -3.31645426e-09  9.18370309e-09  9.53919816e-10  7.83173782e-09\n",
      "  8.67640485e-09  1.44194392e-08 -7.73938236e-09 -2.99472592e-10\n",
      "  1.73805420e-09 -2.44250584e-10  3.16398485e-10 -6.03178532e-10\n",
      " -3.22847742e-09  2.55666057e-09  3.10846550e-09 -5.39437325e-11\n",
      "  2.34563101e-09 -4.78945066e-10  1.05324829e-09  4.64103286e-09\n",
      " -1.66699465e-09  2.48691624e-09  9.84675091e-09  9.84675091e-09]\n"
     ]
    }
   ],
   "source": [
    "#garder les meilleurs weight pour chaque feature \n",
    "w = ws_l_0_best.copy()\n",
    "w_best0 = np.zeros(32)\n",
    "indices_good_features0 = np.zeros(32)\n",
    "print(len(w))\n",
    "w_best0[0] = w[0]\n",
    "liste = list(range(1,32))\n",
    "transformation = list(range(6))\n",
    "for i in liste:\n",
    "    col = i\n",
    "    for j in transformation:\n",
    "        #si on en est à la première transformation -> initialiser le premier élément de w à cette valeur\n",
    "        if(j == 0):\n",
    "            w_best0[i] = w[col]\n",
    "            indices_good_features0[i] = col\n",
    "        elif(w[col] > w_best0[j]):\n",
    "            w_best0[i] = w[col]\n",
    "            indices_good_features0[i] = col\n",
    "        col = (j*31)+i\n",
    "\n",
    "print(indices_good_features0)\n",
    "print(len(w_best0))\n",
    "print(w_best0)\n",
    "\n",
    "#reconstruire nouvelle matrice\n",
    "f = len(indices_good_features0)\n",
    "(l,c) = p0_eng_plus.shape\n",
    "p0_best_final = np.zeros((l, f))\n",
    "for indice, col in enumerate(np.int0(indices_good_features0)):\n",
    "    p0_best_final[:,indice] =  p0_eng_plus[:, col]"
   ]
  },
  {
   "cell_type": "markdown",
   "metadata": {},
   "source": [
    "### p1"
   ]
  },
  {
   "cell_type": "code",
   "execution_count": 36,
   "metadata": {},
   "outputs": [
    {
     "name": "stdout",
     "output_type": "stream",
     "text": [
      "(38114, 64)\n",
      "(38114, 96)\n",
      "(38114, 128)\n",
      "(38114, 160)\n",
      "(38114, 192)\n",
      "(38114, 224)\n",
      "(38114, 32)\n",
      "SGD(0/999): loss=0.6931471805594103, w0=0.0, w1=0.0\n",
      "SGD(200/999): loss=0.6926278826847672, w0=-0.0008697418149374383, w1=1.7643983497966803e-05\n",
      "SGD(400/999): loss=0.6920929783458116, w0=-0.0017991726199251949, w1=-7.405851161702292e-05\n",
      "SGD(600/999): loss=0.6914191073647334, w0=-0.002638203842485265, w1=-1.6907395116184216e-05\n",
      "SGD(800/999): loss=0.6908287024154313, w0=-0.003417284292985743, w1=-8.844599812174957e-05\n"
     ]
    }
   ],
   "source": [
    "p1_eng = add_feature_eng(p1_nan_mean)\n",
    "ws1 = prediction_ridge_lambda_fixed(p1_eng, y1, 0.8, 1000, 0.00000001)\n",
    "#print(ws1)\n",
    "print(p1_nan_mean.shape)\n",
    "\n",
    "##ajouter colonne de 1 au debut de la matrice\n",
    "(l,c) = np.shape(p1_eng)\n",
    "a = np.ones((l,1), float)\n",
    "p1_eng_plus = np.c_[a, p1_eng]\n",
    "\n",
    "losses1, ws_l_1 = log_stochastic_gradient_descent(y1, p1_eng_plus, np.zeros(p1_eng_plus.shape[1]), 1, 1000, 0.00001)\n",
    "#si converge -> dernier w qui est le meilleur: \n",
    "ws_l_1_best = ws_l_1[-1]"
   ]
  },
  {
   "cell_type": "code",
   "execution_count": 37,
   "metadata": {},
   "outputs": [
    {
     "name": "stdout",
     "output_type": "stream",
     "text": [
      "225\n",
      "33\n",
      "[-4.22524788e-03  5.54556706e-05  2.19011131e-05 -2.06802412e-04\n",
      " -3.95309003e-04  4.34418049e-04  1.64264959e-05 -2.85250123e-04\n",
      "  4.72743184e-05  4.60506117e-04  1.00160613e-04 -1.83998193e-04\n",
      " -4.05091662e-05  4.26908564e-05  1.25352490e-04 -1.81133094e-04\n",
      "  1.43822892e-04 -1.45095847e-04  3.25179187e-04 -1.26915466e-04\n",
      " -2.66797960e-04  4.69500413e-05  8.90034384e-05  6.44932111e-05\n",
      "  2.52916499e-04  1.27197059e-04  9.93531805e-05 -2.66775988e-04\n",
      "  2.37660023e-04  3.06351848e-05 -3.17820923e-04 -1.94925124e-04\n",
      " -1.94925124e-04]\n",
      "[  0.   1.  34. 131. 100. 133. 102. 103. 104.  73. 106. 107. 108.  77.\n",
      " 110. 111. 112. 113. 114.  83. 116. 117. 118. 119. 120. 121. 122. 123.\n",
      " 124. 125. 126. 127. 128.]\n"
     ]
    }
   ],
   "source": [
    "#garder les meilleurs weight pour chaque feature \n",
    "w = ws_l_1_best.copy()\n",
    "w_best1 = np.zeros(33)\n",
    "indices_good_features1 = np.zeros(33)\n",
    "print(len(w))\n",
    "#print(w)\n",
    "w_best1[0] = w[0]\n",
    "liste = list(range(1,33))\n",
    "transformation = list(range(6))\n",
    "for i in liste:\n",
    "    col = i\n",
    "    for j in transformation:\n",
    "        #si on en est à la première transformation -> initialiser le premier élément de w à cette valeur\n",
    "        if(j == 0):\n",
    "            w_best1[i] = w[col]\n",
    "            indices_good_features1[i] = col\n",
    "        elif(w[col] > w_best1[j]):\n",
    "            w_best1[i-1] = w[col]\n",
    "            indices_good_features1[i] = col\n",
    "        col = (j*32)+i\n",
    "\n",
    "print(len(w_best1))\n",
    "print(w_best1)\n",
    "print(indices_good_features1)\n",
    "\n",
    "#reconstruire nouvelle matrice\n",
    "f = len(indices_good_features1)\n",
    "(l,c) = p1_eng_plus.shape\n",
    "p1_best_final = np.zeros((l, f))\n",
    "for indice, col in enumerate(np.int0(indices_good_features1)):\n",
    "    p1_best_final[:,indice] =  p1_eng_plus[:, col]"
   ]
  },
  {
   "cell_type": "markdown",
   "metadata": {},
   "source": [
    "### p2"
   ]
  },
  {
   "cell_type": "code",
   "execution_count": 38,
   "metadata": {},
   "outputs": [
    {
     "name": "stdout",
     "output_type": "stream",
     "text": [
      "(73790, 36)\n",
      "(73790, 54)\n",
      "(73790, 72)\n",
      "(73790, 90)\n",
      "(73790, 108)\n",
      "(73790, 126)\n",
      "(73790, 23)\n",
      "SGD(0/999): loss=0.6931471805588729, w0=0.0, w1=0.0\n",
      "SGD(200/999): loss=0.6918347592347659, w0=-0.00035994826469122284, w1=0.0001755849463741321\n",
      "SGD(400/999): loss=0.6906277485136528, w0=-0.0006200040856378107, w1=0.0002481682386591697\n",
      "SGD(600/999): loss=0.689489466120307, w0=-0.0009994526995203052, w1=0.0002881550894806351\n",
      "SGD(800/999): loss=0.6882143198960124, w0=-0.0013480449861708148, w1=0.00031068127546071575\n"
     ]
    }
   ],
   "source": [
    "#colonnes 18-22 de la p2 ne contiennent que des 0 -> delete ces deux colonnes!\n",
    "p2_nan_mean_moins22 = np.delete(p2_nan_mean, 22, 1)\n",
    "p2_nan_mean_moins21 = np.delete(p2_nan_mean_moins22, 21, 1)\n",
    "p2_nan_mean_moins20 = np.delete(p2_nan_mean_moins21, 20, 1)\n",
    "p2_nan_mean_moins19 = np.delete(p2_nan_mean_moins20, 19, 1)\n",
    "p2_nan_mean_moins18 = np.delete(p2_nan_mean_moins19, 18, 1)\n",
    "\n",
    "p2_eng = add_feature_eng(p2_nan_mean_moins18)\n",
    "ws2 = prediction_ridge_lambda_fixed(p2_eng, y2, 0.8, 1000, 0.00000001)\n",
    "#print(ws2)\n",
    "\n",
    "print(p2_nan_mean.shape)\n",
    "\n",
    "##ajouter colonne de 1 au debut de la matrice\n",
    "(l,c) = np.shape(p2_eng)\n",
    "a = np.ones((l,1), float)\n",
    "p2_eng_plus = np.c_[a, p2_eng]\n",
    "\n",
    "losses2, ws_l_2 = log_stochastic_gradient_descent(y2, p2_eng_plus, np.zeros(p2_eng_plus.shape[1]), 1, 1000, 0.00001)\n",
    "#si converge -> dernier w qui est le meilleur: \n",
    "ws_l_2_best = ws_l_2[-1]"
   ]
  },
  {
   "cell_type": "code",
   "execution_count": 39,
   "metadata": {},
   "outputs": [
    {
     "name": "stdout",
     "output_type": "stream",
     "text": [
      "127\n",
      "24\n",
      "[ 4.30459531e-04  1.99436694e-03  2.91132036e-05  5.72802954e-04\n",
      "  1.61751080e-04  1.38046156e-03 -4.08515562e-05  1.12115120e-04\n",
      "  1.99317085e-03  1.82398502e-03  1.71756493e-03  3.45508212e-05\n",
      " -2.69875796e-04  5.09444835e-04  2.08711610e-04  1.04283962e-03\n",
      "  7.40440676e-04  2.00804659e-03 -2.41198585e-04 -3.36230603e-06\n",
      "  8.06090309e-04  5.21263464e-04  1.08389639e-03  3.28433413e-04]\n",
      "[  0.  93.   2.  95.  73.  97.  98.   7.  31.   9.  56.  80.  12.  13.\n",
      "  83.  38.  85.  86. 110.  19.  20.  67.  91.  92.]\n"
     ]
    }
   ],
   "source": [
    "#garder les meilleurs weight pour chaque feature \n",
    "w = ws_l_2_best.copy()\n",
    "w_best2 = np.zeros(24)\n",
    "indices_good_features2 = np.zeros(24)\n",
    "print(len(w))\n",
    "#print(w)\n",
    "w_best2[0] = w[0]\n",
    "liste = list(range(1,24))\n",
    "transformation = list(range(6))\n",
    "for i in liste:\n",
    "    col = i\n",
    "    for j in transformation:\n",
    "        #si on en est à la première transformation -> initialiser le premier élément de w à cette valeur\n",
    "        if(j == 0):\n",
    "            w_best2[i] = w[col]\n",
    "            indices_good_features2[i] = col\n",
    "        elif(w[col] > w_best2[j]):\n",
    "            w_best2[i-1] = w[col]\n",
    "            indices_good_features2[i] = col\n",
    "        col = (j*23)+i\n",
    "\n",
    "print(len(w_best2))\n",
    "print(w_best2)\n",
    "print(indices_good_features2)\n",
    "\n",
    "#reconstruire nouvelle matrice\n",
    "f = len(indices_good_features2)\n",
    "(l,c) = p2_eng_plus.shape\n",
    "p2_best_final = np.zeros((l, f))\n",
    "for indice, col in enumerate(np.int0(indices_good_features2)):\n",
    "    p2_best_final[:,indice] =  p2_eng_plus[:, col]"
   ]
  },
  {
   "cell_type": "markdown",
   "metadata": {},
   "source": [
    "### p3"
   ]
  },
  {
   "cell_type": "code",
   "execution_count": 40,
   "metadata": {},
   "outputs": [
    {
     "name": "stdout",
     "output_type": "stream",
     "text": [
      "(69982, 44)\n",
      "(69982, 66)\n",
      "(69982, 88)\n",
      "(69982, 110)\n",
      "(69982, 132)\n",
      "(69982, 154)\n",
      "(69982, 22)\n",
      "SGD(0/999): loss=0.6931471805589041, w0=0.0, w1=0.0\n",
      "SGD(200/999): loss=0.6924450523558151, w0=-0.0002699117125602831, w1=-5.406309128341358e-05\n",
      "SGD(400/999): loss=0.6916518318870016, w0=-0.0004596732332261264, w1=-1.732156504444151e-06\n",
      "SGD(600/999): loss=0.6909905548322965, w0=-0.0006489610881299117, w1=7.376416353566558e-05\n",
      "SGD(800/999): loss=0.6901064906452452, w0=-0.0007790348982358772, w1=0.00019868501273572663\n"
     ]
    }
   ],
   "source": [
    "#colonnes  de la p3 ne contiennent que des 0 -> delete ces deux colonnes!\n",
    "#p3_nan_mean = np.delete(p3_nan_mean, 26, 1)\n",
    "p3_nan_mean_moins25 = np.delete(p3_nan_mean, 25, 1)\n",
    "p3_nan_mean_moins24 = np.delete(p3_nan_mean_moins25, 24, 1)\n",
    "p3_nan_mean_moins23 = np.delete(p3_nan_mean_moins24, 23, 1)\n",
    "p3_nan_mean_moins22 = np.delete(p3_nan_mean_moins23, 22, 1)\n",
    "\n",
    "p3_eng = add_feature_eng(p3_nan_mean_moins22)\n",
    "ws3 = prediction_ridge_lambda_fixed(p3_eng, y3, 0.8, 1000, 0.00000001)\n",
    "#print(ws3)\n",
    "\n",
    "print(p3_nan_mean_moins22.shape)\n",
    "\n",
    "##ajouter colonne de 1 au debut de la matrice\n",
    "(l,c) = np.shape(p3_eng)\n",
    "a = np.ones((l,1), float)\n",
    "p3_eng_plus = np.c_[a, p3_eng]\n",
    "\n",
    "losses3, ws_l_3 = log_stochastic_gradient_descent(y3, p3_eng_plus, np.zeros(p3_eng_plus.shape[1]), 1, 1000, 0.00001)\n",
    "#si converge -> dernier w qui est le meilleur: \n",
    "ws_l_3_best = ws_l_3[-1]"
   ]
  },
  {
   "cell_type": "code",
   "execution_count": 41,
   "metadata": {},
   "outputs": [
    {
     "name": "stdout",
     "output_type": "stream",
     "text": [
      "155\n",
      "23\n",
      "[ 5.29822984e-04  1.13884659e-03  7.64642551e-04 -4.63529291e-04\n",
      "  3.12019711e-04 -2.51671888e-04  2.46950705e-05  6.48835894e-04\n",
      "  4.06715260e-04 -3.20237042e-05  6.61137319e-04 -1.45806340e-04\n",
      "  4.48247050e-04  4.28844139e-04  9.39654583e-05  5.10749811e-05\n",
      " -5.98688851e-05 -3.80068018e-05 -1.03953851e-04  3.35809597e-04\n",
      "  1.20012356e-04 -1.03972645e-04 -6.19185561e-04]\n",
      "[  0.  89.  90.  91.  70.  93.  50.  51.  96.  53.  54.  99. 100. 101.\n",
      " 102. 103.  60. 105.  62.  63.  86. 109.  66.]\n"
     ]
    }
   ],
   "source": [
    "#garder les meilleurs weight pour chaque feature \n",
    "w = ws_l_3_best.copy()\n",
    "w_best3 = np.zeros(23)\n",
    "indices_good_features3 = np.zeros(23)\n",
    "print(len(w))\n",
    "#print(w)\n",
    "w_best3[0] = w[0]\n",
    "liste = list(range(1,23))\n",
    "transformation = list(range(6))\n",
    "for i in liste:\n",
    "    col = i\n",
    "    for j in transformation:\n",
    "        #si on en est à la première transformation -> initialiser le premier élément de w à cette valeur\n",
    "        if(j == 0):\n",
    "            w_best3[i] = w[col]\n",
    "            indices_good_features3[i] = col\n",
    "        elif(w[col] > w_best3[j]):\n",
    "            w_best3[i-1] = w[col]\n",
    "            indices_good_features3[i] = col\n",
    "        col = (j*22)+i\n",
    "\n",
    "print(len(w_best3))\n",
    "print(w_best3)\n",
    "print(indices_good_features3)\n",
    "\n",
    "#reconstruire nouvelle matrice\n",
    "f = len(indices_good_features3)\n",
    "(l,c) = p3_eng_plus.shape\n",
    "p3_best_final = np.zeros((l, f))\n",
    "for indice, col in enumerate(np.int0(indices_good_features3)):\n",
    "    p3_best_final[:,indice] =  p3_eng_plus[:, col]"
   ]
  },
  {
   "cell_type": "markdown",
   "metadata": {},
   "source": [
    "## This is a  TEST"
   ]
  },
  {
   "cell_type": "markdown",
   "metadata": {},
   "source": [
    "## p0"
   ]
  },
  {
   "cell_type": "code",
   "execution_count": 44,
   "metadata": {},
   "outputs": [
    {
     "name": "stdout",
     "output_type": "stream",
     "text": [
      "SGD(0/9999): loss=0.6931471805596882, w0=0.0, w1=0.0\n",
      "SGD(2000/9999): loss=0.46199463944942537, w0=-0.674163814042271, w1=-0.0013793481072877007\n",
      "SGD(4000/9999): loss=0.3688401096547983, w0=-1.1019472693563188, w1=-0.0014423603721544843\n",
      "SGD(6000/9999): loss=0.32523300039446834, w0=-1.3944672956200632, w1=0.0038336013191134603\n",
      "SGD(8000/9999): loss=0.30153666357976044, w0=-1.614455790051753, w1=0.0026119846087522994\n",
      "SGD(9999/9999): loss=0.2885360305993867, w0=-1.775512721025781, w1=0.0014248833905025791\n",
      "SGD(0/9999): loss=0.6931471805596882, w0=0.0, w1=0.0\n",
      "SGD(2000/9999): loss=0.26868187109618813, w0=-2.2168312209276695, w1=0.010719523740916947\n",
      "SGD(4000/9999): loss=0.2655622961682285, w0=-2.4323640154780457, w1=-0.014318622744918227\n",
      "SGD(6000/9999): loss=0.26509238028027227, w0=-2.5111756770669755, w1=-0.013939673826609588\n",
      "SGD(8000/9999): loss=0.2651285020723147, w0=-2.535652013550203, w1=0.005165783297726314\n",
      "SGD(9999/9999): loss=0.26586902746013696, w0=-2.526287445576657, w1=-0.014654744025628295\n",
      "SGD(0/9999): loss=0.6931471805596882, w0=0.0, w1=0.0\n",
      "SGD(2000/9999): loss=0.2693575109142057, w0=-2.7491217792252645, w1=0.010208620619488924\n",
      "SGD(4000/9999): loss=0.2734154387460556, w0=-2.606382819259993, w1=-0.05977823761908416\n",
      "SGD(6000/9999): loss=0.2695147928414814, w0=-2.654431903712596, w1=-0.07209133969452854\n",
      "SGD(8000/9999): loss=0.26743230257223954, w0=-2.5608515430143237, w1=0.0007718757438965676\n",
      "SGD(9999/9999): loss=0.27055102780535156, w0=-2.578440397412963, w1=0.001070978351750176\n",
      "SGD(0/9999): loss=0.6931471805596882, w0=0.0, w1=0.0\n",
      "SGD(2000/9999): loss=0.35736506885742203, w0=-3.7659424274076523, w1=-0.02808982087000117\n",
      "SGD(4000/9999): loss=0.3448953419658325, w0=-3.8161876991023527, w1=0.029869011691895254\n",
      "SGD(6000/9999): loss=0.4840864079642842, w0=-3.350236389261351, w1=-0.9188994698573302\n",
      "SGD(8000/9999): loss=0.3155533674133429, w0=-3.512430301035758, w1=0.24820965561868366\n",
      "SGD(9999/9999): loss=0.33904658124733095, w0=-3.6955710106304247, w1=0.21103159971672134\n",
      "SGD(0/9999): loss=0.6931471805596882, w0=0.0, w1=0.0\n",
      "SGD(2000/9999): loss=1.7572752657890434, w0=-21.778600843659053, w1=-2.6660850364170416\n",
      "SGD(4000/9999): loss=1.9955424369625765, w0=-26.77538748530008, w1=7.098609893002332\n",
      "SGD(6000/9999): loss=2.1035634188190486, w0=-21.410237588399266, w1=5.181635972922516\n",
      "SGD(8000/9999): loss=2.379939487616385, w0=-27.956645690095765, w1=5.107943802127786\n",
      "SGD(9999/9999): loss=1.7450378412057166, w0=-23.124564804247232, w1=9.688388860279394\n",
      "Gradient Descent, Loss : 0.265, Lambda : 0.01\n"
     ]
    },
    {
     "data": {
      "image/png": "[encoded data removed]",
      "text/plain": [
       "<Figure size 720x360 with 1 Axes>"
      ]
     },
     "metadata": {},
     "output_type": "display_data"
    }
   ],
   "source": [
    "from train_model import *\n",
    "max_iter = 10000\n",
    "initial_w = np.zeros(p0_best_final.shape[1])\n",
    "logistic_stochastic_gradient_descent_exploration(y1, p0_best_final, 0.8, np.logspace(-3, 1, 10), 10, initial_w, max_iter)"
   ]
  },
  {
   "cell_type": "code",
   "execution_count": 45,
   "metadata": {},
   "outputs": [],
   "source": [
    "x_tr,x_te,y_tr,y_te=split_data(p0_best_final,y0,0.8)"
   ]
  },
  {
   "cell_type": "code",
   "execution_count": 46,
   "metadata": {},
   "outputs": [
    {
     "name": "stdout",
     "output_type": "stream",
     "text": [
      "SGD(0/19999): loss=0.6931471805590762, w0=0.0, w1=0.0\n",
      "SGD(4000/19999): loss=0.5143298465494041, w0=-0.19353060576175785, w1=-0.09259328861033694\n",
      "SGD(8000/19999): loss=0.5066817645779639, w0=-0.22310553204660138, w1=-0.06913807817846425\n",
      "SGD(12000/19999): loss=0.5055834068220996, w0=-0.19870899703398334, w1=-0.043623696693593214\n",
      "SGD(16000/19999): loss=0.5041421232865754, w0=-0.22320339097728067, w1=-0.06653773646695778\n",
      "SGD(19999/19999): loss=0.5037413482995272, w0=-0.2692388428948318, w1=-0.07457178428516054\n"
     ]
    }
   ],
   "source": [
    "initial_w_gd = np.zeros(p0_best_final.shape[1])\n",
    "max_iters = 20000\n",
    "batch=10\n",
    "gamma = 0.01\n",
    "gd_l0,gd_w0=log_stochastic_gradient_descent(y_tr, x_tr, initial_w_gd, batch, max_iters, gamma)"
   ]
  },
  {
   "cell_type": "code",
   "execution_count": 47,
   "metadata": {},
   "outputs": [
    {
     "data": {
      "text/plain": [
       "(0.5037413482995272, (32,))"
      ]
     },
     "execution_count": 47,
     "metadata": {},
     "output_type": "execute_result"
    }
   ],
   "source": [
    "l,wnew0=minimum_loss_vector(gd_l0, gd_w0)\n",
    "l,wnew0.shape"
   ]
  },
  {
   "cell_type": "code",
   "execution_count": 48,
   "metadata": {},
   "outputs": [
    {
     "data": {
      "text/plain": [
       "0.7533170615330972"
      ]
     },
     "execution_count": 48,
     "metadata": {},
     "output_type": "execute_result"
    }
   ],
   "source": [
    "y_pred1=predict_labels(wnew0, x_tr)\n",
    "\n",
    "accuracy_calculator(y_pred1, y_tr)"
   ]
  },
  {
   "cell_type": "code",
   "execution_count": 49,
   "metadata": {},
   "outputs": [
    {
     "data": {
      "text/plain": [
       "0.7530646700433091"
      ]
     },
     "execution_count": 49,
     "metadata": {},
     "output_type": "execute_result"
    }
   ],
   "source": [
    "y_pred2=predict_labels(wnew0, x_te)\n",
    "\n",
    "accuracy_calculator(y_pred2, y_te)"
   ]
  },
  {
   "cell_type": "markdown",
   "metadata": {},
   "source": [
    "## p1"
   ]
  },
  {
   "cell_type": "code",
   "execution_count": 52,
   "metadata": {},
   "outputs": [
    {
     "name": "stdout",
     "output_type": "stream",
     "text": [
      "SGD(0/19999): loss=0.6931471805596882, w0=0.0, w1=0.0\n",
      "SGD(4000/19999): loss=0.35048273194527924, w0=-1.1059055608370438, w1=-0.13676726724170685\n",
      "SGD(8000/19999): loss=0.27515721173769564, w0=-1.628428818283291, w1=-0.21064960198618443\n",
      "SGD(12000/19999): loss=0.24806191512487252, w0=-1.9326962588865548, w1=-0.27542857071614624\n",
      "SGD(16000/19999): loss=0.23535575761336633, w0=-2.130826944928512, w1=-0.32521376997353235\n",
      "SGD(19999/19999): loss=0.22805457172084215, w0=-2.277231918782596, w1=-0.367586503919329\n",
      "SGD(0/19999): loss=0.6931471805596882, w0=0.0, w1=0.0\n",
      "SGD(4000/19999): loss=0.24540619898677668, w0=-1.97633049026174, w1=-0.27030534148001606\n",
      "SGD(8000/19999): loss=0.22271510813265843, w0=-2.4081761750380135, w1=-0.40401339708682954\n",
      "SGD(12000/19999): loss=0.216595635403088, w0=-2.6135382604218482, w1=-0.4787925715264433\n",
      "SGD(16000/19999): loss=0.21407823844299395, w0=-2.7359195207777183, w1=-0.5070319458016599\n",
      "SGD(19999/19999): loss=0.2129499273767488, w0=-2.8078268368245816, w1=-0.518599455420446\n",
      "SGD(0/19999): loss=0.6931471805596882, w0=0.0, w1=0.0\n",
      "SGD(4000/19999): loss=0.21743112198584214, w0=-2.6647431621023228, w1=-0.42081947493053123\n",
      "SGD(8000/19999): loss=0.21250098562573225, w0=-2.890285451443789, w1=-0.5487189136792333\n",
      "SGD(12000/19999): loss=0.21207399194775461, w0=-2.9612406964915343, w1=-0.5470252486176798\n",
      "SGD(16000/19999): loss=0.21158851723449462, w0=-3.044470090125284, w1=-0.5321316604360707\n",
      "SGD(19999/19999): loss=0.21117665832939553, w0=-3.019747340649087, w1=-0.5518529340123443\n",
      "SGD(0/19999): loss=0.6931471805596882, w0=0.0, w1=0.0\n",
      "SGD(4000/19999): loss=0.21430401764228987, w0=-2.954954858074382, w1=-0.5309897748593103\n",
      "SGD(8000/19999): loss=0.21302202247146526, w0=-3.0120885290171957, w1=-0.5473900106005886\n",
      "SGD(12000/19999): loss=0.2130210440443702, w0=-3.0611714040465614, w1=-0.5428021082295493\n",
      "SGD(16000/19999): loss=0.21373864637649725, w0=-3.023364313639442, w1=-0.5532329634698363\n",
      "SGD(19999/19999): loss=0.21309375187457066, w0=-3.0557655100580248, w1=-0.5486755335805998\n",
      "SGD(0/19999): loss=0.6931471805596882, w0=0.0, w1=0.0\n",
      "SGD(4000/19999): loss=0.21825724162475357, w0=-3.0292863364909786, w1=-0.6318654665356513\n",
      "SGD(8000/19999): loss=0.21672158683159998, w0=-3.198931420101411, w1=-0.5690087196976453\n",
      "SGD(12000/19999): loss=0.21784325334261365, w0=-3.0174035691419365, w1=-0.44978151674583877\n",
      "SGD(16000/19999): loss=0.22140452890856555, w0=-3.126442455800036, w1=-0.8219334994330414\n",
      "SGD(19999/19999): loss=0.21709087813517383, w0=-3.219350352163527, w1=-0.5672891616589206\n",
      "Gradient Descent, Loss : 0.206, Lambda : 0.01\n"
     ]
    },
    {
     "data": {
      "image/png": "[encoded data removed]",
      "text/plain": [
       "<Figure size 720x360 with 1 Axes>"
      ]
     },
     "metadata": {},
     "output_type": "display_data"
    }
   ],
   "source": [
    "from train_model import *\n",
    "max_iter = 20000\n",
    "initial_w = np.zeros(p1_best_final.shape[1])\n",
    "logistic_stochastic_gradient_descent_exploration(y1, p1_best_final, 0.8, np.logspace(-3, -1, 5), 10, initial_w, max_iter)"
   ]
  },
  {
   "cell_type": "code",
   "execution_count": 53,
   "metadata": {},
   "outputs": [],
   "source": [
    "x_tr,x_te,y_tr,y_te=split_data(p1_best_final,y1,0.8)"
   ]
  },
  {
   "cell_type": "code",
   "execution_count": 54,
   "metadata": {},
   "outputs": [
    {
     "name": "stdout",
     "output_type": "stream",
     "text": [
      "SGD(0/19999): loss=0.6931471805596882, w0=0.0, w1=0.0\n",
      "SGD(4000/19999): loss=0.21624838589993983, w0=-2.6508795987820224, w1=-0.49996225452461995\n",
      "SGD(8000/19999): loss=0.21220253727931038, w0=-2.9019218086003917, w1=-0.5291795572528779\n",
      "SGD(12000/19999): loss=0.21181657075942967, w0=-2.972047766508642, w1=-0.5873273697456934\n",
      "SGD(16000/19999): loss=0.21152962785554338, w0=-3.0026227211127936, w1=-0.5190798118981849\n",
      "SGD(19999/19999): loss=0.21162624254461854, w0=-3.021849843669504, w1=-0.5908848852367451\n"
     ]
    },
    {
     "data": {
      "text/plain": [
       "(0.21152962785554338, (33,))"
      ]
     },
     "execution_count": 54,
     "metadata": {},
     "output_type": "execute_result"
    }
   ],
   "source": [
    "initial_w_gd = np.zeros(p1_best_final.shape[1])\n",
    "max_iters = 20000\n",
    "batch=10\n",
    "gamma = 0.01\n",
    "gd_l1,gd_w1=log_stochastic_gradient_descent(y_tr, x_tr, initial_w_gd, batch, max_iters, gamma)\n",
    "\n",
    "l,wnew1=minimum_loss_vector(gd_l1, gd_w1)\n",
    "l,wnew1.shape"
   ]
  },
  {
   "cell_type": "code",
   "execution_count": 55,
   "metadata": {},
   "outputs": [],
   "source": [
    "y_pred3=predict_labels(wnew1, x_te)"
   ]
  },
  {
   "cell_type": "code",
   "execution_count": 56,
   "metadata": {},
   "outputs": [
    {
     "data": {
      "text/plain": [
       "0.9319165682802046"
      ]
     },
     "execution_count": 56,
     "metadata": {},
     "output_type": "execute_result"
    }
   ],
   "source": [
    "accuracy_calculator(y_pred3, y_te)"
   ]
  },
  {
   "cell_type": "markdown",
   "metadata": {},
   "source": [
    "## p2"
   ]
  },
  {
   "cell_type": "code",
   "execution_count": 57,
   "metadata": {},
   "outputs": [
    {
     "name": "stdout",
     "output_type": "stream",
     "text": [
      "SGD(0/19999): loss=0.6931471805590165, w0=0.0, w1=0.0\n",
      "SGD(4000/19999): loss=0.5248468461589261, w0=-0.4629595549247022, w1=0.05186692920139082\n",
      "SGD(8000/19999): loss=0.5027098014581459, w0=-0.6835699330248468, w1=0.10482415140965409\n",
      "SGD(12000/19999): loss=0.4937000881566651, w0=-0.800124265147376, w1=0.16517320323454185\n",
      "SGD(16000/19999): loss=0.4884415138380423, w0=-0.8795982077863571, w1=0.2148972889658992\n",
      "SGD(19999/19999): loss=0.4849441671792609, w0=-0.9226368248374357, w1=0.25887359921725916\n",
      "SGD(0/19999): loss=0.6931471805590165, w0=0.0, w1=0.0\n",
      "SGD(4000/19999): loss=0.4756535573912801, w0=-1.0257634436384713, w1=0.42149072499348667\n",
      "SGD(8000/19999): loss=0.4644411214414183, w0=-1.0971857378141836, w1=0.7513208111252161\n",
      "SGD(12000/19999): loss=0.4595016932233451, w0=-1.132455258505456, w1=0.9899318822423544\n",
      "SGD(16000/19999): loss=0.4558372309950904, w0=-1.1533336032384849, w1=1.1965030579986355\n",
      "SGD(19999/19999): loss=0.4544253898862201, w0=-1.1671297225986728, w1=1.2415735459731296\n",
      "SGD(0/19999): loss=0.6931471805590165, w0=0.0, w1=0.0\n",
      "SGD(4000/19999): loss=0.4558047967343089, w0=-1.2750124487347412, w1=1.9423919887115493\n",
      "SGD(8000/19999): loss=0.4575611230608915, w0=-1.5309722836383968, w1=2.8185917106824476\n",
      "SGD(12000/19999): loss=0.4540356458279431, w0=-1.4550787740432019, w1=2.9503306293734166\n",
      "SGD(16000/19999): loss=0.45649340274858075, w0=-1.3202043107249528, w1=3.135161607429338\n",
      "SGD(19999/19999): loss=0.45304371789338116, w0=-1.4213933198339666, w1=3.5241345486477913\n",
      "SGD(0/19999): loss=0.6931471805590165, w0=0.0, w1=0.0\n",
      "SGD(4000/19999): loss=0.6879048152532079, w0=-2.004636173839643, w1=6.513295581927608\n",
      "SGD(8000/19999): loss=0.5678945458427778, w0=-2.0776792982606103, w1=8.081352652471205\n",
      "SGD(12000/19999): loss=0.5285685889361755, w0=-1.8878466056969228, w1=7.7784581978600995\n",
      "SGD(16000/19999): loss=0.5247455966834323, w0=-2.237717022445857, w1=8.017804974325704\n",
      "SGD(19999/19999): loss=0.5357403293165833, w0=-1.308603967546491, w1=6.97038698522783\n",
      "SGD(0/19999): loss=0.6931471805590165, w0=0.0, w1=0.0\n",
      "SGD(4000/19999): loss=3.4121207850050093, w0=-20.61901849366477, w1=44.134975879183344\n",
      "SGD(8000/19999): loss=inf, w0=-13.895589195045076, w1=47.80891128072516\n",
      "SGD(12000/19999): loss=2.139325668694058, w0=-12.959468509006621, w1=39.51486170507437\n",
      "SGD(16000/19999): loss=3.1826929361876855, w0=-21.004734796334418, w1=49.02414255231895\n",
      "SGD(19999/19999): loss=5.022202875097419, w0=-9.999949388328075, w1=45.976474476982396\n",
      "Gradient Descent, Loss : 0.458, Lambda : 0.01\n"
     ]
    },
    {
     "data": {
      "image/png": "[encoded data removed]",
      "text/plain": [
       "<Figure size 720x360 with 1 Axes>"
      ]
     },
     "metadata": {},
     "output_type": "display_data"
    }
   ],
   "source": [
    "from train_model import *\n",
    "max_iter = 20000\n",
    "initial_w = np.zeros(p2_best_final.shape[1])\n",
    "logistic_stochastic_gradient_descent_exploration(y2, p2_best_final, 0.8, np.logspace(-3, 1, 5), 10, initial_w, max_iter)"
   ]
  },
  {
   "cell_type": "code",
   "execution_count": 58,
   "metadata": {},
   "outputs": [],
   "source": [
    "x_tr,x_te,y_tr,y_te=split_data(p2_best_final,y2,0.8)"
   ]
  },
  {
   "cell_type": "code",
   "execution_count": 59,
   "metadata": {},
   "outputs": [
    {
     "name": "stdout",
     "output_type": "stream",
     "text": [
      "SGD(0/19999): loss=0.6931471805590165, w0=0.0, w1=0.0\n",
      "SGD(4000/19999): loss=0.47692301471179593, w0=-0.9651742013297794, w1=0.33017084935311036\n",
      "SGD(8000/19999): loss=0.465553588904163, w0=-1.0753788415213565, w1=0.6125626196531743\n",
      "SGD(12000/19999): loss=0.45921809350736303, w0=-1.0881509444735418, w1=0.8672287712861759\n",
      "SGD(16000/19999): loss=0.4562263985890115, w0=-1.1624060360490551, w1=1.0446196006840678\n",
      "SGD(19999/19999): loss=0.4547371195549916, w0=-1.1858006211137504, w1=1.2125467607027018\n"
     ]
    },
    {
     "data": {
      "text/plain": [
       "(0.4547371195549916, (24,))"
      ]
     },
     "execution_count": 59,
     "metadata": {},
     "output_type": "execute_result"
    }
   ],
   "source": [
    "initial_w_gd = np.zeros(p2_best_final.shape[1])\n",
    "max_iters = 20000\n",
    "batch=10\n",
    "gamma = 0.01\n",
    "gd_l2,gd_w2=log_stochastic_gradient_descent(y_tr, x_tr, initial_w_gd, batch, max_iters, gamma)\n",
    "\n",
    "l,wnew2=minimum_loss_vector(gd_l2, gd_w2)\n",
    "l,wnew2.shape"
   ]
  },
  {
   "cell_type": "code",
   "execution_count": 60,
   "metadata": {},
   "outputs": [],
   "source": [
    "y_pred4=predict_labels(wnew2, x_te)"
   ]
  },
  {
   "cell_type": "code",
   "execution_count": 61,
   "metadata": {},
   "outputs": [
    {
     "data": {
      "text/plain": [
       "0.7925193115598319"
      ]
     },
     "execution_count": 61,
     "metadata": {},
     "output_type": "execute_result"
    }
   ],
   "source": [
    "accuracy_calculator(y_pred4, y_te)"
   ]
  },
  {
   "cell_type": "markdown",
   "metadata": {},
   "source": [
    "## p3"
   ]
  },
  {
   "cell_type": "code",
   "execution_count": 74,
   "metadata": {},
   "outputs": [
    {
     "name": "stdout",
     "output_type": "stream",
     "text": [
      "SGD(0/19999): loss=0.6931471805590554, w0=0.0, w1=0.0\n",
      "SGD(4000/19999): loss=0.6155121602367383, w0=-0.3028150921241273, w1=0.02549924189136359\n",
      "SGD(8000/19999): loss=0.6003193732724902, w0=-0.43572179831428676, w1=0.027729514952335804\n",
      "SGD(12000/19999): loss=0.5944983003231146, w0=-0.4971953366609702, w1=0.016317878556464684\n",
      "SGD(16000/19999): loss=0.5920072195018011, w0=-0.5277186387992061, w1=0.02236666273090044\n",
      "SGD(19999/19999): loss=0.5903897235956894, w0=-0.5581888498431383, w1=0.028085502447534952\n",
      "SGD(0/19999): loss=0.6931471805590554, w0=0.0, w1=0.0\n",
      "SGD(4000/19999): loss=0.594116681096474, w0=-0.4986313330282899, w1=0.01989851496816929\n",
      "SGD(8000/19999): loss=0.5887905022889378, w0=-0.5708636648487213, w1=0.051203631941002206\n",
      "SGD(12000/19999): loss=0.5871428259627038, w0=-0.6100177462940516, w1=0.06027802026794339\n",
      "SGD(16000/19999): loss=0.585949263224563, w0=-0.6224241652856931, w1=0.07368372587888189\n",
      "SGD(19999/19999): loss=0.5851178934448963, w0=-0.6190410853896513, w1=0.06914763340630799\n",
      "SGD(0/19999): loss=0.6931471805590554, w0=0.0, w1=0.0\n",
      "SGD(4000/19999): loss=0.5870017751566867, w0=-0.6369006629600861, w1=0.057830674413374854\n",
      "SGD(8000/19999): loss=0.5857025592498968, w0=-0.5752787184989792, w1=0.0796166094866521\n",
      "SGD(12000/19999): loss=0.5848351127112439, w0=-0.624831410878188, w1=0.042490717234612625\n",
      "SGD(16000/19999): loss=0.5841747516229538, w0=-0.6420842217553535, w1=-0.021643499443132028\n",
      "SGD(19999/19999): loss=0.5845133756207312, w0=-0.6342389816869795, w1=-0.03363226049796962\n",
      "SGD(0/19999): loss=0.6931471805590554, w0=0.0, w1=0.0\n",
      "SGD(4000/19999): loss=0.5856967483534219, w0=-0.6033838004364516, w1=0.06633882830891544\n",
      "SGD(8000/19999): loss=0.5856440468263648, w0=-0.570516122801222, w1=-0.0166940704178312\n",
      "SGD(12000/19999): loss=0.5856530760119524, w0=-0.6370223551920995, w1=-0.1287863055706722\n",
      "SGD(16000/19999): loss=0.5865095973220555, w0=-0.6044112526496843, w1=-0.1282452885295354\n",
      "SGD(19999/19999): loss=0.588087572414796, w0=-0.6313251490246657, w1=-0.11547769762477095\n",
      "SGD(0/19999): loss=0.6931471805590554, w0=0.0, w1=0.0\n",
      "SGD(4000/19999): loss=0.5912963377019498, w0=-0.6533884320068104, w1=-0.10879123239577182\n",
      "SGD(8000/19999): loss=0.5886711499084295, w0=-0.6863093176865601, w1=-0.16385718292900545\n",
      "SGD(12000/19999): loss=0.5905840120923254, w0=-0.6014408146522959, w1=-0.08355662159818594\n",
      "SGD(16000/19999): loss=0.6038527143223813, w0=-0.6577207189977908, w1=-0.23648271422189684\n",
      "SGD(19999/19999): loss=0.5958224934372789, w0=-0.7675639010537411, w1=-0.1426845813724798\n",
      "Gradient Descent, Loss : 0.585, Lambda : 0.01\n"
     ]
    },
    {
     "data": {
      "image/png": "[encoded data removed]",
      "text/plain": [
       "<Figure size 720x360 with 1 Axes>"
      ]
     },
     "metadata": {},
     "output_type": "display_data"
    }
   ],
   "source": [
    "from train_model import *\n",
    "max_iter = 20000\n",
    "initial_w = np.zeros(p3_best_final.shape[1])\n",
    "logistic_stochastic_gradient_descent_exploration(y3, p3_best_final, 0.8, np.logspace(-3, -1, 5), 10, initial_w, max_iter)"
   ]
  },
  {
   "cell_type": "code",
   "execution_count": 63,
   "metadata": {},
   "outputs": [],
   "source": [
    "x_tr,x_te,y_tr,y_te=split_data(p3_best_final,y3,0.8)"
   ]
  },
  {
   "cell_type": "code",
   "execution_count": 75,
   "metadata": {},
   "outputs": [
    {
     "name": "stdout",
     "output_type": "stream",
     "text": [
      "SGD(0/19999): loss=0.6931471805590554, w0=0.0, w1=0.0\n",
      "SGD(4000/19999): loss=0.5880263741816062, w0=-0.5980693504624518, w1=0.058876749509872484\n",
      "SGD(8000/19999): loss=0.5856764276047476, w0=-0.6288144972671224, w1=0.06429152695046636\n",
      "SGD(12000/19999): loss=0.584520942006655, w0=-0.625069905480811, w1=0.058952890670561336\n",
      "SGD(16000/19999): loss=0.5843707680345094, w0=-0.6160809011182742, w1=0.07203701601289096\n",
      "SGD(19999/19999): loss=0.5843490506298163, w0=-0.6132299769757527, w1=-0.021830434940962425\n"
     ]
    }
   ],
   "source": [
    "initial_w_gd = np.zeros(p3_best_final.shape[1])\n",
    "max_iters = 20000\n",
    "batch=10\n",
    "gamma = 0.007\n",
    "gd_l3,gd_w3=log_stochastic_gradient_descent(y_tr, x_tr, initial_w_gd, batch, max_iters, gamma)"
   ]
  },
  {
   "cell_type": "code",
   "execution_count": 76,
   "metadata": {},
   "outputs": [
    {
     "data": {
      "text/plain": [
       "(0.5843490506298163, (23,))"
      ]
     },
     "execution_count": 76,
     "metadata": {},
     "output_type": "execute_result"
    }
   ],
   "source": [
    "l,wnew3=minimum_loss_vector(gd_l3, gd_w3)\n",
    "l,wnew3.shape"
   ]
  },
  {
   "cell_type": "code",
   "execution_count": 77,
   "metadata": {},
   "outputs": [],
   "source": [
    "y_pred5=predict_labels(wnew3, x_te)"
   ]
  },
  {
   "cell_type": "code",
   "execution_count": 78,
   "metadata": {},
   "outputs": [
    {
     "data": {
      "text/plain": [
       "0.6815746231335286"
      ]
     },
     "execution_count": 78,
     "metadata": {},
     "output_type": "execute_result"
    }
   ],
   "source": [
    "accuracy_calculator(y_pred5, y_te)"
   ]
  },
  {
   "cell_type": "markdown",
   "metadata": {},
   "source": [
    "# Label processing"
   ]
  },
  {
   "cell_type": "markdown",
   "metadata": {},
   "source": [
    "### Ridge"
   ]
  },
  {
   "cell_type": "code",
   "execution_count": 262,
   "metadata": {},
   "outputs": [
    {
     "name": "stdout",
     "output_type": "stream",
     "text": [
      "0.7832\n",
      "0.5796\n"
     ]
    }
   ],
   "source": [
    "#predict labels for each group\n",
    "labels0 = predict_labels(ws0, p0_eng)\n",
    "labels1 = predict_labels(ws1, p1_eng)\n",
    "labels2 = predict_labels(ws2, p2_eng)\n",
    "labels3 = predict_labels(ws3, p3_eng)\n",
    "\n",
    "#reconstruct the entire predicted label vector\n",
    "labels = np.nan*np.zeros(tx.shape[0])\n",
    "labels[p0_ind] = labels0\n",
    "labels[p1_ind] = labels1\n",
    "labels[p2_ind] = labels2\n",
    "labels[p3_ind] = labels3\n",
    "\n",
    "#calcul of accuracy\n",
    "print(accuracy_calculator(labels, y))\n",
    "\n",
    "#-----------------------------------------------------------------------------------\n",
    "\n",
    "#predict labels for each group\n",
    "labels0 = predict_labels(w_best0, p0_best_final)\n",
    "labels1 = predict_labels(w_best1, p1_best_final)\n",
    "labels2 = predict_labels(w_best2, p2_best_final)\n",
    "labels3 = predict_labels(w_best3, p3_best_final)\n",
    "\n",
    "#reconstruct the entire predicted label vector\n",
    "labels = np.nan*np.zeros(tx.shape[0])\n",
    "labels[p0_ind] = labels0\n",
    "labels[p1_ind] = labels1\n",
    "labels[p2_ind] = labels2\n",
    "labels[p3_ind] = labels3\n",
    "\n",
    "#calcul of accuracy\n",
    "print(accuracy_calculator(labels, y))"
   ]
  },
  {
   "cell_type": "markdown",
   "metadata": {},
   "source": [
    "### Log Reg SGD"
   ]
  },
  {
   "cell_type": "code",
   "execution_count": 264,
   "metadata": {},
   "outputs": [
    {
     "name": "stdout",
     "output_type": "stream",
     "text": [
      "0.7176\n",
      "0.5796\n"
     ]
    }
   ],
   "source": [
    "#predict labels for each group\n",
    "labels0_l = predict_labels(ws_l_0_best, p0_eng_plus)\n",
    "labels1_l = predict_labels(ws_l_1_best, p1_eng_plus)\n",
    "labels2_l = predict_labels(ws_l_2_best, p2_eng_plus)\n",
    "labels3_l = predict_labels(ws_l_3_best, p3_eng_plus)\n",
    "\n",
    "#reconstruct the entire predicted label vector\n",
    "labels_l = np.nan*np.zeros(tx.shape[0])\n",
    "labels_l[p0_ind] = labels0_l\n",
    "labels_l[p1_ind] = labels1_l\n",
    "labels_l[p2_ind] = labels2_l\n",
    "labels_l[p3_ind] = labels3_l\n",
    "\n",
    "#calcul of accuracy\n",
    "print(accuracy_calculator(labels_l, y))\n",
    "\n",
    "#--------------------------------------------------------------------------\n",
    "\n",
    "#predict labels for each group\n",
    "labels0_l = predict_labels(w_best0, p0_best_final)\n",
    "labels1_l = predict_labels(w_best1, p1_best_final)\n",
    "labels2_l = predict_labels(w_best2, p2_best_final)\n",
    "labels3_l = predict_labels(w_best3, p3_best_final)\n",
    "\n",
    "#reconstruct the entire predicted label vector\n",
    "labels_l = np.nan*np.zeros(tx.shape[0])\n",
    "labels_l[p0_ind] = labels0_l\n",
    "labels_l[p1_ind] = labels1_l\n",
    "labels_l[p2_ind] = labels2_l\n",
    "labels_l[p3_ind] = labels3_l\n",
    "\n",
    "#calcul of accuracy\n",
    "print(accuracy_calculator(labels_l, y))"
   ]
  },
  {
   "cell_type": "code",
   "execution_count": null,
   "metadata": {},
   "outputs": [],
   "source": []
  }
 ],
 "metadata": {
  "kernelspec": {
   "display_name": "Python 3",
   "language": "python",
   "name": "python3"
  },
  "language_info": {
   "codemirror_mode": {
    "name": "ipython",
    "version": 3
   },
   "file_extension": ".py",
   "mimetype": "text/x-python",
   "name": "python",
   "nbconvert_exporter": "python",
   "pygments_lexer": "ipython3",
   "version": "3.6.5"
  }
 },
 "nbformat": 4,
 "nbformat_minor": 2
}
