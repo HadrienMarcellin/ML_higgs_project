{
 "cells": [
  {
   "cell_type": "code",
   "execution_count": 2,
   "metadata": {},
   "outputs": [],
   "source": [
    "import numpy as np\n",
    "import math\n",
    "import csv\n",
    "from proj1_helpers import *\n",
    "from Hadrien import *\n",
    "from ML_methods import *\n",
    "from features_engineering import *\n",
    "from correlation import *\n",
    "import matplotlib.pyplot as plt\n",
    "\n",
    "\n",
    "%load_ext autoreload\n",
    "%autoreload 2"
   ]
  },
  {
   "cell_type": "code",
   "execution_count": 3,
   "metadata": {},
   "outputs": [
    {
     "name": "stdout",
     "output_type": "stream",
     "text": [
      "y has shape (5000,)\n",
      "X has shape (5000, 30)\n"
     ]
    }
   ],
   "source": [
    "y, tx, ids = load_csv_data(\"data_csv/train.csv\", sub_sample=True)\n",
    "print(\"y has shape {0}\".format(y.shape))\n",
    "print(\"X has shape {0}\".format(tx.shape))"
   ]
  },
  {
   "cell_type": "code",
   "execution_count": 4,
   "metadata": {},
   "outputs": [],
   "source": [
    "#remove nan values\n",
    "tx_nan = transform_to_nan(tx, -900)\n",
    "tx_nan_mean, mean =transform_to_mean(tx_nan)"
   ]
  },
  {
   "cell_type": "code",
   "execution_count": 52,
   "metadata": {},
   "outputs": [
    {
     "name": "stdout",
     "output_type": "stream",
     "text": [
      "-0.036273637580034865\n",
      "-25.472990971537445\n"
     ]
    }
   ],
   "source": [
    "#correlation from a feature to the labels\n",
    "\n",
    "#test correlation inbetween feature 1 and labels\n",
    "cor_1 = pearson_correlation(tx_nan_mean, y, 0)\n",
    "print(cor_1)\n",
    "\n",
    "#test correlation inbetween feature 2 and labels\n",
    "cor_2 = pearson_correlation(tx_nan_mean, y, 1)\n",
    "print(cor_2)"
   ]
  },
  {
   "cell_type": "code",
   "execution_count": 10,
   "metadata": {},
   "outputs": [
    {
     "data": {
      "text/plain": [
       "-0.3507761103988732"
      ]
     },
     "execution_count": 10,
     "metadata": {},
     "output_type": "execute_result"
    }
   ],
   "source": [
    "corr_pear(y, tx_nan_mean, 1)"
   ]
  },
  {
   "cell_type": "code",
   "execution_count": 7,
   "metadata": {},
   "outputs": [],
   "source": [
    "def corr_pear(y, tx, col):\n",
    "    mean_y = np.mean(y)\n",
    "    mean_x = np.mean(tx[col,:])\n",
    "    numerateur = np.dot((tx[:, col] - mean_x),(y - mean_y))\n",
    "    denominateur = np.sum((tx[:, col] - mean_x)**2) * np.sum((y - mean_y)**2)\n",
    "    return numerateur / np.sqrt(denominateur)"
   ]
  },
  {
   "cell_type": "code",
   "execution_count": 12,
   "metadata": {},
   "outputs": [
    {
     "name": "stdout",
     "output_type": "stream",
     "text": [
      "Correlation feature 0 : 0.0002220610010431732\n",
      "Correlation feature 1 : 0.3507761103988732\n",
      "Correlation feature 2 : 0.01985681640435429\n",
      "Correlation feature 3 : 0.2118698066751994\n",
      "Correlation feature 4 : 0.003938113064900894\n",
      "Correlation feature 5 : 0.08688827922204964\n",
      "Correlation feature 6 : 0.008105690948156689\n",
      "Correlation feature 7 : 0.0003649316077696323\n",
      "Correlation feature 8 : 0.003614117862198391\n",
      "Correlation feature 9 : 0.12406909264668596\n",
      "Correlation feature 10 : 0.004574320360487127\n",
      "Correlation feature 11 : 0.006934038128756273\n",
      "Correlation feature 12 : 0.0008583223202396078\n",
      "Correlation feature 13 : 0.23675391693043887\n",
      "Correlation feature 14 : 0.00040052288878263115\n",
      "Correlation feature 15 : 0.0007511833208901385\n",
      "Correlation feature 16 : 0.016903996841295173\n",
      "Correlation feature 17 : 0.0008627829792976021\n",
      "Correlation feature 18 : 0.0011005052958110175\n",
      "Correlation feature 19 : 0.036765156910453664\n",
      "Correlation feature 20 : 0.0006254352693351403\n",
      "Correlation feature 21 : 0.09421054770292889\n",
      "Correlation feature 22 : 0.003829516178107198\n",
      "Correlation feature 23 : 0.06539594872752215\n",
      "Correlation feature 24 : 0.0013005818427500348\n",
      "Correlation feature 25 : 0.0006897133976541246\n",
      "Correlation feature 26 : 0.015745127976661433\n",
      "Correlation feature 27 : 0.00022139588205340256\n",
      "Correlation feature 28 : 0.0007146079100090072\n",
      "Correlation feature 29 : 0.15176927266275203\n"
     ]
    }
   ],
   "source": [
    "for i, feature in enumerate(tx_nan_mean.T):\n",
    "    print(\"Correlation feature {0} : {1}\".format(i, abs(corr_pear(y, tx_nan_mean, i))))"
   ]
  }
 ],
 "metadata": {
  "kernelspec": {
   "display_name": "Python 3",
   "language": "python",
   "name": "python3"
  },
  "language_info": {
   "codemirror_mode": {
    "name": "ipython",
    "version": 3
   },
   "file_extension": ".py",
   "mimetype": "text/x-python",
   "name": "python",
   "nbconvert_exporter": "python",
   "pygments_lexer": "ipython3",
   "version": "3.6.5"
  }
 },
 "nbformat": 4,
 "nbformat_minor": 2
}
