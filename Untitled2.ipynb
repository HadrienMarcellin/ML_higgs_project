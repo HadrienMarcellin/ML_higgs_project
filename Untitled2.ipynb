{
 "cells": [
  {
   "cell_type": "code",
   "execution_count": 49,
   "metadata": {},
   "outputs": [
    {
     "name": "stdout",
     "output_type": "stream",
     "text": [
      "The autoreload extension is already loaded. To reload it, use:\n",
      "  %reload_ext autoreload\n"
     ]
    }
   ],
   "source": [
    "import numpy as np\n",
    "import math\n",
    "import csv\n",
    "from proj1_helpers import *\n",
    "from Hadrien import *\n",
    "from ML_methods import *\n",
    "from features_engineering import *\n",
    "from correlation import *\n",
    "import matplotlib.pyplot as plt\n",
    "\n",
    "\n",
    "%load_ext autoreload\n",
    "%autoreload 2"
   ]
  },
  {
   "cell_type": "markdown",
   "metadata": {},
   "source": [
    "### load Data"
   ]
  },
  {
   "cell_type": "code",
   "execution_count": 167,
   "metadata": {},
   "outputs": [
    {
     "name": "stdout",
     "output_type": "stream",
     "text": [
      "y has shape (5000,)\n",
      "X has shape (5000, 30)\n"
     ]
    }
   ],
   "source": [
    "y, tx, ids = load_csv_data(\"data_csv/train.csv\", sub_sample=True)\n",
    "print(\"y has shape {0}\".format(y.shape))\n",
    "print(\"X has shape {0}\".format(tx.shape))"
   ]
  },
  {
   "cell_type": "code",
   "execution_count": 168,
   "metadata": {},
   "outputs": [
    {
     "name": "stdout",
     "output_type": "stream",
     "text": [
      "1368\n",
      "3632\n",
      "1423\n",
      "2209\n",
      "369\n",
      "1840\n"
     ]
    }
   ],
   "source": [
    "# separer selon pattern 3, enlever samples NAN\n",
    "tx_nan = transform_to_nan(tx, -900)\n",
    "\n",
    "X = tx_nan.copy()\n",
    "\n",
    "(l, c) = X.shape\n",
    "index_nan = []\n",
    "index_non_nan = []\n",
    "\n",
    "# boucle qui itère sur tous les samples initiaux et garde les indices des nan et non nan du pattern 3 \n",
    "for i in range(l):\n",
    "    if np.isnan(X[i,28]) and ~np.isnan(X[i,23]) and ~np.isnan(X[i,0]):\n",
    "        index_nan.append(i)\n",
    "    else:\n",
    "        index_non_nan.append(i)\n",
    "        \n",
    "print(len(index_nan))\n",
    "print(len(index_non_nan))\n",
    "\n",
    "#-Feature 4, 5, 6, 12, 26, 27, 28 with NAN--------------------------------------------------------\n",
    "pattern1 = X[index_nan, :]\n",
    "#---------------------------------------------------------------------------------\n",
    "\n",
    "x_bis = X[index_non_nan, :]\n",
    "\n",
    "(l, c) = x_bis.shape\n",
    "index_nan = []\n",
    "index_non_nan = []\n",
    "for i in range(l):\n",
    "    if np.isnan(x_bis[i,23]) and ~np.isnan(x_bis[i,0]):\n",
    "        index_nan.append(i)\n",
    "    else:\n",
    "        index_non_nan.append(i)\n",
    "\n",
    "print(len(index_nan))\n",
    "print(len(index_non_nan))\n",
    "\n",
    "#Feature 23, 24, 25 with NAN -------------------------------------------------------------\n",
    "pattern2 = x_bis[index_nan, :]\n",
    "#---------------------------------------------------------------------------------\n",
    "\n",
    "x_bisbis = X[index_non_nan, :]\n",
    "\n",
    "(l, c) = x_bisbis.shape\n",
    "index_nan = []\n",
    "index_non_nan = []\n",
    "\n",
    "for i in range(l):\n",
    "    if np.isnan(x_bisbis[i,0]):\n",
    "        index_nan.append(i)\n",
    "    else:\n",
    "        index_non_nan.append(i)\n",
    "\n",
    "print(len(index_nan))\n",
    "print(len(index_non_nan))\n",
    "\n",
    "\n",
    "# Feature 0 with NAN -------------------------------------------------------------\n",
    "pattern3 = x_bisbis[index_nan, :]    \n",
    "#---------------------------------------------------------------------------------\n",
    "\n",
    "# Featurs with 0 NAN -------------------------------------------------------------\n",
    "pattern0nan = x_bisbis[index_non_nan, :]    \n",
    "#---------------------------------------------------------------------------------\n",
    "\n"
   ]
  },
  {
   "cell_type": "markdown",
   "metadata": {},
   "source": [
    "### Feature Engineering"
   ]
  },
  {
   "cell_type": "markdown",
   "metadata": {},
   "source": [
    "#### pattern3"
   ]
  },
  {
   "cell_type": "code",
   "execution_count": 175,
   "metadata": {},
   "outputs": [
    {
     "data": {
      "text/plain": [
       "31470"
      ]
     },
     "execution_count": 175,
     "metadata": {},
     "output_type": "execute_result"
    }
   ],
   "source": [
    "np.count_nonzero(np.isnan(tx_nan))"
   ]
  },
  {
   "cell_type": "code",
   "execution_count": 159,
   "metadata": {},
   "outputs": [],
   "source": [
    "feature_nan_pattern3 = [0, 4, 5, 6, 12, 23, 24, 25, 26, 27, 28]\n",
    "pattern3 = np.delete(pattern3, feature_nan_pattern3, axis = 1)\n",
    "tx = pattern3.copy()\n"
   ]
  },
  {
   "cell_type": "code",
   "execution_count": 160,
   "metadata": {},
   "outputs": [
    {
     "data": {
      "text/plain": [
       "(369, 19)"
      ]
     },
     "execution_count": 160,
     "metadata": {},
     "output_type": "execute_result"
    }
   ],
   "source": [
    "tx.shape"
   ]
  },
  {
   "cell_type": "markdown",
   "metadata": {},
   "source": [
    "### ajouter feature 22 "
   ]
  },
  {
   "cell_type": "code",
   "execution_count": 161,
   "metadata": {},
   "outputs": [
    {
     "ename": "IndexError",
     "evalue": "index 22 is out of bounds for axis 1 with size 19",
     "output_type": "error",
     "traceback": [
      "\u001b[0;31m---------------------------------------------------------------------------\u001b[0m",
      "\u001b[0;31mIndexError\u001b[0m                                Traceback (most recent call last)",
      "\u001b[0;32m<ipython-input-161-f9a43ce9a6c7>\u001b[0m in \u001b[0;36m<module>\u001b[0;34m()\u001b[0m\n\u001b[0;32m----> 1\u001b[0;31m \u001b[0mtx0\u001b[0m \u001b[0;34m=\u001b[0m \u001b[0mnew_feature_PRI_jet_num\u001b[0m\u001b[0;34m(\u001b[0m\u001b[0mtx\u001b[0m\u001b[0;34m,\u001b[0m \u001b[0;36m0.0\u001b[0m\u001b[0;34m)\u001b[0m\u001b[0;34m\u001b[0m\u001b[0m\n\u001b[0m\u001b[1;32m      2\u001b[0m \u001b[0mtx1\u001b[0m \u001b[0;34m=\u001b[0m \u001b[0mnew_feature_PRI_jet_num\u001b[0m\u001b[0;34m(\u001b[0m\u001b[0mtx0\u001b[0m\u001b[0;34m,\u001b[0m \u001b[0;36m1.0\u001b[0m\u001b[0;34m)\u001b[0m\u001b[0;34m\u001b[0m\u001b[0m\n\u001b[1;32m      3\u001b[0m \u001b[0mtx2\u001b[0m \u001b[0;34m=\u001b[0m \u001b[0mnew_feature_PRI_jet_num\u001b[0m\u001b[0;34m(\u001b[0m\u001b[0mtx1\u001b[0m\u001b[0;34m,\u001b[0m \u001b[0;36m2.0\u001b[0m\u001b[0;34m)\u001b[0m\u001b[0;34m\u001b[0m\u001b[0m\n\u001b[1;32m      4\u001b[0m \u001b[0mtx3\u001b[0m \u001b[0;34m=\u001b[0m \u001b[0mnew_feature_PRI_jet_num\u001b[0m\u001b[0;34m(\u001b[0m\u001b[0mtx2\u001b[0m\u001b[0;34m,\u001b[0m \u001b[0;36m3.0\u001b[0m\u001b[0;34m)\u001b[0m\u001b[0;34m\u001b[0m\u001b[0m\n\u001b[1;32m      5\u001b[0m \u001b[0mtx_22_eng\u001b[0m \u001b[0;34m=\u001b[0m \u001b[0mtx3\u001b[0m\u001b[0;34m.\u001b[0m\u001b[0mcopy\u001b[0m\u001b[0;34m(\u001b[0m\u001b[0;34m)\u001b[0m\u001b[0;34m\u001b[0m\u001b[0m\n",
      "\u001b[0;32m~/Desktop/projet1/ML_higgs_project/features_engineering.py\u001b[0m in \u001b[0;36mnew_feature_PRI_jet_num\u001b[0;34m(x, value)\u001b[0m\n\u001b[1;32m    263\u001b[0m \u001b[0;34m\u001b[0m\u001b[0m\n\u001b[1;32m    264\u001b[0m     \u001b[0;32mfor\u001b[0m \u001b[0mi\u001b[0m \u001b[0;32min\u001b[0m \u001b[0mrange\u001b[0m\u001b[0;34m(\u001b[0m\u001b[0ml\u001b[0m\u001b[0;34m)\u001b[0m\u001b[0;34m:\u001b[0m\u001b[0;34m\u001b[0m\u001b[0m\n\u001b[0;32m--> 265\u001b[0;31m         \u001b[0;32mif\u001b[0m\u001b[0;34m(\u001b[0m\u001b[0mtx\u001b[0m\u001b[0;34m[\u001b[0m\u001b[0mi\u001b[0m\u001b[0;34m,\u001b[0m\u001b[0;36m22\u001b[0m\u001b[0;34m]\u001b[0m \u001b[0;34m==\u001b[0m \u001b[0mvalue\u001b[0m\u001b[0;34m)\u001b[0m\u001b[0;34m:\u001b[0m\u001b[0;34m\u001b[0m\u001b[0m\n\u001b[0m\u001b[1;32m    266\u001b[0m             \u001b[0;31m#tx0 = np.append(tx0, 1, axis=0)\u001b[0m\u001b[0;34m\u001b[0m\u001b[0;34m\u001b[0m\u001b[0m\n\u001b[1;32m    267\u001b[0m             \u001b[0mtx0\u001b[0m\u001b[0;34m[\u001b[0m\u001b[0mi\u001b[0m\u001b[0;34m]\u001b[0m \u001b[0;34m=\u001b[0m \u001b[0;36m1\u001b[0m\u001b[0;34m\u001b[0m\u001b[0m\n",
      "\u001b[0;31mIndexError\u001b[0m: index 22 is out of bounds for axis 1 with size 19"
     ]
    }
   ],
   "source": [
    "tx0 = new_feature_PRI_jet_num(tx, 0.0)\n",
    "tx1 = new_feature_PRI_jet_num(tx0, 1.0)\n",
    "tx2 = new_feature_PRI_jet_num(tx1, 2.0)\n",
    "tx3 = new_feature_PRI_jet_num(tx2, 3.0)\n",
    "tx_22_eng = tx3.copy()\n",
    "print(np.shape(tx_22_eng))"
   ]
  },
  {
   "cell_type": "markdown",
   "metadata": {},
   "source": [
    "### ajouter sin"
   ]
  },
  {
   "cell_type": "code",
   "execution_count": 34,
   "metadata": {},
   "outputs": [
    {
     "name": "stdout",
     "output_type": "stream",
     "text": [
      "(5000, 64)\n"
     ]
    }
   ],
   "source": [
    "features = list(range(30))\n",
    "tx_sin = transform_feature_sin(tx_22_eng, features)\n",
    "print(np.shape(tx_sin))"
   ]
  },
  {
   "cell_type": "markdown",
   "metadata": {},
   "source": [
    "### ajouter cos"
   ]
  },
  {
   "cell_type": "code",
   "execution_count": 35,
   "metadata": {},
   "outputs": [
    {
     "name": "stdout",
     "output_type": "stream",
     "text": [
      "(5000, 94)\n"
     ]
    }
   ],
   "source": [
    "features = list(range(30))\n",
    "tx_cos = transform_feature_cos(tx_sin, features)\n",
    "print(np.shape(tx_cos))"
   ]
  },
  {
   "cell_type": "markdown",
   "metadata": {},
   "source": [
    "### ajouter log"
   ]
  },
  {
   "cell_type": "code",
   "execution_count": 36,
   "metadata": {},
   "outputs": [
    {
     "name": "stdout",
     "output_type": "stream",
     "text": [
      "(5000, 124)\n"
     ]
    }
   ],
   "source": [
    "features = list(range(30))\n",
    "tx_log = transform_feature_log(tx_cos, features)\n",
    "print(np.shape(tx_log))"
   ]
  },
  {
   "cell_type": "markdown",
   "metadata": {},
   "source": [
    "### ajouter x^2"
   ]
  },
  {
   "cell_type": "code",
   "execution_count": 38,
   "metadata": {},
   "outputs": [
    {
     "name": "stdout",
     "output_type": "stream",
     "text": [
      "(5000, 154)\n"
     ]
    }
   ],
   "source": [
    "features = list(range(30))\n",
    "tx_pow2 = transform_feature_power(tx_log, features, 2)\n",
    "print(np.shape(tx_pow2))"
   ]
  },
  {
   "cell_type": "markdown",
   "metadata": {},
   "source": [
    "### ajouter x^3"
   ]
  },
  {
   "cell_type": "code",
   "execution_count": 39,
   "metadata": {},
   "outputs": [
    {
     "name": "stdout",
     "output_type": "stream",
     "text": [
      "(5000, 184)\n"
     ]
    }
   ],
   "source": [
    "features = list(range(30))\n",
    "tx_pow3 = transform_feature_power(tx_pow2, features, 3)\n",
    "print(np.shape(tx_pow3))"
   ]
  },
  {
   "cell_type": "markdown",
   "metadata": {},
   "source": [
    "### ajouter sqrt"
   ]
  },
  {
   "cell_type": "code",
   "execution_count": 45,
   "metadata": {},
   "outputs": [
    {
     "name": "stdout",
     "output_type": "stream",
     "text": [
      "(5000, 214)\n"
     ]
    }
   ],
   "source": [
    "features = list(range(30))\n",
    "tx_sqrt = transform_feature_sqrt(tx_pow3, features)\n",
    "print(np.shape(tx_sqrt))"
   ]
  },
  {
   "cell_type": "code",
   "execution_count": null,
   "metadata": {},
   "outputs": [],
   "source": []
  },
  {
   "cell_type": "markdown",
   "metadata": {},
   "source": [
    "### separate NAN patterns"
   ]
  },
  {
   "cell_type": "code",
   "execution_count": 86,
   "metadata": {},
   "outputs": [
    {
     "name": "stdout",
     "output_type": "stream",
     "text": [
      "[138.47  219.057  90.801 ... 142.347  78.162 130.042]\n",
      "(5000, 7)\n",
      "(5000, 3)\n",
      "(5000, 19)\n"
     ]
    }
   ],
   "source": [
    "X = tx.copy()\n",
    "\n",
    "#pattern1 -> feature 0\n",
    "features = [0]\n",
    "tx_pattern1 = X[:, 0]\n",
    "print(tx_pattern1)\n",
    "\n",
    "#pattern2 -> features 4,5,6,12,26,27,28\n",
    "features = [4,5,6,12,26,27,28]     \n",
    "tx_pattern2 = separate_nan_patterns(X, features)\n",
    "print(tx_pattern2.shape)\n",
    "\n",
    "#pattern3 -> features 23,24,25\n",
    "features = [23,24,25]\n",
    "tx_pattern3 = separate_nan_patterns(X, features)\n",
    "print(tx_pattern3.shape)\n",
    "\n",
    "#pattern4 -> features 1,2,3,7,8,9,10,11,13,14,15,16,17,18,19,20,21,22,26,29\n",
    "features = [1,2,3,7,8,9,10,11,13,14,15,16,17,18,19,20,21,22,29]\n",
    "tx_pattern4 = separate_nan_patterns(X, features)\n",
    "print(tx_pattern4.shape)"
   ]
  },
  {
   "cell_type": "markdown",
   "metadata": {},
   "source": [
    "#### -> there we have the 4 different patterns in matrices tx_pattern1, tx_pattern2, tx_pattern3, tx_pattern4"
   ]
  },
  {
   "cell_type": "markdown",
   "metadata": {},
   "source": [
    "### NAN values patterns"
   ]
  },
  {
   "cell_type": "code",
   "execution_count": 31,
   "metadata": {},
   "outputs": [
    {
     "data": {
      "image/png": "[encoded data removed]",
      "text/plain": [
       "<Figure size 360x720 with 1 Axes>"
      ]
     },
     "metadata": {},
     "output_type": "display_data"
    }
   ],
   "source": [
    "NAN_values_overview_matrix(tx, y)"
   ]
  },
  {
   "cell_type": "markdown",
   "metadata": {},
   "source": [
    "-> we can observe some (3 at all) different patterns of NAN values -> essayer de déterminer si ces values ont une corrélation avec le label:\n",
    "- pattern 1: feature 0: 16.8% NAN\n",
    "- pattern 2: features 4,5,6,12,26,27,28: 70.5 % NAN\n",
    "- pattern 3: features 23,24,25: 39.7% NAN"
   ]
  },
  {
   "cell_type": "code",
   "execution_count": 143,
   "metadata": {},
   "outputs": [
    {
     "data": {
      "text/plain": [
       "3525"
      ]
     },
     "execution_count": 143,
     "metadata": {},
     "output_type": "execute_result"
    }
   ],
   "source": [
    "np.count_nonzero(np.isnan(tx_nan[:,28]))"
   ]
  },
  {
   "cell_type": "code",
   "execution_count": 142,
   "metadata": {},
   "outputs": [
    {
     "name": "stdout",
     "output_type": "stream",
     "text": [
      "106\n"
     ]
    }
   ],
   "source": [
    "(l, c)= X.shape\n",
    "nb = 0\n",
    "for i in range(l):\n",
    "    if(np.isnan(X[i,0]) and ~np.isnan(X[i,28])) :\n",
    "        nb += 1\n",
    "print(nb)"
   ]
  },
  {
   "cell_type": "code",
   "execution_count": null,
   "metadata": {},
   "outputs": [],
   "source": []
  },
  {
   "cell_type": "markdown",
   "metadata": {},
   "source": [
    "### ajouter feature 22 "
   ]
  },
  {
   "cell_type": "code",
   "execution_count": 32,
   "metadata": {},
   "outputs": [
    {
     "name": "stdout",
     "output_type": "stream",
     "text": [
      "(5000, 34)\n"
     ]
    }
   ],
   "source": [
    "tx0 = new_feature_PRI_jet_num(tx, 0.0)\n",
    "tx1 = new_feature_PRI_jet_num(tx0, 1.0)\n",
    "tx2 = new_feature_PRI_jet_num(tx1, 2.0)\n",
    "tx3 = new_feature_PRI_jet_num(tx2, 3.0)\n",
    "tx_22_eng = tx3.copy()\n",
    "print(np.shape(tx_22_eng))"
   ]
  },
  {
   "cell_type": "markdown",
   "metadata": {},
   "source": [
    "### ajouter sin"
   ]
  },
  {
   "cell_type": "code",
   "execution_count": 34,
   "metadata": {},
   "outputs": [
    {
     "name": "stdout",
     "output_type": "stream",
     "text": [
      "(5000, 64)\n"
     ]
    }
   ],
   "source": [
    "features = list(range(30))\n",
    "tx_sin = transform_feature_sin(tx_22_eng, features)\n",
    "print(np.shape(tx_sin))"
   ]
  },
  {
   "cell_type": "markdown",
   "metadata": {},
   "source": [
    "### ajouter cos"
   ]
  },
  {
   "cell_type": "code",
   "execution_count": 35,
   "metadata": {},
   "outputs": [
    {
     "name": "stdout",
     "output_type": "stream",
     "text": [
      "(5000, 94)\n"
     ]
    }
   ],
   "source": [
    "features = list(range(30))\n",
    "tx_cos = transform_feature_cos(tx_sin, features)\n",
    "print(np.shape(tx_cos))"
   ]
  },
  {
   "cell_type": "markdown",
   "metadata": {},
   "source": [
    "### ajouter log"
   ]
  },
  {
   "cell_type": "code",
   "execution_count": 36,
   "metadata": {},
   "outputs": [
    {
     "name": "stdout",
     "output_type": "stream",
     "text": [
      "(5000, 124)\n"
     ]
    }
   ],
   "source": [
    "features = list(range(30))\n",
    "tx_log = transform_feature_log(tx_cos, features)\n",
    "print(np.shape(tx_log))"
   ]
  },
  {
   "cell_type": "markdown",
   "metadata": {},
   "source": [
    "### ajouter x^2"
   ]
  },
  {
   "cell_type": "code",
   "execution_count": 38,
   "metadata": {},
   "outputs": [
    {
     "name": "stdout",
     "output_type": "stream",
     "text": [
      "(5000, 154)\n"
     ]
    }
   ],
   "source": [
    "features = list(range(30))\n",
    "tx_pow2 = transform_feature_power(tx_log, features, 2)\n",
    "print(np.shape(tx_pow2))"
   ]
  },
  {
   "cell_type": "markdown",
   "metadata": {},
   "source": [
    "### ajouter x^3"
   ]
  },
  {
   "cell_type": "code",
   "execution_count": 39,
   "metadata": {},
   "outputs": [
    {
     "name": "stdout",
     "output_type": "stream",
     "text": [
      "(5000, 184)\n"
     ]
    }
   ],
   "source": [
    "features = list(range(30))\n",
    "tx_pow3 = transform_feature_power(tx_pow2, features, 3)\n",
    "print(np.shape(tx_pow3))"
   ]
  },
  {
   "cell_type": "markdown",
   "metadata": {},
   "source": [
    "### ajouter sqrt"
   ]
  },
  {
   "cell_type": "code",
   "execution_count": 45,
   "metadata": {},
   "outputs": [
    {
     "name": "stdout",
     "output_type": "stream",
     "text": [
      "(5000, 214)\n"
     ]
    }
   ],
   "source": [
    "features = list(range(30))\n",
    "tx_sqrt = transform_feature_sqrt(tx_pow3, features)\n",
    "print(np.shape(tx_sqrt))"
   ]
  },
  {
   "cell_type": "markdown",
   "metadata": {},
   "source": [
    "## sous-groupes selon patterns de NAN"
   ]
  },
  {
   "cell_type": "code",
   "execution_count": null,
   "metadata": {},
   "outputs": [],
   "source": []
  }
 ],
 "metadata": {
  "kernelspec": {
   "display_name": "Python 3",
   "language": "python",
   "name": "python3"
  },
  "language_info": {
   "codemirror_mode": {
    "name": "ipython",
    "version": 3
   },
   "file_extension": ".py",
   "mimetype": "text/x-python",
   "name": "python",
   "nbconvert_exporter": "python",
   "pygments_lexer": "ipython3",
   "version": "3.6.5"
  }
 },
 "nbformat": 4,
 "nbformat_minor": 2
}
