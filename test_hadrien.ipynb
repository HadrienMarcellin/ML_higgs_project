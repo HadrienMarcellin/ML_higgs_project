{
 "cells": [
  {
   "cell_type": "code",
   "execution_count": 308,
   "metadata": {},
   "outputs": [
    {
     "name": "stdout",
     "output_type": "stream",
     "text": [
      "The autoreload extension is already loaded. To reload it, use:\n",
      "  %reload_ext autoreload\n"
     ]
    }
   ],
   "source": [
    "import numpy as np\n",
    "import math\n",
    "import csv\n",
    "from proj1_helpers import *\n",
    "from Hadrien import *\n",
    "from ML_methods import *\n",
    "from features_engineering import *\n",
    "from correlation import *\n",
    "import matplotlib.pyplot as plt\n",
    "from NAN_Pattern_Decomposition import decompose_dataset_according_to_NAN_pattern\n",
    "from Train_set_preparation import *\n",
    "\n",
    "%load_ext autoreload\n",
    "%autoreload 2"
   ]
  },
  {
   "cell_type": "markdown",
   "metadata": {},
   "source": [
    "### load Data"
   ]
  },
  {
   "cell_type": "code",
   "execution_count": 2,
   "metadata": {},
   "outputs": [
    {
     "name": "stdout",
     "output_type": "stream",
     "text": [
      "y has shape (250000,)\n",
      "X has shape (250000, 30)\n"
     ]
    }
   ],
   "source": [
    "y, tx, ids = load_csv_data(\"data_csv/train.csv\", sub_sample=False)\n",
    "print(\"y has shape {0}\".format(y.shape))\n",
    "print(\"X has shape {0}\".format(tx.shape))"
   ]
  },
  {
   "cell_type": "markdown",
   "metadata": {},
   "source": [
    "# Divide Dataset according to NAN"
   ]
  },
  {
   "cell_type": "code",
   "execution_count": 3,
   "metadata": {},
   "outputs": [],
   "source": [
    "tx_nan = transform_to_nan(tx, -900)"
   ]
  },
  {
   "cell_type": "code",
   "execution_count": 4,
   "metadata": {},
   "outputs": [],
   "source": [
    "tx_less_22,  = transform_column_22_and_delete(tx_nan)"
   ]
  },
  {
   "cell_type": "code",
   "execution_count": 136,
   "metadata": {},
   "outputs": [],
   "source": [
    "p0_ind, p0, y0, p1_ind, p1, y1, p2_ind, p2, y2, p3_ind, p3, y3 = decompose_dataset_according_to_NAN_pattern(tx_nan, y)"
   ]
  },
  {
   "cell_type": "code",
   "execution_count": 223,
   "metadata": {},
   "outputs": [],
   "source": [
    "p0_22, mat0_22 = feature_22_to_matrix(p0)\n",
    "p1_22, mat1_22 = feature_22_to_matrix(p1)\n",
    "p2_22, mat2_22 = feature_22_to_matrix(p2)\n",
    "p3_22, mat3_22 = feature_22_to_matrix(p3)\n",
    "\n",
    "mat0_22[:,-2:], mean, std = standardize(mat0_22[:,-2:])\n",
    "mat1_22[:,-3:], mean, std = standardize(mat1_22[:,-3:])"
   ]
  },
  {
   "cell_type": "code",
   "execution_count": 138,
   "metadata": {},
   "outputs": [],
   "source": [
    "p0_processed = p0_22\n",
    "\n",
    "feature_nans_1 = [0]\n",
    "p1_processed = remove_constant_features(p1_22, feature_nans_1)\n",
    "\n",
    "feature_nans_2 = [4, 5, 6, 12, 22, 23, 24, 25, 26, 27]\n",
    "p2_processed = remove_constant_features(p2_22, feature_nans_2)\n",
    "\n",
    "feature_nans_3 = [4, 5, 6, 12, 25, 26, 27]\n",
    "p3_processed = remove_constant_features(p3_22, feature_nans_3)"
   ]
  },
  {
   "cell_type": "code",
   "execution_count": 139,
   "metadata": {},
   "outputs": [],
   "source": [
    "p0_nan_mean, p0_mean =transform_to_mean(p0_processed)\n",
    "p1_nan_mean, p1_mean =transform_to_mean(p1_processed)\n",
    "p2_nan_mean, p2_mean =transform_to_mean(p2_processed)\n",
    "p3_nan_mean, p3_mean =transform_to_mean(p3_processed)\n",
    "\n",
    "p0_nan_mean_moins = remove_constant_features(p0_nan_mean, [29, 30])\n",
    "p1_nan_mean_moins = remove_constant_features(p1_nan_mean, [])\n",
    "p2_nan_mean_moins = remove_constant_features(p2_nan_mean, [18, 19, 20, 21, 22])\n",
    "p3_nan_mean_moins = remove_constant_features(p3_nan_mean, [22, 23, 24, 25])"
   ]
  },
  {
   "cell_type": "markdown",
   "metadata": {},
   "source": [
    "## Feature engineering"
   ]
  },
  {
   "cell_type": "markdown",
   "metadata": {},
   "source": [
    "### P0"
   ]
  },
  {
   "cell_type": "code",
   "execution_count": 402,
   "metadata": {},
   "outputs": [],
   "source": [
    "feature0_square = [6]\n",
    "feature0_log = [0,1,2,3,5,6,8,10,13,16,19,22,25,28]\n",
    "feature0_cos = []\n",
    "feature0_sin = [11,12,17]\n",
    "feature0_sqrt = [4]\n",
    "\n",
    "p0_basic_transform, min_log0, min_sqrt0 = basic_features_process(p0_nan_mean_moins, \n",
    "                                                                 feature0_square, \n",
    "                                                                 feature0_log, \n",
    "                                                                 feature0_sin,\n",
    "                                                                 feature0_cos,\n",
    "                                                                 feature0_sqrt)"
   ]
  },
  {
   "cell_type": "markdown",
   "metadata": {},
   "source": [
    "### P1"
   ]
  },
  {
   "cell_type": "code",
   "execution_count": 403,
   "metadata": {},
   "outputs": [],
   "source": [
    "feature1_square = []\n",
    "feature1_log = [0,1,2,6,7,8,9,10,12,15,18,20,22,21,27]\n",
    "feature1_cos = []\n",
    "feature1_sin = []\n",
    "feature1_sqrt = []\n",
    "\n",
    "p1_basic_transform, min_log1, min_sqrt1 = basic_features_process(p1_nan_mean_moins, \n",
    "                                                                 feature1_square, \n",
    "                                                                 feature1_log, \n",
    "                                                                 feature1_sin,\n",
    "                                                                 feature1_cos,\n",
    "                                                                 feature1_sqrt)"
   ]
  },
  {
   "cell_type": "markdown",
   "metadata": {},
   "source": [
    "### P2"
   ]
  },
  {
   "cell_type": "code",
   "execution_count": 404,
   "metadata": {},
   "outputs": [],
   "source": [
    "feature2_square = []\n",
    "feature2_log = [0,2,3,5,6,9,12,15,17]\n",
    "feature2_cos = []\n",
    "feature2_sin = [8]\n",
    "feature2_sqrt = [4, 7]\n",
    "\n",
    "p2_basic_transform, min_log2, min_sqrt2 = basic_features_process(p2_nan_mean_moins, \n",
    "                                                                 feature2_square, \n",
    "                                                                 feature2_log, \n",
    "                                                                 feature2_sin,\n",
    "                                                                 feature2_cos,\n",
    "                                                                 feature2_sqrt)"
   ]
  },
  {
   "cell_type": "markdown",
   "metadata": {},
   "source": [
    "### P3"
   ]
  },
  {
   "cell_type": "code",
   "execution_count": 405,
   "metadata": {},
   "outputs": [],
   "source": [
    "feature3_square = []\n",
    "feature3_log = [0,2,3,6,7,9,12,15,17,18,21]\n",
    "feature3_cos = [4]\n",
    "feature3_sin = [8]\n",
    "feature3_sqrt = [1,5]\n",
    "\n",
    "p3_basic_transform, min_log3, min_sqrt3 = basic_features_process(p3_nan_mean_moins, \n",
    "                                                                 feature3_square, \n",
    "                                                                 feature3_log, \n",
    "                                                                 feature3_sin,\n",
    "                                                                 feature3_cos,\n",
    "                                                                 feature3_sqrt)"
   ]
  },
  {
   "cell_type": "markdown",
   "metadata": {},
   "source": [
    "# PCA"
   ]
  },
  {
   "cell_type": "code",
   "execution_count": 406,
   "metadata": {},
   "outputs": [],
   "source": [
    "def PCA(tx):\n",
    "    M0 = np.mean(tx, axis = 0)\n",
    "    tx_centered = tx - M0\n",
    "    V0 = np.cov(tx_centered.T)\n",
    "    values, vectors = np.linalg.eig(V0)\n",
    "    return vectors, values"
   ]
  },
  {
   "cell_type": "code",
   "execution_count": 429,
   "metadata": {},
   "outputs": [],
   "source": [
    "def transform_PCA_matrix_features0(tx, mat_22):\n",
    "    \n",
    "    nb_features = tx.shape[1]\n",
    "    \n",
    "    tx = create_product_with_vector(tx, 'all', mat_22[:,2])\n",
    "    tx = transform_feature_power(tx, list(range(nb_features)), 2, False)\n",
    "    tx = transform_feature_power(tx, list(range(nb_features)), 3, False)\n",
    "    tx = transform_feature_power(tx, list(range(nb_features)), 4, False)\n",
    "    tx = transform_feature_power(tx, list(range(nb_features)), 5, False)\n",
    "    tx = transform_feature_power(tx, list(range(nb_features)), 6, False)\n",
    "    tx = transform_feature_power(tx, list(range(nb_features)), 7, False)\n",
    "    tx = create_product_with_vector(tx, np.delete(list(range(29)), 2), tx[:,2])\n",
    "    tx = create_product_with_vector(tx, np.delete(list(range(29)), 3), tx[:,3])\n",
    "    tx = create_product_with_vector(tx, np.delete(list(range(29)), 4), tx[:,4])\n",
    "    tx = create_product_with_vector(tx, np.delete(list(range(29)), 6), tx[:,6])\n",
    "    \n",
    "    tx = add_first_feature_column(tx)\n",
    "    \n",
    "    return tx\n",
    "\n",
    "def transform_PCA_matrix_features1(tx, mat_22):\n",
    "    \n",
    "    nb_features = tx.shape[1]\n",
    "    \n",
    "    tx = create_product_with_vector(tx, 'all', mat_22[:,1])\n",
    "    tx = transform_feature_power(tx, list(range(nb_features)), 2, False)\n",
    "    tx = transform_feature_power(tx, list(range(nb_features)), 3, False)\n",
    "    tx = transform_feature_power(tx, list(range(nb_features)), 4, False)\n",
    "    tx = transform_feature_power(tx, list(range(nb_features)), 5, False)\n",
    "    tx = transform_feature_power(tx, list(range(nb_features)), 6, False)\n",
    "    tx = transform_feature_power(tx, list(range(nb_features)), 7, False)\n",
    "    tx = transform_feature_power(tx, list(range(nb_features)), 8, False)\n",
    "    \n",
    "    tx = add_first_feature_column(tx)\n",
    "    \n",
    "    return tx\n",
    "\n",
    "def transform_PCA_matrix_features2(tx):\n",
    "    \n",
    "    nb_features = tx.shape[1]\n",
    "    \n",
    "    tx = transform_feature_power(tx, list(range(nb_features)), 2, False)\n",
    "    tx = transform_feature_power(tx, list(range(nb_features)), 3, False)\n",
    "    tx = transform_feature_power(tx, list(range(nb_features)), 4, False)\n",
    "    tx = transform_feature_power(tx, list(range(nb_features)), 5, False)\n",
    "    tx = transform_feature_power(tx, list(range(nb_features)), 6, False)\n",
    "    tx = transform_feature_power(tx, list(range(nb_features)), 7, False)\n",
    "    \n",
    "    tx = create_product_with_vector(tx, np.delete(list(range(18)), 0), tx[:,0])\n",
    "    tx = create_product_with_vector(tx, np.delete(list(range(18)), 1), tx[:,1])\n",
    "    tx = create_product_with_vector(tx, np.delete(list(range(18)), 2), tx[:,2])\n",
    "    tx = create_product_with_vector(tx, np.delete(list(range(18)), 3), tx[:,3])\n",
    "    tx = add_first_feature_column(tx)\n",
    "    \n",
    "    return tx\n",
    "\n",
    "def transform_PCA_matrix_features3(tx):\n",
    "    \n",
    "    nb_features = tx.shape[1]\n",
    "    \n",
    "    tx = transform_feature_power(tx, list(range(nb_features)), 2, False)\n",
    "    tx = transform_feature_power(tx, list(range(nb_features)), 3, False)\n",
    "    tx = transform_feature_power(tx, list(range(nb_features)), 4, False)\n",
    "    tx = transform_feature_power(tx, list(range(nb_features)), 5, False)\n",
    "    tx = transform_feature_power(tx, list(range(nb_features)), 6, False)\n",
    "    tx = transform_feature_power(tx, list(range(nb_features)), 7, False)\n",
    "    tx = transform_feature_power(tx, list(range(nb_features)), 8, False)\n",
    "\n",
    "    \n",
    "    tx = create_product_with_vector(tx, np.delete(list(range(22)), 0), tx[:,0])\n",
    "    tx = create_product_with_vector(tx, np.delete(list(range(22)), [1, 3]), tx[:,1])\n",
    "    tx = create_product_with_vector(tx, np.delete(list(range(22)), [1, 3]), tx[:,3])\n",
    "    tx = create_product_with_vector(tx, np.delete(list(range(22)), 10), tx[:,9])\n",
    "    tx = add_first_feature_column(tx)\n",
    "    \n",
    "    return tx"
   ]
  },
  {
   "cell_type": "code",
   "execution_count": 408,
   "metadata": {},
   "outputs": [],
   "source": [
    "def correlation_matrix(corr):\n",
    "    from matplotlib import pyplot as plt\n",
    "    from matplotlib import cm as cm\n",
    "\n",
    "    fig = plt.figure()\n",
    "    ax1 = fig.add_subplot(111)\n",
    "    cmap = cm.get_cmap('jet', 30)\n",
    "    cax = ax1.imshow((np.abs(corr)), interpolation=\"nearest\", cmap=cmap)\n",
    "    ax1.grid(True)\n",
    "    plt.title('Abalone Feature Correlation')\n",
    "    #labels=['Sex','Length','Diam','Height','Whole','Shucked','Viscera','Shell','Rings',]\n",
    "    ax1.set_xticklabels(list(range(corr.shape[1])),fontsize=6)\n",
    "    ax1.set_yticklabels(list(range(corr.shape[1])),fontsize=6)\n",
    "    # Add colorbar, make sure to specify tick locations to match desired ticklabels\n",
    "    fig.colorbar(cax)\n",
    "    plt.show()"
   ]
  },
  {
   "cell_type": "markdown",
   "metadata": {},
   "source": [
    "### P0"
   ]
  },
  {
   "cell_type": "code",
   "execution_count": 409,
   "metadata": {},
   "outputs": [
    {
     "data": {
      "text/plain": [
       "(68114, 29)"
      ]
     },
     "execution_count": 409,
     "metadata": {},
     "output_type": "execute_result"
    }
   ],
   "source": [
    "p0_basic_transform.shape"
   ]
  },
  {
   "cell_type": "code",
   "execution_count": 410,
   "metadata": {
    "scrolled": true
   },
   "outputs": [],
   "source": [
    "vectors0, values0 = PCA(p0_basic_transform)"
   ]
  },
  {
   "cell_type": "markdown",
   "metadata": {},
   "source": [
    "We keep a subset of the projected features"
   ]
  },
  {
   "cell_type": "code",
   "execution_count": 411,
   "metadata": {},
   "outputs": [],
   "source": [
    "P0 = vectors0.T.dot(p0_basic_transform.T).T"
   ]
  },
  {
   "cell_type": "code",
   "execution_count": 414,
   "metadata": {},
   "outputs": [
    {
     "name": "stderr",
     "output_type": "stream",
     "text": [
      "/home/hadrien/ML/local/projects/project1/Train_set_preparation.py:14: FutureWarning: elementwise comparison failed; returning scalar instead, but in the future will perform elementwise comparison\n",
      "  if features == 'all':\n"
     ]
    }
   ],
   "source": [
    "P0_poly = transform_PCA_matrix_features0(P0, mat0_22)"
   ]
  },
  {
   "cell_type": "markdown",
   "metadata": {},
   "source": [
    "### P1"
   ]
  },
  {
   "cell_type": "code",
   "execution_count": 415,
   "metadata": {},
   "outputs": [],
   "source": [
    "vectors1, values1 = PCA(p1_basic_transform)"
   ]
  },
  {
   "cell_type": "code",
   "execution_count": 416,
   "metadata": {},
   "outputs": [],
   "source": [
    "P1 = vectors1.T.dot(p1_basic_transform.T).T"
   ]
  },
  {
   "cell_type": "code",
   "execution_count": 419,
   "metadata": {},
   "outputs": [],
   "source": [
    "P1_poly = transform_PCA_matrix_features1(P1, mat1_22)"
   ]
  },
  {
   "cell_type": "markdown",
   "metadata": {},
   "source": [
    "### P2"
   ]
  },
  {
   "cell_type": "code",
   "execution_count": 420,
   "metadata": {},
   "outputs": [],
   "source": [
    "vectors2, values2 = PCA(p2_basic_transform)"
   ]
  },
  {
   "cell_type": "code",
   "execution_count": 421,
   "metadata": {},
   "outputs": [],
   "source": [
    "P2 = vectors2.T.dot(p2_basic_transform.T).T"
   ]
  },
  {
   "cell_type": "code",
   "execution_count": 423,
   "metadata": {},
   "outputs": [
    {
     "name": "stderr",
     "output_type": "stream",
     "text": [
      "/home/hadrien/ML/local/projects/project1/Train_set_preparation.py:14: FutureWarning: elementwise comparison failed; returning scalar instead, but in the future will perform elementwise comparison\n",
      "  if features == 'all':\n"
     ]
    }
   ],
   "source": [
    "P2_poly = transform_PCA_matrix_features2(P2)"
   ]
  },
  {
   "cell_type": "markdown",
   "metadata": {},
   "source": [
    "### P3"
   ]
  },
  {
   "cell_type": "code",
   "execution_count": 424,
   "metadata": {},
   "outputs": [],
   "source": [
    "vectors3, values3 = PCA(p3_basic_transform)"
   ]
  },
  {
   "cell_type": "code",
   "execution_count": 425,
   "metadata": {},
   "outputs": [],
   "source": [
    "P3 = vectors3.T.dot(p3_basic_transform.T).T"
   ]
  },
  {
   "cell_type": "code",
   "execution_count": 426,
   "metadata": {},
   "outputs": [
    {
     "data": {
      "text/plain": [
       "(69982, 22)"
      ]
     },
     "execution_count": 426,
     "metadata": {},
     "output_type": "execute_result"
    }
   ],
   "source": [
    "P3.shape"
   ]
  },
  {
   "cell_type": "code",
   "execution_count": 430,
   "metadata": {},
   "outputs": [
    {
     "name": "stderr",
     "output_type": "stream",
     "text": [
      "/home/hadrien/ML/local/projects/project1/Train_set_preparation.py:14: FutureWarning: elementwise comparison failed; returning scalar instead, but in the future will perform elementwise comparison\n",
      "  if features == 'all':\n"
     ]
    }
   ],
   "source": [
    "P3_poly = transform_PCA_matrix_features3(P3)"
   ]
  },
  {
   "cell_type": "markdown",
   "metadata": {},
   "source": [
    "# TRAIN"
   ]
  },
  {
   "cell_type": "code",
   "execution_count": 431,
   "metadata": {},
   "outputs": [],
   "source": [
    "from train_model import *"
   ]
  },
  {
   "cell_type": "code",
   "execution_count": 432,
   "metadata": {},
   "outputs": [
    {
     "name": "stdout",
     "output_type": "stream",
     "text": [
      "P0 : (68114, 345)\n",
      "P1 : (38114, 253)\n",
      "P2 : (73790, 195)\n",
      "P3 : (69982, 259)\n"
     ]
    }
   ],
   "source": [
    "print(\"P0 : {0}\".format(P0_poly.shape))\n",
    "print(\"P1 : {0}\".format(P1_poly.shape))\n",
    "print(\"P2 : {0}\".format(P2_poly.shape))\n",
    "print(\"P3 : {0}\".format(P3_poly.shape))"
   ]
  },
  {
   "cell_type": "markdown",
   "metadata": {},
   "source": [
    "### P0"
   ]
  },
  {
   "cell_type": "code",
   "execution_count": 434,
   "metadata": {},
   "outputs": [
    {
     "name": "stdout",
     "output_type": "stream",
     "text": [
      "Ridge Resgression, Loss : 0.7, Lambda : 7.278953843983161\n"
     ]
    },
    {
     "data": {
      "image/png": "[encoded data removed]",
      "text/plain": [
       "<Figure size 720x360 with 1 Axes>"
      ]
     },
     "metadata": {},
     "output_type": "display_data"
    }
   ],
   "source": [
    "ridge_regression_exploration(y0, P0_poly, 0.8, np.logspace(-5, 5, 30))"
   ]
  },
  {
   "cell_type": "code",
   "execution_count": 435,
   "metadata": {},
   "outputs": [
    {
     "name": "stdout",
     "output_type": "stream",
     "text": [
      "Accuracy : 0.7718; Loss 0.6886\n",
      "Accuracy : 0.7682; Loss 0.6868\n",
      "Accuracy : 0.7696; Loss 0.6886\n",
      "Accuracy : 0.7792; Loss 0.6926\n",
      "Cross-Validation, Accuracy : 0.779; Loss 0.6908\n"
     ]
    }
   ],
   "source": [
    "ws0_ridge = ridge_regression_cross_validation(P0_poly, y0, 0.8, 4, 1e1)"
   ]
  },
  {
   "cell_type": "markdown",
   "metadata": {},
   "source": [
    "### P1"
   ]
  },
  {
   "cell_type": "code",
   "execution_count": 436,
   "metadata": {},
   "outputs": [
    {
     "name": "stdout",
     "output_type": "stream",
     "text": [
      "Ridge Resgression, Loss : 0.251, Lambda : 1000.0\n"
     ]
    },
    {
     "data": {
      "image/png": "[encoded data removed]",
      "text/plain": [
       "<Figure size 720x360 with 1 Axes>"
      ]
     },
     "metadata": {},
     "output_type": "display_data"
    }
   ],
   "source": [
    "ridge_regression_exploration(y1, P1_poly, 0.8, np.logspace(-4, 3, 20))"
   ]
  },
  {
   "cell_type": "code",
   "execution_count": 437,
   "metadata": {},
   "outputs": [
    {
     "name": "stdout",
     "output_type": "stream",
     "text": [
      "Accuracy : 0.9298; Loss 0.2427\n",
      "Accuracy : 0.9315; Loss 0.2444\n",
      "Accuracy : 0.9395; Loss 0.2512\n",
      "Accuracy : 0.9306; Loss 0.2433\n",
      "Cross-Validation, Accuracy : 0.9344; Loss 0.245\n"
     ]
    }
   ],
   "source": [
    "ws1_ridge = ridge_regression_cross_validation(P1_poly, y1, 0.8, 4, 1e2)"
   ]
  },
  {
   "cell_type": "markdown",
   "metadata": {},
   "source": [
    "### P2"
   ]
  },
  {
   "cell_type": "code",
   "execution_count": 438,
   "metadata": {},
   "outputs": [
    {
     "name": "stdout",
     "output_type": "stream",
     "text": [
      "Ridge Resgression, Loss : 0.592, Lambda : 29.76351441631316\n"
     ]
    },
    {
     "data": {
      "image/png": "[encoded data removed]",
      "text/plain": [
       "<Figure size 720x360 with 1 Axes>"
      ]
     },
     "metadata": {},
     "output_type": "display_data"
    }
   ],
   "source": [
    "ridge_regression_exploration(y2, P2_poly, 0.8, np.logspace(-2, 4, 20))"
   ]
  },
  {
   "cell_type": "code",
   "execution_count": 447,
   "metadata": {},
   "outputs": [
    {
     "name": "stdout",
     "output_type": "stream",
     "text": [
      "Accuracy : 0.7968; Loss 0.587\n",
      "Accuracy : 0.7987; Loss 0.5891\n",
      "Accuracy : 0.8017; Loss 0.5898\n",
      "Accuracy : 0.8044; Loss 0.5906\n",
      "Cross-Validation, Accuracy : 0.8006; Loss 0.6693\n"
     ]
    }
   ],
   "source": [
    "ws2_ridge = ridge_regression_cross_validation(P2_poly, y2, 0.8, 4, 16)"
   ]
  },
  {
   "cell_type": "markdown",
   "metadata": {},
   "source": [
    "### P3"
   ]
  },
  {
   "cell_type": "code",
   "execution_count": 448,
   "metadata": {},
   "outputs": [
    {
     "name": "stdout",
     "output_type": "stream",
     "text": [
      "Ridge Resgression, Loss : 0.726, Lambda : 112.88378916846884\n"
     ]
    },
    {
     "data": {
      "image/png": "[encoded data removed]",
      "text/plain": [
       "<Figure size 720x360 with 1 Axes>"
      ]
     },
     "metadata": {},
     "output_type": "display_data"
    }
   ],
   "source": [
    "ridge_regression_exploration(y3, P3_poly, 0.8, np.logspace(-3, 5, 20))"
   ]
  },
  {
   "cell_type": "code",
   "execution_count": 452,
   "metadata": {},
   "outputs": [
    {
     "name": "stdout",
     "output_type": "stream",
     "text": [
      "Accuracy : 0.7551; Loss 0.7067\n",
      "Accuracy : 0.7599; Loss 0.7081\n",
      "Accuracy : 0.7616; Loss 0.7108\n",
      "Accuracy : 0.762; Loss 0.7088\n",
      "Cross-Validation, Accuracy : 0.7535; Loss 0.7172\n"
     ]
    }
   ],
   "source": [
    "ws3_ridge = ridge_regression_cross_validation(P3_poly, y3, 0.8, 4, 1e-2)"
   ]
  },
  {
   "cell_type": "markdown",
   "metadata": {},
   "source": [
    "# TEST"
   ]
  },
  {
   "cell_type": "code",
   "execution_count": 453,
   "metadata": {},
   "outputs": [
    {
     "name": "stdout",
     "output_type": "stream",
     "text": [
      "y has shape (568238,)\n",
      "X has shape (568238, 30)\n"
     ]
    }
   ],
   "source": [
    "y_te, tx_te, ids_te = load_csv_data(\"data_csv/test.csv\", sub_sample=False)\n",
    "print(\"y has shape {0}\".format(y_te.shape))\n",
    "print(\"X has shape {0}\".format(tx_te.shape))"
   ]
  },
  {
   "cell_type": "code",
   "execution_count": 454,
   "metadata": {},
   "outputs": [],
   "source": [
    "tx_te_nan = transform_to_nan(tx_te, -900)\n",
    "tx_te_less_22  = transform_column_22_and_delete(tx_te_nan)\n",
    "p0_te_ind, p0_te, y0_te, p1_te_ind, p1_te, y1_te, p2_te_ind, p2_te, y2_te, p3_te_ind, p3_te, y3_te = decompose_dataset_according_to_NAN_pattern(tx_te_nan, y_te)"
   ]
  },
  {
   "cell_type": "code",
   "execution_count": 455,
   "metadata": {},
   "outputs": [],
   "source": [
    "p0_te_22, mat0_te_22 = feature_22_to_matrix(p0_te)\n",
    "p1_te_22, mat1_te_22 = feature_22_to_matrix(p1_te)\n",
    "p2_te_22, mat2_te_22 = feature_22_to_matrix(p2_te)\n",
    "p3_te_22, mat3_te_22 = feature_22_to_matrix(p3_te)\n",
    "\n",
    "mat0_te_22[:,-2:], mean, std = standardize(mat0_te_22[:,-2:])\n",
    "mat1_te_22[:,-3:], mean, std = standardize(mat1_te_22[:,-3:])"
   ]
  },
  {
   "cell_type": "code",
   "execution_count": 456,
   "metadata": {},
   "outputs": [
    {
     "data": {
      "text/plain": [
       "(155460, 29)"
      ]
     },
     "execution_count": 456,
     "metadata": {},
     "output_type": "execute_result"
    }
   ],
   "source": [
    "p0_te_22.shape"
   ]
  },
  {
   "cell_type": "code",
   "execution_count": 457,
   "metadata": {},
   "outputs": [],
   "source": [
    "p0_te_processed = p0_te_22\n",
    "\n",
    "feature_nans_1 = [0]\n",
    "p1_te_processed = remove_constant_features(p1_te_22, feature_nans_1)\n",
    "\n",
    "feature_nans_2 = [4, 5, 6, 12, 22, 23, 24, 25, 26, 27]\n",
    "p2_te_processed = remove_constant_features(p2_te_22, feature_nans_2)\n",
    "\n",
    "feature_nans_3 = [4, 5, 6, 12, 25, 26, 27]\n",
    "p3_te_processed = remove_constant_features(p3_te_22, feature_nans_3)"
   ]
  },
  {
   "cell_type": "code",
   "execution_count": 458,
   "metadata": {},
   "outputs": [],
   "source": [
    "p0_te_nan_mean = transform_feature_to_mean_given_training(p0_te_processed, p0_mean)\n",
    "p1_te_nan_mean = transform_feature_to_mean_given_training(p1_te_processed, p1_mean)\n",
    "p2_te_nan_mean = transform_feature_to_mean_given_training(p2_te_processed, p2_mean)\n",
    "p3_te_nan_mean = transform_feature_to_mean_given_training(p3_te_processed, p3_mean)\n",
    "\n",
    "p0_te_nan_mean_moins = remove_constant_features(p0_te_nan_mean, [29, 30])\n",
    "p1_te_nan_mean_moins = remove_constant_features(p1_te_nan_mean, [])\n",
    "p2_te_nan_mean_moins = remove_constant_features(p2_te_nan_mean, [18, 19, 20, 21, 22])\n",
    "p3_te_nan_mean_moins = remove_constant_features(p3_te_nan_mean, [22, 23, 24, 25])"
   ]
  },
  {
   "cell_type": "markdown",
   "metadata": {},
   "source": [
    "# Perform basic operations"
   ]
  },
  {
   "cell_type": "markdown",
   "metadata": {},
   "source": [
    "### P0"
   ]
  },
  {
   "cell_type": "code",
   "execution_count": 459,
   "metadata": {},
   "outputs": [],
   "source": [
    "p0_te_basic_transform, min_log0, min_sqrt0 = basic_features_process(p0_te_nan_mean_moins, \n",
    "                                                                 feature0_square, \n",
    "                                                                 feature0_log, \n",
    "                                                                 feature0_sin,\n",
    "                                                                 feature0_cos,\n",
    "                                                                 feature0_sqrt)"
   ]
  },
  {
   "cell_type": "markdown",
   "metadata": {},
   "source": [
    "### P1"
   ]
  },
  {
   "cell_type": "code",
   "execution_count": 460,
   "metadata": {},
   "outputs": [],
   "source": [
    "p1_te_basic_transform, min_log1, min_sqrt1 = basic_features_process(p1_te_nan_mean_moins, \n",
    "                                                                 feature1_square, \n",
    "                                                                 feature1_log, \n",
    "                                                                 feature1_sin,\n",
    "                                                                 feature1_cos,\n",
    "                                                                 feature1_sqrt)"
   ]
  },
  {
   "cell_type": "markdown",
   "metadata": {},
   "source": [
    "### P2"
   ]
  },
  {
   "cell_type": "code",
   "execution_count": 461,
   "metadata": {},
   "outputs": [],
   "source": [
    "p2_te_basic_transform, min_log2, min_sqrt2 = basic_features_process(p2_te_nan_mean_moins, \n",
    "                                                                 feature2_square, \n",
    "                                                                 feature2_log, \n",
    "                                                                 feature2_sin,\n",
    "                                                                 feature2_cos,\n",
    "                                                                 feature2_sqrt)"
   ]
  },
  {
   "cell_type": "markdown",
   "metadata": {},
   "source": [
    "### P3"
   ]
  },
  {
   "cell_type": "code",
   "execution_count": 462,
   "metadata": {},
   "outputs": [],
   "source": [
    "p3_te_basic_transform, min_log3, min_sqrt3 = basic_features_process(p3_te_nan_mean_moins, \n",
    "                                                                 feature3_square, \n",
    "                                                                 feature3_log, \n",
    "                                                                 feature3_sin,\n",
    "                                                                 feature3_cos,\n",
    "                                                                 feature3_sqrt)"
   ]
  },
  {
   "cell_type": "markdown",
   "metadata": {},
   "source": [
    "# Project on PCA"
   ]
  },
  {
   "cell_type": "code",
   "execution_count": 464,
   "metadata": {},
   "outputs": [
    {
     "name": "stderr",
     "output_type": "stream",
     "text": [
      "/home/hadrien/ML/local/projects/project1/Train_set_preparation.py:14: FutureWarning: elementwise comparison failed; returning scalar instead, but in the future will perform elementwise comparison\n",
      "  if features == 'all':\n"
     ]
    }
   ],
   "source": [
    "P0_te = vectors0.T.dot(p0_te_basic_transform.T).T\n",
    "\n",
    "P0_te_poly = transform_PCA_matrix_features0(P0_te, mat0_te_22)"
   ]
  },
  {
   "cell_type": "markdown",
   "metadata": {},
   "source": [
    "### P1"
   ]
  },
  {
   "cell_type": "code",
   "execution_count": 465,
   "metadata": {},
   "outputs": [],
   "source": [
    "P1_te = vectors1.T.dot(p1_te_basic_transform.T).T\n",
    "\n",
    "P1_te_poly = transform_PCA_matrix_features1(P1_te, mat1_te_22)"
   ]
  },
  {
   "cell_type": "markdown",
   "metadata": {},
   "source": [
    "### P2"
   ]
  },
  {
   "cell_type": "code",
   "execution_count": 466,
   "metadata": {},
   "outputs": [
    {
     "name": "stderr",
     "output_type": "stream",
     "text": [
      "/home/hadrien/ML/local/projects/project1/Train_set_preparation.py:14: FutureWarning: elementwise comparison failed; returning scalar instead, but in the future will perform elementwise comparison\n",
      "  if features == 'all':\n"
     ]
    }
   ],
   "source": [
    "P2_te = vectors2.T.dot(p2_te_basic_transform.T).T\n",
    "\n",
    "P2_te_poly = transform_PCA_matrix_features2(P2_te)"
   ]
  },
  {
   "cell_type": "markdown",
   "metadata": {},
   "source": [
    "### P3"
   ]
  },
  {
   "cell_type": "code",
   "execution_count": 467,
   "metadata": {},
   "outputs": [
    {
     "name": "stderr",
     "output_type": "stream",
     "text": [
      "/home/hadrien/ML/local/projects/project1/Train_set_preparation.py:14: FutureWarning: elementwise comparison failed; returning scalar instead, but in the future will perform elementwise comparison\n",
      "  if features == 'all':\n"
     ]
    }
   ],
   "source": [
    "P3_te = vectors3.T.dot(p3_te_basic_transform.T).T\n",
    "\n",
    "P3_te_poly = transform_PCA_matrix_features3(P3_te)"
   ]
  },
  {
   "cell_type": "markdown",
   "metadata": {},
   "source": [
    "# Predict"
   ]
  },
  {
   "cell_type": "code",
   "execution_count": 468,
   "metadata": {},
   "outputs": [],
   "source": [
    "labels0 = predict_labels(ws0_ridge, P0_te_poly)\n",
    "labels1 = predict_labels(ws1_ridge, P1_te_poly)\n",
    "labels2 = predict_labels(ws2_ridge, P2_te_poly)\n",
    "labels3 = predict_labels(ws3_ridge, P3_te_poly)\n",
    "\n",
    "labels = np.nan*np.zeros(tx_te.shape[0])\n",
    "labels[p0_ind_te] = labels0\n",
    "labels[p1_ind_te] = labels1\n",
    "labels[p2_ind_te] = labels2\n",
    "labels[p3_ind_te] = labels3"
   ]
  },
  {
   "cell_type": "code",
   "execution_count": 469,
   "metadata": {},
   "outputs": [
    {
     "data": {
      "text/plain": [
       "0"
      ]
     },
     "execution_count": 469,
     "metadata": {},
     "output_type": "execute_result"
    }
   ],
   "source": [
    "### check all values are assigned correctly\n",
    "np.count_nonzero(np.isnan(labels))"
   ]
  },
  {
   "cell_type": "markdown",
   "metadata": {},
   "source": [
    "# Create CSV"
   ]
  },
  {
   "cell_type": "code",
   "execution_count": 470,
   "metadata": {},
   "outputs": [
    {
     "name": "stdout",
     "output_type": "stream",
     "text": [
      "We have 71% non higgs samples, we aim for 65%.\n"
     ]
    }
   ],
   "source": [
    "### We aim to categorize that much sample as NON-HIGGS\n",
    "print(\"We have {0}% non higgs samples, we aim for 65%.\".format( round(np.count_nonzero(labels[labels == -1])/tx_te.shape[0]*100), 2))"
   ]
  },
  {
   "cell_type": "code",
   "execution_count": 472,
   "metadata": {},
   "outputs": [],
   "source": [
    "create_csv_submission(ids_te, labels, '12eme')"
   ]
  },
  {
   "cell_type": "code",
   "execution_count": null,
   "metadata": {},
   "outputs": [],
   "source": []
  }
 ],
 "metadata": {
  "kernelspec": {
   "display_name": "Python 3",
   "language": "python",
   "name": "python3"
  },
  "language_info": {
   "codemirror_mode": {
    "name": "ipython",
    "version": 3
   },
   "file_extension": ".py",
   "mimetype": "text/x-python",
   "name": "python",
   "nbconvert_exporter": "python",
   "pygments_lexer": "ipython3",
   "version": "3.6.5"
  }
 },
 "nbformat": 4,
 "nbformat_minor": 2
}
